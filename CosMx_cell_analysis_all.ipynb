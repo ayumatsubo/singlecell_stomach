{
 "cells": [
  {
   "cell_type": "code",
   "execution_count": null,
   "id": "f9db1c94",
   "metadata": {},
   "outputs": [],
   "source": [
    "# Load Giotto, data.table is also necessary for this example\n",
    "library(Giotto)\n",
    "#library(GiottoData)\n",
    "library(data.table)\n",
    "# add color palettes if you want!\n",
    "#library(rcartocolor)"
   ]
  },
  {
   "cell_type": "code",
   "execution_count": null,
   "id": "54b64ea8",
   "metadata": {},
   "outputs": [],
   "source": [
    "library(ggplot2)\n",
    "\n",
    "# Create data\n",
    "data <- rnorm(1000)"
   ]
  },
  {
   "cell_type": "code",
   "execution_count": null,
   "id": "50dafe11",
   "metadata": {},
   "outputs": [],
   "source": [
    "data <- as.data.frame(data)"
   ]
  },
  {
   "cell_type": "code",
   "execution_count": null,
   "id": "6106d14d",
   "metadata": {},
   "outputs": [],
   "source": [
    "options(repr.plot.width=7,repr.plot.height=7)\n",
    "# Plot histogram with ggplot2\n",
    "ggplot(data = data, aes(x = data)) +\n",
    "  geom_histogram(fill = \"blue\", color = \"black\", alpha = 0.5) +\n",
    "  labs(x = \"Data\", y = \"Count\") +\n",
    "  theme_classic()"
   ]
  },
  {
   "cell_type": "code",
   "execution_count": null,
   "id": "daa972b5",
   "metadata": {},
   "outputs": [],
   "source": [
    "dim(pDataDT(fov_join))"
   ]
  },
  {
   "cell_type": "code",
   "execution_count": null,
   "id": "3a1676a2",
   "metadata": {},
   "outputs": [],
   "source": [
    "counts <- get_expression_values(fov_join)@exprMat"
   ]
  },
  {
   "cell_type": "code",
   "execution_count": null,
   "id": "0b2bf851",
   "metadata": {
    "tags": []
   },
   "outputs": [],
   "source": [
    "neg_counts <- (counts[grepl(\"^Neg\",rownames(counts)),])"
   ]
  },
  {
   "cell_type": "code",
   "execution_count": null,
   "id": "3e9a479d",
   "metadata": {
    "tags": []
   },
   "outputs": [],
   "source": [
    "nonneg_counts <- (counts[!grepl(\"^Neg\",rownames(counts)),])"
   ]
  },
  {
   "cell_type": "code",
   "execution_count": null,
   "id": "9a7938f5",
   "metadata": {},
   "outputs": [],
   "source": [
    "dim(nonneg_counts)"
   ]
  },
  {
   "cell_type": "code",
   "execution_count": null,
   "id": "967883fb",
   "metadata": {},
   "outputs": [],
   "source": [
    "dim(neg_counts)"
   ]
  },
  {
   "cell_type": "code",
   "execution_count": null,
   "id": "733c62f2",
   "metadata": {},
   "outputs": [],
   "source": [
    "neg_sum <- apply(neg_counts,2,sum)"
   ]
  },
  {
   "cell_type": "code",
   "execution_count": null,
   "id": "bf18c356",
   "metadata": {},
   "outputs": [],
   "source": [
    "all_sum <- apply(counts,2,sum)"
   ]
  },
  {
   "cell_type": "code",
   "execution_count": null,
   "id": "004f63c6",
   "metadata": {},
   "outputs": [],
   "source": [
    "head(nonneg_sum)"
   ]
  },
  {
   "cell_type": "code",
   "execution_count": null,
   "id": "ea90a47f",
   "metadata": {},
   "outputs": [],
   "source": [
    "neg_sum <- as.data.frame(neg_sum)\n",
    "all_sum <- as.data.frame(all_sum)"
   ]
  },
  {
   "cell_type": "code",
   "execution_count": null,
   "id": "49136373",
   "metadata": {},
   "outputs": [],
   "source": [
    "data <- cbind(neg_sum,all_sum)"
   ]
  },
  {
   "cell_type": "code",
   "execution_count": null,
   "id": "0048aff3",
   "metadata": {},
   "outputs": [],
   "source": [
    "colnames(data) <- c('neg_probe', 'RNA')"
   ]
  },
  {
   "cell_type": "code",
   "execution_count": null,
   "id": "0724cae6",
   "metadata": {},
   "outputs": [],
   "source": [
    "library(dplyr)"
   ]
  },
  {
   "cell_type": "code",
   "execution_count": null,
   "id": "dc016e19",
   "metadata": {},
   "outputs": [],
   "source": [
    "head(data)"
   ]
  },
  {
   "cell_type": "code",
   "execution_count": null,
   "id": "f13a69cd",
   "metadata": {},
   "outputs": [],
   "source": []
  },
  {
   "cell_type": "code",
   "execution_count": null,
   "id": "f0e9a579",
   "metadata": {},
   "outputs": [],
   "source": [
    "head(data)"
   ]
  },
  {
   "cell_type": "code",
   "execution_count": null,
   "id": "1df2c2ef",
   "metadata": {},
   "outputs": [],
   "source": [
    "options(repr.plot.width=5,repr.plot.height=3)\n",
    "ggplot(data, aes(x=RNA, fill=\"RNA\")) +\n",
    "  geom_histogram(bins=100, alpha=0.5, fill = 'blue', color='black', size=0.3, show.legend = TRUE) +\n",
    "  geom_histogram(aes(x=neg_probe, fill=\"neg_probe\"), fill = 'red', alpha=1, bins=150) +\n",
    "  scale_fill_brewer()+\n",
    "  theme_classic() +\n",
    "  scale_y_log10() +\n",
    "  ggtitle(\"Histograms\")"
   ]
  },
  {
   "cell_type": "code",
   "execution_count": null,
   "id": "64561604",
   "metadata": {},
   "outputs": [],
   "source": [
    "options(repr.plot.width=5,repr.plot.height=3)\n",
    "ggplot(data, aes(x=RNA, fill=\"RNA\")) +\n",
    "  geom_histogram(bins=100, alpha=0.5, fill = 'blue', color='black', size=0.3, show.legend = TRUE) +\n",
    "  geom_histogram(aes(x=neg_probe, fill=\"neg_probe\"), fill = 'red', alpha=1, bins=150) +\n",
    "  scale_fill_brewer()+\n",
    "  theme_classic() +\n",
    "  scale_y_log10() +\n",
    "  ggtitle(\"Histograms\")"
   ]
  },
  {
   "cell_type": "code",
   "execution_count": null,
   "id": "f7b64482",
   "metadata": {},
   "outputs": [],
   "source": [
    "options(repr.plot.width=3,repr.plot.height=3)\n",
    "ggplot(data, aes(x=neg_probe, fill=\"neg_probe\", color='neg_probe')) +\n",
    "  geom_histogram(bins=70, alpha=0.3, fill = 'red',color='white', size=0.01) +\n",
    "  geom_histogram(aes(x=RNA, fill=\"RNA\",color='RNA'), fill = 'blue', color='white',size=0.1, alpha=0.3, bins=70) +\n",
    "  scale_fill_brewer()+\n",
    "  theme_classic() +\n",
    "  scale_y_log10() +\n",
    "  labs(x = \"total features per cell\", y = \"log10 count\")"
   ]
  },
  {
   "cell_type": "code",
   "execution_count": null,
   "id": "92c34c5f",
   "metadata": {},
   "outputs": [],
   "source": [
    "# Plot histograms\n",
    "options(repr.plot.width=3,repr.plot.height=3)\n",
    "ggplot() +\n",
    "  geom_histogram(data = data, aes(x = RNA, fill=RNA), fill = \"blue\", color='black', alpha = 0.5, bins=100) +\n",
    "  geom_histogram(data = data, aes(x = neg_probe, fill=neg_probe), fill = \"red\", alpha = 1,bins=150) +\n",
    "  labs(x = \"Data\", y = \"Count\") +\n",
    "  scale_fill_discrete(name=\"\") +\n",
    "  guides(fill=guide_legend(keywidth=1, keyheight=1))+\n",
    "  theme_classic()"
   ]
  },
  {
   "cell_type": "code",
   "execution_count": null,
   "id": "388ef6af",
   "metadata": {},
   "outputs": [],
   "source": [
    "packageVersion('Giotto')"
   ]
  },
  {
   "cell_type": "code",
   "execution_count": null,
   "id": "24710972",
   "metadata": {},
   "outputs": [],
   "source": [
    "library(terra)"
   ]
  },
  {
   "cell_type": "code",
   "execution_count": null,
   "id": "28390e08",
   "metadata": {},
   "outputs": [],
   "source": [
    "results_folder = '/home/tsubosaka/cosmx_results/'"
   ]
  },
  {
   "cell_type": "code",
   "execution_count": null,
   "id": "690ca1d6",
   "metadata": {},
   "outputs": [],
   "source": [
    "1+1"
   ]
  },
  {
   "cell_type": "code",
   "execution_count": null,
   "id": "78dac6ce",
   "metadata": {},
   "outputs": [],
   "source": [
    "# set giotto python path\n",
    "# set python path to your preferred python version path\n",
    "# set python path to NULL if you want to automatically install (only the 1st time) and use the giotto miniconda environment\n",
    "python_path = NULL\n",
    "#if(is.null(python_path)) {\n",
    " # installGiottoEnvironment(force_environment = TRUE)\n",
    "#}\n",
    "\n",
    "\n",
    "## create instructions\n",
    "# by directly saving plots, but not rendering them you will save a lot of time\n",
    "instrs = createGiottoInstructions(save_dir = results_folder, dpi = 350,\n",
    "                                  save_plot = TRUE,\n",
    "                                  show_plot = TRUE,\n",
    "                                  return_plot = FALSE,\n",
    "                                 plot_format = 'png')"
   ]
  },
  {
   "cell_type": "markdown",
   "id": "57f0b558",
   "metadata": {
    "tags": []
   },
   "source": [
    "# Data load1"
   ]
  },
  {
   "cell_type": "markdown",
   "id": "d0b235ce",
   "metadata": {
    "tags": []
   },
   "source": [
    "## Choose field of view for analysis\n",
    "## before ver 3.0"
   ]
  },
  {
   "cell_type": "code",
   "execution_count": null,
   "id": "bb58db65",
   "metadata": {},
   "outputs": [],
   "source": [
    "## provide path to nanostring folder\n",
    "data_path = '/home/tsubosaka/5006/'\n",
    "\n",
    "# load transcript coordinates\n",
    "tx_coord_all = fread(paste0(data_path, 'Run5458_5006_tx_file.csv'))\n",
    "\n",
    "#  load field of vision (fov) positions\n",
    "fov_offset_file = fread(paste0(data_path, 'Run5458_5006_fov_positions_file.csv'))"
   ]
  },
  {
   "cell_type": "code",
   "execution_count": null,
   "id": "4162a6f9",
   "metadata": {},
   "outputs": [],
   "source": [
    "gobjects_list = list()\n",
    "\n",
    "# select which FOV's you would like to work with\n",
    "# the dataset includes 28, which is too much for most computers to handle at once.\n",
    "#For this example I am using 02, 03, and 04\n",
    "id_set = c('01','02','03','04','05','06','07','08','09','10','11','12','13','14','15','16','17','18','19','20','21','22','23','24')"
   ]
  },
  {
   "cell_type": "markdown",
   "id": "4d852de1",
   "metadata": {
    "tags": []
   },
   "source": [
    "##### 3. Create a Giotto Object for each FOV"
   ]
  },
  {
   "cell_type": "code",
   "execution_count": null,
   "id": "0c3c42e7",
   "metadata": {
    "scrolled": true,
    "tags": []
   },
   "outputs": [],
   "source": [
    "for(fov_i in 1:length(id_set)) {\n",
    "\n",
    "  fov_id = id_set[fov_i]\n",
    "\n",
    "\n",
    "  # 1. original composite image as png\n",
    "  original_composite_image = paste0(data_path, 'CellComposite/CellComposite_F0', fov_id,'.jpg')\n",
    "\n",
    "  # 2. input cell segmentation as mask file\n",
    "  segmentation_mask = paste0(data_path, 'CellLabels/CellLabels_F0', fov_id, '.tif')\n",
    "\n",
    "  # 3. input features coordinates + offset\n",
    "  tx_coord = tx_coord_all[fov == as.numeric(fov_id)]\n",
    "  tx_coord = tx_coord[,.(x_local_px, y_local_px, z, target)]\n",
    "  colnames(tx_coord) = c('x', 'y', 'z', 'gene_id')\n",
    "  tx_coord = tx_coord[,.(x, y, gene_id)]\n",
    "\n",
    "\n",
    "  fovsubset = createGiottoObjectSubcellular(gpoints = list('rna' = tx_coord),\n",
    "                                            gpolygons = list('cell' = segmentation_mask),\n",
    "                                            polygon_mask_list_params = list(mask_method = 'guess',\n",
    "                                                                            flip_vertical = TRUE,\n",
    "                                                                            flip_horizontal = FALSE,\n",
    "                                                                            shift_horizontal_step = FALSE),\n",
    "                                            instructions = instrs)\n",
    "\n",
    "\n",
    "  # centroids are now used to provide the spatial locations (centroid of each cell)\n",
    "  fovsubset = addSpatialCentroidLocations(fovsubset,\n",
    "                                          poly_info = 'cell')\n",
    "\n",
    "  # create and add Giotto images\n",
    "  composite = createGiottoLargeImage(raster_object = original_composite_image,\n",
    "                                     negative_y = FALSE,\n",
    "                                     name = 'composite')\n",
    "\n",
    "  fovsubset = addGiottoImage(gobject = fovsubset,\n",
    "                             largeImages = list(composite))\n",
    "\n",
    "\n",
    "  fovsubset = convertGiottoLargeImageToMG(giottoLargeImage = composite,\n",
    "                                          #mg_name = 'composite',\n",
    "                                          gobject = fovsubset,\n",
    "                                          return_gobject = TRUE)\n",
    "\n",
    "  gobjects_list[[fov_i]] = fovsubset\n",
    "\n",
    "\n",
    "}"
   ]
  },
  {
   "cell_type": "markdown",
   "id": "de66fc9e",
   "metadata": {
    "tags": []
   },
   "source": [
    "##### 4. Join Giotto Objects"
   ]
  },
  {
   "cell_type": "code",
   "execution_count": null,
   "id": "c4c4b27a",
   "metadata": {
    "scrolled": true,
    "tags": []
   },
   "outputs": [],
   "source": [
    "new_names = paste0(\"fov0\", id_set)\n",
    "\n",
    "id_match = match(as.numeric(id_set), fov_offset_file$fov)\n",
    "x_shifts = fov_offset_file[id_match]$x_global_px\n",
    "y_shifts = fov_offset_file[id_match]$y_global_px\n",
    "\n",
    "# Create Giotto object that includes all selected FOVs\n",
    "fov_join = joinGiottoObjects(gobject_list = gobjects_list,\n",
    "                             gobject_names = new_names,\n",
    "                             join_method = 'shift',\n",
    "                             x_shift = x_shifts,\n",
    "                             y_shift = y_shifts)"
   ]
  },
  {
   "cell_type": "code",
   "execution_count": null,
   "id": "ebe71946",
   "metadata": {
    "tags": []
   },
   "outputs": [],
   "source": [
    "showGiottoImageNames(fov_join)\n",
    "options(repr.plot.width=21, repr.plot.height=21)\n",
    "# Set up vector of image names\n",
    "id_set = c('1','2','3','4','5','6','7','8','9','10','11','12','13','14','15','16','17','18','19','20','21','22','23','24')\n",
    "new_names = paste0(\"fov0\", id_set)\n",
    "image_names = paste0(new_names, '-image')"
   ]
  },
  {
   "cell_type": "markdown",
   "id": "859acfb4",
   "metadata": {
    "tags": []
   },
   "source": [
    "##### 2'-4' additional data"
   ]
  },
  {
   "cell_type": "code",
   "execution_count": null,
   "id": "ba37845d",
   "metadata": {},
   "outputs": [],
   "source": [
    "## provide path to nanostring folder\n",
    "data_path2 = '/home/tsubosaka/0507/'\n",
    "\n",
    "# load transcript coordinates\n",
    "tx_coord_all2 = fread(paste0(data_path2, 'Run5458_0507_tx_file.csv'))\n",
    "\n",
    "#  load field of vision (fov) positions\n",
    "fov_offset_file2 = fread(paste0(data_path2, 'Run5458_0507_fov_positions_file.csv'))"
   ]
  },
  {
   "cell_type": "code",
   "execution_count": null,
   "id": "81494867",
   "metadata": {},
   "outputs": [],
   "source": [
    "gobjects_list2 = list()\n",
    "\n",
    "# select which FOV's you would like to work with\n",
    "# the dataset includes 28, which is too much for most computers to handle at once.\n",
    "#For this example I am using 02, 03, and 04\n",
    "id_set2 = c('01','02','03','04','05','06','07','08','09','10','11','12','13','14','15','16','17','18','19','20','21','22','23')"
   ]
  },
  {
   "cell_type": "code",
   "execution_count": null,
   "id": "836e5ca0",
   "metadata": {
    "scrolled": true,
    "tags": []
   },
   "outputs": [],
   "source": [
    "for(fov_i in 1:length(id_set2)) {\n",
    "\n",
    "  fov_id2 = id_set2[fov_i]\n",
    "\n",
    "\n",
    "  # 1. original composite image as png\n",
    "  original_composite_image = paste0(data_path2, 'CellComposite/CellComposite_F0', fov_id2,'.jpg')\n",
    "\n",
    "  # 2. input cell segmentation as mask file\n",
    "  segmentation_mask = paste0(data_path2, 'CellLabels/CellLabels_F0', fov_id2, '.tif')\n",
    "\n",
    "  # 3. input features coordinates + offset\n",
    "  tx_coord = tx_coord_all[fov == as.numeric(fov_id2)]\n",
    "  tx_coord = tx_coord[,.(x_local_px, y_local_px, z, target)]\n",
    "  colnames(tx_coord) = c('x', 'y', 'z', 'gene_id')\n",
    "  tx_coord = tx_coord[,.(x, y, gene_id)]\n",
    "\n",
    "\n",
    "  fovsubset = createGiottoObjectSubcellular(gpoints = list('rna' = tx_coord),cores = 2,\n",
    "                                            gpolygons = list('cell' = segmentation_mask),\n",
    "                                            polygon_mask_list_params = list(mask_method = 'guess',\n",
    "                                                                            flip_vertical = TRUE,\n",
    "                                                                            flip_horizontal = FALSE,\n",
    "                                                                            shift_horizontal_step = FALSE),\n",
    "                                            instructions = instrs)\n",
    "\n",
    "\n",
    "  # centroids are now used to provide the spatial locations (centroid of each cell)\n",
    "  fovsubset = addSpatialCentroidLocations(fovsubset,\n",
    "                                          poly_info = 'cell')\n",
    "\n",
    "  # create and add Giotto images\n",
    "  composite = createGiottoLargeImage(raster_object = original_composite_image,\n",
    "                                     negative_y = FALSE,\n",
    "                                     name = 'composite')\n",
    "\n",
    "  fovsubset = addGiottoImage(gobject = fovsubset,\n",
    "                             largeImages = list(composite))\n",
    "\n",
    "\n",
    "  fovsubset = convertGiottoLargeImageToMG(giottoLargeImage = composite,\n",
    "                                          #mg_name = 'composite',\n",
    "                                          gobject = fovsubset,\n",
    "                                          return_gobject = TRUE)\n",
    "\n",
    "  gobjects_list2[[fov_i]] = fovsubset\n",
    "\n",
    "\n",
    "}"
   ]
  },
  {
   "cell_type": "code",
   "execution_count": null,
   "id": "484a56df",
   "metadata": {
    "scrolled": true
   },
   "outputs": [],
   "source": [
    "new_names2 = paste0(\"fov0\", id_set2)\n",
    "\n",
    "id_match2 = match(as.numeric(id_set2), fov_offset_file2$fov)\n",
    "x_shifts2 = fov_offset_file2[id_match2]$x_global_px\n",
    "y_shifts2 = fov_offset_file2[id_match2]$y_global_px"
   ]
  },
  {
   "cell_type": "code",
   "execution_count": null,
   "id": "daa965d1",
   "metadata": {
    "tags": []
   },
   "outputs": [],
   "source": [
    "# Create Giotto object that includes all selected FOVs\n",
    "fov_join2 = joinGiottoObjects(gobject_list = gobjects_list2,\n",
    "                             gobject_names = new_names2,\n",
    "                             join_method = 'shift',\n",
    "                             x_shift = x_shifts2,\n",
    "                             y_shift = y_shifts2)"
   ]
  },
  {
   "cell_type": "code",
   "execution_count": null,
   "id": "7751534a",
   "metadata": {
    "tags": []
   },
   "outputs": [],
   "source": [
    "showGiottoImageNames(fov_join2)\n",
    "options(repr.plot.width=21, repr.plot.height=21)\n",
    "# Set up vector of image names\n",
    "id_set2 = c('1','2','3','4','5','6','7','8','9','10','11','12','13','14','15','16','17','18','19','20','21','22','23')\n",
    "new_names2 = paste0(\"fov0\", id_set2)\n",
    "image_names2 = paste0(new_names2, '-image')"
   ]
  },
  {
   "cell_type": "markdown",
   "id": "3a0cba3d",
   "metadata": {
    "tags": []
   },
   "source": [
    "# Data load new \n",
    "## after ver 3.0"
   ]
  },
  {
   "cell_type": "code",
   "execution_count": null,
   "id": "191a275e",
   "metadata": {
    "tags": []
   },
   "outputs": [],
   "source": [
    "# Fundic gland\n",
    "data_path = '/data/share/spatial//CosMX//normal_stomach//tsubosaka//FinalAnalysis//Run5458_5006/'"
   ]
  },
  {
   "cell_type": "code",
   "execution_count": null,
   "id": "70dd2161",
   "metadata": {},
   "outputs": [],
   "source": [
    "data_path"
   ]
  },
  {
   "cell_type": "code",
   "execution_count": null,
   "id": "ace3baae",
   "metadata": {
    "tags": []
   },
   "outputs": [],
   "source": [
    "fov_join <- createGiottoCosMxObject(cosmx_dir = data_path,data_to_use = 'subcellular', instructions = instrs, cores = 4)"
   ]
  },
  {
   "cell_type": "code",
   "execution_count": null,
   "id": "68661db1",
   "metadata": {},
   "outputs": [],
   "source": [
    "# Pyloric gland\n",
    "data_path2 = '/data/share/spatial/CosMX/normal_stomach/tsubosaka/FinalAnalysis/Run5458_0507/'"
   ]
  },
  {
   "cell_type": "code",
   "execution_count": null,
   "id": "e3a62b87",
   "metadata": {
    "tags": []
   },
   "outputs": [],
   "source": [
    "fov_join2 <- createGiottoCosMxObject(cosmx_dir = data_path2,data_to_use = 'subcellular',instructions = instrs, cores = 4)"
   ]
  },
  {
   "cell_type": "code",
   "execution_count": null,
   "id": "b7528fbf",
   "metadata": {},
   "outputs": [],
   "source": [
    "fov_join@feat_info"
   ]
  },
  {
   "cell_type": "markdown",
   "id": "86715711",
   "metadata": {},
   "source": [
    "# join"
   ]
  },
  {
   "cell_type": "markdown",
   "id": "0e90e9f8",
   "metadata": {},
   "source": [
    "fov_join = loadGiotto('./saveGiottoDir_final_before_submission/')"
   ]
  },
  {
   "cell_type": "code",
   "execution_count": null,
   "id": "6201b4f2",
   "metadata": {
    "tags": []
   },
   "outputs": [],
   "source": [
    "# integration\n",
    "fov_join = joinGiottoObjects(gobject_list = list(fov_join2, fov_join),\n",
    "                                gobject_names = c('Pyloric','Fundic'),\n",
    "                                join_method='no_change'\n",
    "                                )"
   ]
  },
  {
   "cell_type": "code",
   "execution_count": null,
   "id": "f0d53766",
   "metadata": {},
   "outputs": [],
   "source": []
  },
  {
   "cell_type": "code",
   "execution_count": null,
   "id": "28319a24",
   "metadata": {
    "tags": []
   },
   "outputs": [],
   "source": [
    "fov_join = calculateOverlapRaster(fov_join)\n",
    "\n",
    "fov_join = overlapToMatrix(fov_join)\n",
    "\n",
    "showGiottoExpression(fov_join)\n",
    "\n",
    "# combine cell data\n",
    "morphometa = combineCellData(fov_join,\n",
    "                             feat_type = 'rna')\n",
    "\n",
    "# combine feature data\n",
    "featmeta = combineFeatureData(fov_join,\n",
    "                              feat_type = c('rna'))\n",
    "\n",
    "# combine overlapping feature data\n",
    "featoverlapmeta = combineFeatureOverlapData(fov_join,\n",
    "                                            feat_type = c('rna'))"
   ]
  },
  {
   "cell_type": "code",
   "execution_count": null,
   "id": "d2bfd3bd",
   "metadata": {},
   "outputs": [],
   "source": [
    "fov_join@feat_info$rna"
   ]
  },
  {
   "cell_type": "code",
   "execution_count": null,
   "id": "04cf9a4d",
   "metadata": {},
   "outputs": [],
   "source": [
    "1+1"
   ]
  },
  {
   "cell_type": "code",
   "execution_count": null,
   "id": "b5c6985d",
   "metadata": {},
   "outputs": [],
   "source": [
    "fov_join = calculateOverlapRaster(fov_join, feat_info = 'neg_probe')"
   ]
  },
  {
   "cell_type": "code",
   "execution_count": null,
   "id": "c6212b93",
   "metadata": {},
   "outputs": [],
   "source": [
    "# Find the feature points overlapped by polygons. This overlap information is then\n",
    "# returned to the relevant giottoPolygon object's overlaps slot.\n",
    "\n",
    "# Convert the overlap information into a cell by feature expression matrix which\n",
    "# is then stored in the Giotto object's expression slot\n",
    "fov_join = overlapToMatrix(fov_join, feat_info = 'rna')\n",
    "fov_join = overlapToMatrix(fov_join, feat_info = 'neg_probe')"
   ]
  },
  {
   "cell_type": "code",
   "execution_count": null,
   "id": "eefcbdb0",
   "metadata": {},
   "outputs": [],
   "source": [
    "showGiottoExpression(fov_join)"
   ]
  },
  {
   "cell_type": "code",
   "execution_count": null,
   "id": "a2697ce4",
   "metadata": {},
   "outputs": [],
   "source": []
  },
  {
   "cell_type": "code",
   "execution_count": null,
   "id": "177234a0",
   "metadata": {},
   "outputs": [],
   "source": [
    "options(repr.plot.width=5,repr.plot.height=3)\n",
    "p1 <- filterDistributions(fov_join,\n",
    "                    plot_type = 'hist',\n",
    "                    detection = 'cells',\n",
    "                    method = 'sum',\n",
    "                    feat_type = 'rna',\n",
    "                    nr_bins = 100,\n",
    "                    save_param = list(base_height = 3,\n",
    "                                      save_name = '3.1_totalexpr'))\n",
    "\n",
    "p2 <- filterDistributions(fov_join,return_plot = TRUE,\n",
    "                    plot_type = 'hist',\n",
    "                    detection = 'cells',\n",
    "                    method = 'sum',\n",
    "                    feat_type = 'neg_probe',\n",
    "                    nr_bins = 25,\n",
    "                    save_param = list(base_height = 3,\n",
    "                                      save_name = '3.2_totalnegprbe'))"
   ]
  },
  {
   "cell_type": "code",
   "execution_count": null,
   "id": "2e9c98d2",
   "metadata": {},
   "outputs": [],
   "source": [
    "table(pDataDT(fov_join)$site)"
   ]
  },
  {
   "cell_type": "code",
   "execution_count": null,
   "id": "2db026fb",
   "metadata": {},
   "outputs": [],
   "source": [
    "table(pDataDT(fov_join)$list_ID)"
   ]
  },
  {
   "cell_type": "markdown",
   "id": "599aea1d",
   "metadata": {},
   "source": [
    "### add metadata (immunofluorscence and cell size, cell asepct ratio data)"
   ]
  },
  {
   "cell_type": "code",
   "execution_count": null,
   "id": "1885023a",
   "metadata": {},
   "outputs": [],
   "source": [
    "data_path = '/home/tsubosaka/5006/'"
   ]
  },
  {
   "cell_type": "code",
   "execution_count": null,
   "id": "ccea4ccc",
   "metadata": {},
   "outputs": [],
   "source": [
    "#  load field of vision (fov) positions\n",
    "metadata_file_5006 = fread(paste0(data_path, 'Run5458_5006_metadata_file.csv'))"
   ]
  },
  {
   "cell_type": "code",
   "execution_count": null,
   "id": "bd552afc",
   "metadata": {},
   "outputs": [],
   "source": [
    "data_path2 = '/home/tsubosaka/0507/'"
   ]
  },
  {
   "cell_type": "code",
   "execution_count": null,
   "id": "419526cd",
   "metadata": {},
   "outputs": [],
   "source": [
    "#  load field of vision (fov) positions\n",
    "metadata_file_0507 = fread(paste0(data_path2, 'Run5458_0507_metadata_file.csv'))"
   ]
  },
  {
   "cell_type": "code",
   "execution_count": null,
   "id": "638b07f8",
   "metadata": {},
   "outputs": [],
   "source": [
    "metadata_file_5006 = as.data.frame(metadata_file_5006)\n",
    "metadata_file_0507 = as.data.frame(metadata_file_0507)"
   ]
  },
  {
   "cell_type": "code",
   "execution_count": null,
   "id": "5f40a0e8",
   "metadata": {},
   "outputs": [],
   "source": [
    "metadata_file_5006['site'] = 'Fundic'\n",
    "metadata_file_0507['site'] = 'Pyloric'"
   ]
  },
  {
   "cell_type": "code",
   "execution_count": null,
   "id": "9f4e8d32",
   "metadata": {},
   "outputs": [],
   "source": [
    "#met <- rbind(metadata_file_5006,metadata_file_0507)"
   ]
  },
  {
   "cell_type": "code",
   "execution_count": null,
   "id": "606791b9",
   "metadata": {},
   "outputs": [],
   "source": [
    "met <- rbind(metadata_file_0507,metadata_file_5006)"
   ]
  },
  {
   "cell_type": "code",
   "execution_count": null,
   "id": "360377ef",
   "metadata": {},
   "outputs": [],
   "source": [
    "1+1"
   ]
  },
  {
   "cell_type": "code",
   "execution_count": null,
   "id": "4f81b4cd",
   "metadata": {},
   "outputs": [],
   "source": [
    "dim(met)"
   ]
  },
  {
   "cell_type": "code",
   "execution_count": null,
   "id": "58fa6ba0",
   "metadata": {},
   "outputs": [],
   "source": [
    "met <- as.data.frame(met)"
   ]
  },
  {
   "cell_type": "code",
   "execution_count": null,
   "id": "e0968f34",
   "metadata": {},
   "outputs": [],
   "source": [
    "met[met$fov==1,]$fov = '001'\n",
    "met[met$fov==2,]$fov = '002'\n",
    "met[met$fov==3,]$fov = '003'\n",
    "met[met$fov==4,]$fov = '004'\n",
    "met[met$fov==5,]$fov = '005'\n",
    "met[met$fov==6,]$fov = '006'\n",
    "met[met$fov==7,]$fov = '007'\n",
    "met[met$fov==8,]$fov = '008'\n",
    "met[met$fov==9,]$fov = '009'\n",
    "met[met$fov==10,]$fov = '010'\n",
    "met[met$fov==11,]$fov = '011'\n",
    "met[met$fov==12,]$fov = '012'\n",
    "met[met$fov==13,]$fov = '013'\n",
    "met[met$fov==14,]$fov = '014'\n",
    "met[met$fov==15,]$fov = '015'\n",
    "met[met$fov==16,]$fov = '016'\n",
    "met[met$fov==17,]$fov = '017'\n",
    "met[met$fov==18,]$fov = '018'\n",
    "met[met$fov==19,]$fov = '019'\n",
    "met[met$fov==20,]$fov = '020'\n",
    "met[met$fov==21,]$fov = '021'\n",
    "met[met$fov==22,]$fov = '022'\n",
    "met[met$fov==23,]$fov = '023'\n",
    "met[met$fov==24,]$fov = '024'"
   ]
  },
  {
   "cell_type": "code",
   "execution_count": null,
   "id": "0a19a6e1",
   "metadata": {},
   "outputs": [],
   "source": [
    "# take a litte time\n",
    "fov_cellID <- c()\n",
    "for (i in 1:268326){\n",
    "    a <- paste0(met$site[i],'-fov',met$fov[i],'-cell_',met$cell_ID[i])\n",
    "    fov_cellID <- c(fov_cellID, a)\n",
    "    }"
   ]
  },
  {
   "cell_type": "code",
   "execution_count": null,
   "id": "05aac6c1",
   "metadata": {},
   "outputs": [],
   "source": [
    "length(fov_cellID)"
   ]
  },
  {
   "cell_type": "code",
   "execution_count": null,
   "id": "059c8658",
   "metadata": {},
   "outputs": [],
   "source": [
    "fov_join <- addCellMetadata(fov_join, new_metadata = met)"
   ]
  },
  {
   "cell_type": "code",
   "execution_count": null,
   "id": "c976c22a",
   "metadata": {},
   "outputs": [],
   "source": [
    "colnames(pDataDT(fov_join))"
   ]
  },
  {
   "cell_type": "code",
   "execution_count": null,
   "id": "2e8619a2",
   "metadata": {},
   "outputs": [],
   "source": [
    "table(pDataDT(fov_join)$list_ID)"
   ]
  },
  {
   "cell_type": "code",
   "execution_count": null,
   "id": "3b1fd9ef",
   "metadata": {},
   "outputs": [],
   "source": [
    "table(pDataDT(fov_join)$Slide_name)"
   ]
  },
  {
   "cell_type": "code",
   "execution_count": null,
   "id": "6fadfecb",
   "metadata": {},
   "outputs": [],
   "source": [
    "table(pDataDT(fov_join)$Run_name)"
   ]
  },
  {
   "cell_type": "code",
   "execution_count": null,
   "id": "4e754c10",
   "metadata": {},
   "outputs": [],
   "source": [
    "meta <- pDataDT(fov_join)"
   ]
  },
  {
   "cell_type": "code",
   "execution_count": null,
   "id": "89652ace",
   "metadata": {},
   "outputs": [],
   "source": [
    "dim(fov_join@expression$cell$rna$raw)"
   ]
  },
  {
   "cell_type": "markdown",
   "id": "2dde67ec",
   "metadata": {
    "tags": []
   },
   "source": [
    "#### subtract negative value"
   ]
  },
  {
   "cell_type": "code",
   "execution_count": null,
   "id": "56676b0d",
   "metadata": {},
   "outputs": [],
   "source": [
    "counts_all <- Giotto:::get_expression_values(fov_join, feat_type = 'rna')"
   ]
  },
  {
   "cell_type": "code",
   "execution_count": null,
   "id": "fb4fa126",
   "metadata": {},
   "outputs": [],
   "source": [
    "counts_all <- counts_all@exprMat"
   ]
  },
  {
   "cell_type": "code",
   "execution_count": null,
   "id": "16afe595",
   "metadata": {},
   "outputs": [],
   "source": [
    "dim(counts_all)"
   ]
  },
  {
   "cell_type": "code",
   "execution_count": null,
   "id": "ad67dcfc",
   "metadata": {},
   "outputs": [],
   "source": [
    "# ** Note: `counts_all[]` is shorthand for `counts_all@exprMat` **\n",
    "\n",
    "# extract the raw matrix\n",
    "counts_feat <- counts_all[rownames(counts_all)[!grepl('^Neg',rownames(counts_all ))],]\n",
    "counts_neg <- counts_all[rownames(counts_all)[grepl('^Neg',rownames(counts_all ))],]"
   ]
  },
  {
   "cell_type": "code",
   "execution_count": null,
   "id": "8d17d988",
   "metadata": {},
   "outputs": [],
   "source": [
    "table(colSums(as.matrix(counts_all))>=20)"
   ]
  },
  {
   "cell_type": "code",
   "execution_count": null,
   "id": "61c30c60",
   "metadata": {},
   "outputs": [],
   "source": [
    "head(colnames(counts_feat))"
   ]
  },
  {
   "cell_type": "code",
   "execution_count": null,
   "id": "368c246e",
   "metadata": {},
   "outputs": [],
   "source": [
    "table(colSums(as.matrix(counts_feat))>=20)"
   ]
  },
  {
   "cell_type": "code",
   "execution_count": null,
   "id": "69f04f26",
   "metadata": {},
   "outputs": [],
   "source": [
    "cell_id_use1 <- colnames(counts_feat)[colSums(as.matrix(counts_feat))>=20]"
   ]
  },
  {
   "cell_type": "code",
   "execution_count": null,
   "id": "7a86ebee",
   "metadata": {},
   "outputs": [],
   "source": [
    "cell_id_use2 <- pDataDT(fov_join)[pDataDT(fov_join)$Area <= 5*mean(pDataDT(fov_join)$Area)]$cell_ID"
   ]
  },
  {
   "cell_type": "code",
   "execution_count": null,
   "id": "ba9e9bcf",
   "metadata": {},
   "outputs": [],
   "source": [
    "head(cell_id_use1)"
   ]
  },
  {
   "cell_type": "code",
   "execution_count": null,
   "id": "5e2dfada",
   "metadata": {},
   "outputs": [],
   "source": [
    "length(cell_id_use1)"
   ]
  },
  {
   "cell_type": "code",
   "execution_count": null,
   "id": "b7290b96",
   "metadata": {},
   "outputs": [],
   "source": [
    "head(cell_id_use2)"
   ]
  },
  {
   "cell_type": "code",
   "execution_count": null,
   "id": "ecc6b1f3",
   "metadata": {},
   "outputs": [],
   "source": [
    "length(cell_id_use2)"
   ]
  },
  {
   "cell_type": "code",
   "execution_count": null,
   "id": "421d6143",
   "metadata": {},
   "outputs": [],
   "source": [
    "cell_id_use <- intersect(cell_id_use1, cell_id_use2)"
   ]
  },
  {
   "cell_type": "code",
   "execution_count": null,
   "id": "d02880c9",
   "metadata": {},
   "outputs": [],
   "source": [
    "length(cell_id_use)"
   ]
  },
  {
   "cell_type": "code",
   "execution_count": null,
   "id": "0e30d28b",
   "metadata": {},
   "outputs": [],
   "source": [
    "# calculate the mean of negative probe per cell\n",
    "negmean <- Matrix::colMeans(counts_neg[])"
   ]
  },
  {
   "cell_type": "code",
   "execution_count": null,
   "id": "32b1c45e",
   "metadata": {},
   "outputs": [],
   "source": [
    "# subtract negmean\n",
    "count_replace <- t(apply(counts_feat[],1,function(row) row - negmean))\n",
    "count_replace[count_replace < 0 ] <- 0\n",
    "count_replace <- ceiling(count_replace)"
   ]
  },
  {
   "cell_type": "code",
   "execution_count": null,
   "id": "9c4f4372",
   "metadata": {},
   "outputs": [],
   "source": [
    "# replace the matrix\n",
    "counts_feat[] <- as(count_replace, 'dgCMatrix')\n",
    "fov_join <- Giotto:::set_expression_values(fov_join, values = counts_feat)"
   ]
  },
  {
   "cell_type": "code",
   "execution_count": null,
   "id": "3e955d8a",
   "metadata": {},
   "outputs": [],
   "source": [
    "fov_join <- subsetGiotto(fov_join, cell_ids = cell_id_use)"
   ]
  },
  {
   "cell_type": "code",
   "execution_count": null,
   "id": "dfe4204e",
   "metadata": {},
   "outputs": [],
   "source": [
    "aaa <- readRDS('seurat_object.Rds')"
   ]
  },
  {
   "cell_type": "code",
   "execution_count": null,
   "id": "44ebc27e",
   "metadata": {},
   "outputs": [],
   "source": [
    "aaa"
   ]
  },
  {
   "cell_type": "code",
   "execution_count": null,
   "id": "36976729",
   "metadata": {},
   "outputs": [],
   "source": [
    "library(Seurat)"
   ]
  },
  {
   "cell_type": "code",
   "execution_count": null,
   "id": "83256c26",
   "metadata": {},
   "outputs": [],
   "source": [
    "unique(aaa@meta.data$fov)"
   ]
  },
  {
   "cell_type": "code",
   "execution_count": null,
   "id": "1f36e3db",
   "metadata": {},
   "outputs": [],
   "source": [
    "metadata <- aaa@meta.data"
   ]
  },
  {
   "cell_type": "code",
   "execution_count": null,
   "id": "c9e78eb3",
   "metadata": {},
   "outputs": [],
   "source": [
    "library(stringr)"
   ]
  },
  {
   "cell_type": "code",
   "execution_count": null,
   "id": "62583ce0",
   "metadata": {},
   "outputs": [],
   "source": [
    "# replace the fov_join \n",
    "# take some time \n",
    "test10 <- c()\n",
    "for (i in 1:dim(fov_join@cell_metadata$cell$rna )[1]){\n",
    "    test <- fov_join@cell_metadata$cell$rna$cell_ID[i]\n",
    "        if (str_detect(test, 'Fundic')) {\n",
    "            test2 <- str_replace(test, 'Fundic-','Run5458.5006_')\n",
    "            test3 <- str_split(test2, '_')[[1]]\n",
    "            test4 <- paste0(test3[1], '_',test3[3],'_',test3[2])\n",
    "            j <- as.integer(str_sub(test3[2],4,6))\n",
    "#            print(test3[2])\n",
    " #           print(test4)\n",
    "            \n",
    "        if ( j < 10) {\n",
    "        test4 <- str_replace(test4, paste0('fov00',j,'-cell'), as.character(j))\n",
    "            } else {\n",
    "            test4 <- str_replace(test4, paste0('fov0',j,'-cell'), as.character(j))\n",
    "            }    \n",
    "        } else {\n",
    "            test2 <- str_replace(test, 'Pyloric-','Run5458.0507_')\n",
    "            test3 <- str_split(test2, '_')[[1]]\n",
    "            test4 <- paste0(test3[1], '_',test3[3],'_',test3[2])\n",
    "            j <- as.integer(str_sub(test3[2],4,6))\n",
    "#            print(test3[2])\n",
    " #           print(test4)\n",
    "            \n",
    "        if ( j < 10) {\n",
    "        test4 <- str_replace(test4, paste0('fov00',j,'-cell'), as.character(j))\n",
    "            } else {\n",
    "            test4 <- str_replace(test4, paste0('fov0',j,'-cell'), as.character(j))\n",
    "            }    \n",
    "        }\n",
    "            \n",
    "            \n",
    "    test10 <- c(test10,test4)\n",
    "    }"
   ]
  },
  {
   "cell_type": "code",
   "execution_count": null,
   "id": "8d698597",
   "metadata": {},
   "outputs": [],
   "source": [
    "length(test10)"
   ]
  },
  {
   "cell_type": "code",
   "execution_count": null,
   "id": "e81699fb",
   "metadata": {},
   "outputs": [],
   "source": [
    "head(test10)"
   ]
  },
  {
   "cell_type": "code",
   "execution_count": null,
   "id": "6a77230a",
   "metadata": {},
   "outputs": [],
   "source": [
    "fov_join <- addCellMetadata(fov_join, new_metadata = test10, vector_name = 'cell_ID_2')"
   ]
  },
  {
   "cell_type": "code",
   "execution_count": null,
   "id": "243bbe8d",
   "metadata": {},
   "outputs": [],
   "source": [
    "giotto_meta <- pDataDT(fov_join)"
   ]
  },
  {
   "cell_type": "code",
   "execution_count": null,
   "id": "9d32054a",
   "metadata": {},
   "outputs": [],
   "source": [
    "colnames(giotto_meta)"
   ]
  },
  {
   "cell_type": "code",
   "execution_count": null,
   "id": "e1395044",
   "metadata": {},
   "outputs": [],
   "source": [
    "giotto_meta <- as.data.frame(giotto_meta)"
   ]
  },
  {
   "cell_type": "code",
   "execution_count": null,
   "id": "36913f88",
   "metadata": {},
   "outputs": [],
   "source": [
    "rownames(giotto_meta) = giotto_meta$cell_ID_2"
   ]
  },
  {
   "cell_type": "code",
   "execution_count": null,
   "id": "c96a8aff",
   "metadata": {},
   "outputs": [],
   "source": [
    "dim(giotto_meta)"
   ]
  },
  {
   "cell_type": "code",
   "execution_count": null,
   "id": "a02ed4e1",
   "metadata": {},
   "outputs": [],
   "source": [
    "dim(metadata)"
   ]
  },
  {
   "cell_type": "code",
   "execution_count": null,
   "id": "06c06ba2",
   "metadata": {},
   "outputs": [],
   "source": [
    "head(rownames(metadata))"
   ]
  },
  {
   "cell_type": "code",
   "execution_count": null,
   "id": "56681329",
   "metadata": {},
   "outputs": [],
   "source": [
    "head(rownames(giotto_meta))"
   ]
  },
  {
   "cell_type": "code",
   "execution_count": null,
   "id": "c41b658c",
   "metadata": {},
   "outputs": [],
   "source": [
    "inter <- intersect(rownames(metadata), rownames(giotto_meta))"
   ]
  },
  {
   "cell_type": "code",
   "execution_count": null,
   "id": "5da90b12",
   "metadata": {},
   "outputs": [],
   "source": [
    "length(inter)"
   ]
  },
  {
   "cell_type": "code",
   "execution_count": null,
   "id": "25088002",
   "metadata": {},
   "outputs": [],
   "source": [
    "giotto_meta <- giotto_meta[inter,]"
   ]
  },
  {
   "cell_type": "code",
   "execution_count": null,
   "id": "c0177fd9",
   "metadata": {},
   "outputs": [],
   "source": [
    "head(giotto_meta)"
   ]
  },
  {
   "cell_type": "code",
   "execution_count": null,
   "id": "bdf900d6",
   "metadata": {},
   "outputs": [],
   "source": [
    "subset_cell_ids = giotto_meta$cell_ID"
   ]
  },
  {
   "cell_type": "code",
   "execution_count": null,
   "id": "74c10352",
   "metadata": {},
   "outputs": [],
   "source": [
    "head(subset_cell_ids)"
   ]
  },
  {
   "cell_type": "code",
   "execution_count": null,
   "id": "feec2971",
   "metadata": {},
   "outputs": [],
   "source": [
    "fov_join2 <- subsetGiotto(fov_join, cell_ids = subset_cell_ids)"
   ]
  },
  {
   "cell_type": "code",
   "execution_count": null,
   "id": "69de2e6d",
   "metadata": {},
   "outputs": [],
   "source": [
    "table(pDataDT(fov_join2)$list_ID)"
   ]
  },
  {
   "cell_type": "code",
   "execution_count": null,
   "id": "d29e96b4",
   "metadata": {},
   "outputs": [],
   "source": [
    "table(pDataDT(fov_join2)$site)"
   ]
  },
  {
   "cell_type": "markdown",
   "id": "7e4fc2fe",
   "metadata": {
    "tags": []
   },
   "source": [
    "#### For figure and table"
   ]
  },
  {
   "cell_type": "code",
   "execution_count": null,
   "id": "6e4a1a19",
   "metadata": {},
   "outputs": [],
   "source": [
    "options(repr.plot.width=4,repr.plot.height=3)\n",
    "p1 <- filterDistributions(fov_join2,\n",
    "                    plot_type = 'hist',\n",
    "                    detection = 'cells',\n",
    "                    method = 'sum',\n",
    "                    feat_type = 'rna',\n",
    "                    nr_bins = 100,\n",
    "                    save_param = list(base_height = 3,\n",
    "                                      save_name = '3.1_totalexpr'))\n",
    "\n",
    "p2 <- filterDistributions(fov_join2,return_plot = TRUE,\n",
    "                    plot_type = 'hist',\n",
    "                    detection = 'cells',\n",
    "                    method = 'sum',\n",
    "                    feat_type = 'neg_probe',\n",
    "                    nr_bins = 25,\n",
    "                    save_param = list(base_height = 3,\n",
    "                                      save_name = '3.2_totalnegprbe'))"
   ]
  },
  {
   "cell_type": "code",
   "execution_count": null,
   "id": "446f2bfb",
   "metadata": {},
   "outputs": [],
   "source": [
    "colnames(pDataDT(fov_join2))"
   ]
  },
  {
   "cell_type": "code",
   "execution_count": null,
   "id": "53523dd8",
   "metadata": {},
   "outputs": [],
   "source": [
    "sum(pDataDT(fov_join2)[pDataDT(fov_join2)$list_ID=='Pyloric']$nCount_Nanostring)"
   ]
  },
  {
   "cell_type": "code",
   "execution_count": null,
   "id": "ff31cc85",
   "metadata": {},
   "outputs": [],
   "source": [
    "max(pDataDT(fov_join2)[pDataDT(fov_join2)$tissue=='Stomach_0507']$nCount_Nanostring)"
   ]
  },
  {
   "cell_type": "code",
   "execution_count": null,
   "id": "c7b1309d",
   "metadata": {},
   "outputs": [],
   "source": [
    "max(pDataDT(fov_join)[pDataDT(fov_join)$tissue=='Stomach_0507']$Area)*0.324"
   ]
  },
  {
   "cell_type": "code",
   "execution_count": null,
   "id": "82be1ac8",
   "metadata": {},
   "outputs": [],
   "source": [
    "a <- pDataDT(fov_join)[pDataDT(fov_join)$tissue=='Stomach_0507']"
   ]
  },
  {
   "cell_type": "code",
   "execution_count": null,
   "id": "4bb2cfaa",
   "metadata": {
    "tags": []
   },
   "outputs": [],
   "source": [
    "a[a$list_ID=='Fundic']"
   ]
  },
  {
   "cell_type": "code",
   "execution_count": null,
   "id": "d122b866",
   "metadata": {},
   "outputs": [],
   "source": [
    "mean(pDataDT(fov_join)[pDataDT(fov_join)$list_ID=='Pyloric']$Area)*0.18*0.18"
   ]
  },
  {
   "cell_type": "code",
   "execution_count": null,
   "id": "d8f65231",
   "metadata": {},
   "outputs": [],
   "source": [
    "mean(pDataDT(fov_join)[pDataDT(fov_join)$list_ID=='Fundic']$Area)*0.18*0.18"
   ]
  },
  {
   "cell_type": "code",
   "execution_count": null,
   "id": "a5bcdd19",
   "metadata": {},
   "outputs": [],
   "source": [
    "counts <- get_expression_values(fov_join2)"
   ]
  },
  {
   "cell_type": "code",
   "execution_count": null,
   "id": "17328be5",
   "metadata": {},
   "outputs": [],
   "source": [
    "counts <- counts@exprMat"
   ]
  },
  {
   "cell_type": "code",
   "execution_count": null,
   "id": "b4c1f124",
   "metadata": {},
   "outputs": [],
   "source": [
    "head(counts)"
   ]
  },
  {
   "cell_type": "code",
   "execution_count": null,
   "id": "60abab7a",
   "metadata": {},
   "outputs": [],
   "source": [
    "head(colnames(counts))"
   ]
  },
  {
   "cell_type": "code",
   "execution_count": null,
   "id": "9b253382",
   "metadata": {},
   "outputs": [],
   "source": [
    "counts_pyloric <- counts[,grepl('Pyloric',(colnames(counts)))]"
   ]
  },
  {
   "cell_type": "code",
   "execution_count": null,
   "id": "dcb3fed9",
   "metadata": {},
   "outputs": [],
   "source": [
    "dim(counts_pyloric)"
   ]
  },
  {
   "cell_type": "code",
   "execution_count": null,
   "id": "260d0ad9",
   "metadata": {},
   "outputs": [],
   "source": [
    "max(apply(counts_pyloric,2,sum))"
   ]
  },
  {
   "cell_type": "code",
   "execution_count": null,
   "id": "3853e86c",
   "metadata": {},
   "outputs": [],
   "source": [
    "sum(counts_pyloric)"
   ]
  },
  {
   "cell_type": "code",
   "execution_count": null,
   "id": "5a10a89e",
   "metadata": {},
   "outputs": [],
   "source": [
    "21932028/129818"
   ]
  },
  {
   "cell_type": "code",
   "execution_count": null,
   "id": "9615510e",
   "metadata": {},
   "outputs": [],
   "source": [
    "counts_fundic <- counts[,grepl('Fundic',(colnames(counts)))]"
   ]
  },
  {
   "cell_type": "code",
   "execution_count": null,
   "id": "91c547da",
   "metadata": {},
   "outputs": [],
   "source": [
    "dim(counts_fundic)"
   ]
  },
  {
   "cell_type": "code",
   "execution_count": null,
   "id": "a0c82306",
   "metadata": {},
   "outputs": [],
   "source": [
    "sum(counts_fundic)"
   ]
  },
  {
   "cell_type": "code",
   "execution_count": null,
   "id": "43d0c397",
   "metadata": {},
   "outputs": [],
   "source": [
    "max(apply(counts_fundic,2,sum))"
   ]
  },
  {
   "cell_type": "code",
   "execution_count": null,
   "id": "c0337459",
   "metadata": {},
   "outputs": [],
   "source": [
    "16598878/114627"
   ]
  },
  {
   "cell_type": "markdown",
   "id": "05157956",
   "metadata": {
    "jp-MarkdownHeadingCollapsed": true,
    "tags": []
   },
   "source": [
    "#### return to analysis"
   ]
  },
  {
   "cell_type": "code",
   "execution_count": null,
   "id": "32061c88",
   "metadata": {},
   "outputs": [],
   "source": [
    "fov_join <- fov_join2"
   ]
  },
  {
   "cell_type": "code",
   "execution_count": null,
   "id": "ec0cdc7f",
   "metadata": {},
   "outputs": [],
   "source": [
    "remove(fov_join2)"
   ]
  },
  {
   "cell_type": "code",
   "execution_count": null,
   "id": "152d5573",
   "metadata": {},
   "outputs": [],
   "source": [
    "# normalize\n",
    "# standard method\n",
    "fov_join <- normalizeGiotto(gobject = fov_join,\n",
    "                            scalefactor = 5000,\n",
    "                            verbose = T)\n"
   ]
  },
  {
   "cell_type": "code",
   "execution_count": null,
   "id": "a4d05b14",
   "metadata": {
    "tags": []
   },
   "outputs": [],
   "source": [
    "# new normalizaton method based on pearson correlations (Lause/Kobak et al. 2021)\n",
    "# this normalized matrix is given the name 'pearson' and will be used in the downstream steps\n",
    "fov_join <- normalizeGiotto(gobject = fov_join,\n",
    "                            scalefactor = 5000,\n",
    "                            verbose = T,\n",
    "                            norm_methods = 'pearson_resid',\n",
    "                            update_slot = 'pearson')"
   ]
  },
  {
   "cell_type": "code",
   "execution_count": null,
   "id": "67d14382",
   "metadata": {},
   "outputs": [],
   "source": [
    "colnames(fov_join@cell_metadata$cell$rna@metaDT)[4] <- 'cell_ID2'"
   ]
  },
  {
   "cell_type": "code",
   "execution_count": null,
   "id": "18501aee",
   "metadata": {},
   "outputs": [],
   "source": [
    "# add statistics\n",
    "fov_join <- addStatistics(gobject = fov_join,)\n",
    "\n",
    "# View cellular data\n",
    "#pDataDT(fov_join)\n",
    "# View rna data\n",
    "#fDataDT(fov_join)"
   ]
  },
  {
   "cell_type": "code",
   "execution_count": null,
   "id": "951430cc",
   "metadata": {},
   "outputs": [],
   "source": [
    "1+1"
   ]
  },
  {
   "cell_type": "code",
   "execution_count": null,
   "id": "8c3c71e1",
   "metadata": {},
   "outputs": [],
   "source": [
    "dim(fov_join@expression$cell$rna$raw)"
   ]
  },
  {
   "cell_type": "markdown",
   "id": "ba78edf8",
   "metadata": {
    "tags": []
   },
   "source": [
    "# For InSituTyping"
   ]
  },
  {
   "cell_type": "markdown",
   "id": "33e8cec0",
   "metadata": {
    "jp-MarkdownHeadingCollapsed": true,
    "tags": []
   },
   "source": [
    "#### 不要"
   ]
  },
  {
   "cell_type": "code",
   "execution_count": null,
   "id": "a44d96bb",
   "metadata": {},
   "outputs": [],
   "source": [
    "aaa <- readRDS('seurat_object.Rds')"
   ]
  },
  {
   "cell_type": "code",
   "execution_count": null,
   "id": "6e4cd0db",
   "metadata": {},
   "outputs": [],
   "source": [
    "aaa"
   ]
  },
  {
   "cell_type": "code",
   "execution_count": null,
   "id": "f0b32162",
   "metadata": {},
   "outputs": [],
   "source": [
    "library(Seurat)"
   ]
  },
  {
   "cell_type": "code",
   "execution_count": null,
   "id": "2e24475a",
   "metadata": {},
   "outputs": [],
   "source": [
    "unique(aaa@meta.data$fov)"
   ]
  },
  {
   "cell_type": "code",
   "execution_count": null,
   "id": "110d96b2",
   "metadata": {},
   "outputs": [],
   "source": [
    "metadata <- aaa@meta.data"
   ]
  },
  {
   "cell_type": "code",
   "execution_count": null,
   "id": "e53a52e1",
   "metadata": {},
   "outputs": [],
   "source": [
    "library(stringr)"
   ]
  },
  {
   "cell_type": "code",
   "execution_count": null,
   "id": "4e0ce418",
   "metadata": {},
   "outputs": [],
   "source": [
    "tail(rownames(metadata))"
   ]
  },
  {
   "cell_type": "code",
   "execution_count": null,
   "id": "24fcafbd",
   "metadata": {},
   "outputs": [],
   "source": [
    "# replace the fov_join \n",
    "# take some time \n",
    "test10 <- c()\n",
    "for (i in 1:dim(metadata)[1]){\n",
    "    test <- rownames(metadata)[i]\n",
    "        if (str_detect(test, 'Run5458.5006_')) {\n",
    "            test2 <- str_replace(test,'Run5458.5006_','Fundic_')\n",
    "            test3 <- str_split(test2, '_')[[1]]\n",
    "            if (as.integer(test3[3]) < 10) {\n",
    "            test4 <- paste0(test3[1], '-fov00',test3[3],'-cell_',test3[2])\n",
    "                }else{\n",
    "            test4 <- paste0(test3[1], '-fov0',test3[3],'-cell_',test3[2])\n",
    "            }    \n",
    "        } else {\n",
    "            test2 <- str_replace(test, 'Run5458.0507_','Pyloric_')\n",
    "            test3 <- str_split(test2, '_')[[1]]\n",
    "            if (as.integer(test3[3]) < 10) {\n",
    "            test4 <- paste0(test3[1], '-fov00',test3[3],'-cell_',test3[2])\n",
    "                }else{\n",
    "            test4 <- paste0(test3[1], '-fov0',test3[3],'-cell_',test3[2])\n",
    "            }\n",
    "        \n",
    "        }   \n",
    "    test10 <- c(test10,test4)\n",
    "    }"
   ]
  },
  {
   "cell_type": "code",
   "execution_count": null,
   "id": "50d2f2ff",
   "metadata": {},
   "outputs": [],
   "source": [
    "head(test10)"
   ]
  },
  {
   "cell_type": "code",
   "execution_count": null,
   "id": "bcce8af5",
   "metadata": {},
   "outputs": [],
   "source": [
    "length(test10)"
   ]
  },
  {
   "cell_type": "code",
   "execution_count": null,
   "id": "9217df58",
   "metadata": {},
   "outputs": [],
   "source": [
    "length(pDataDT(fov_join)$cell_ID)"
   ]
  },
  {
   "cell_type": "code",
   "execution_count": null,
   "id": "6cbbe5df",
   "metadata": {},
   "outputs": [],
   "source": [
    "head(setdiff(test10, pDataDT(fov_join)$cell_ID))"
   ]
  },
  {
   "cell_type": "code",
   "execution_count": null,
   "id": "457dc946",
   "metadata": {},
   "outputs": [],
   "source": [
    "length(setdiff(pDataDT(fov_join)$cell_ID,test10))"
   ]
  },
  {
   "cell_type": "code",
   "execution_count": null,
   "id": "15b198ee",
   "metadata": {},
   "outputs": [],
   "source": [
    "fov_join3 <- subsetGiotto(fov_join, cell_ids = test10)"
   ]
  },
  {
   "cell_type": "markdown",
   "id": "18bac3cd",
   "metadata": {
    "tags": []
   },
   "source": [
    "#### produce reference matrix"
   ]
  },
  {
   "cell_type": "code",
   "execution_count": null,
   "id": "67675114",
   "metadata": {},
   "outputs": [],
   "source": [
    "library(InSituType)"
   ]
  },
  {
   "cell_type": "code",
   "execution_count": null,
   "id": "3d29218d",
   "metadata": {},
   "outputs": [],
   "source": [
    "data(\"ioprofiles\")\n",
    "data(\"iocolors\")"
   ]
  },
  {
   "cell_type": "code",
   "execution_count": null,
   "id": "000a2dca",
   "metadata": {},
   "outputs": [],
   "source": [
    "iocolors"
   ]
  },
  {
   "cell_type": "code",
   "execution_count": null,
   "id": "cbd2f8fd",
   "metadata": {},
   "outputs": [],
   "source": [
    "epi <- readRDS('/home/tsubosaka/for_analysis/論文用再検討/修正/data_9_99_monocle3_seurat_epi.rds')"
   ]
  },
  {
   "cell_type": "code",
   "execution_count": null,
   "id": "b0b9756d",
   "metadata": {},
   "outputs": [],
   "source": [
    "fb <- readRDS('/home/tsubosaka//for_analysis/論文用再検討/修正/data_9_3_annotated_fibroblasts.rds')"
   ]
  },
  {
   "cell_type": "markdown",
   "id": "48de3bef",
   "metadata": {},
   "source": [
    "aaa <- readRDS('seurat_object.Rds')"
   ]
  },
  {
   "cell_type": "code",
   "execution_count": null,
   "id": "a59f6f58",
   "metadata": {},
   "outputs": [],
   "source": [
    "library(Seurat)"
   ]
  },
  {
   "cell_type": "code",
   "execution_count": null,
   "id": "49efb3d3",
   "metadata": {},
   "outputs": [],
   "source": [
    "table(epi@meta.data$subcluster)"
   ]
  },
  {
   "cell_type": "markdown",
   "id": "1eb48f72",
   "metadata": {
    "tags": []
   },
   "source": [
    "#### B cell, endothelialまでやると細かすぎる可能性\n",
    "B <- readRDS('./for_analysis/論文用再検討/修正/fig作成用/2022_data_9_9_annotated_seurat_all.rds')\n",
    "\n",
    "B <- subset(B, idents = 'B/plasma')\n",
    "\n",
    "Idents(B) <- 'subcluster'\n",
    "\n",
    "unique(Idents(B))\n",
    "\n",
    "B <- subset(B, idents=c('activated_T','CD8_T','γδT','CD4+T'),invert=TRUE)\n",
    "\n",
    "endo <- readRDS('./for_analysis/論文用再検討/修正/data_9_1_annotated_endothelial.rds')"
   ]
  },
  {
   "cell_type": "markdown",
   "id": "ab37b226",
   "metadata": {
    "tags": []
   },
   "source": [
    "### ref matrix, using scRNA-seq expression data (only epithelial cells and fibroblasts)"
   ]
  },
  {
   "cell_type": "code",
   "execution_count": null,
   "id": "7a0c3f8b",
   "metadata": {},
   "outputs": [],
   "source": [
    "ref <- c()"
   ]
  },
  {
   "cell_type": "code",
   "execution_count": null,
   "id": "71c76c93",
   "metadata": {},
   "outputs": [],
   "source": [
    "for (i in 1:length(unique(epi@meta.data$subcluster))){\n",
    "    clus <- unique(epi@meta.data$subcluster)[i]\n",
    "    aa <- subset(epi, idents=clus)\n",
    "    test <- as.matrix((GetAssayData(aa)))\n",
    "    me <- as.matrix(apply(test,1,mean))\n",
    "    colnames(me) <- clus\n",
    "    ref <- cbind(ref, me)\n",
    "    }"
   ]
  },
  {
   "cell_type": "code",
   "execution_count": null,
   "id": "7fdf754e",
   "metadata": {},
   "outputs": [],
   "source": [
    "for (i in 1:length(unique(Idents(fb)))){\n",
    "    clus <- unique(Idents(fb))[i]\n",
    "    aa <- subset(fb, idents=clus)\n",
    "    test <- as.matrix((GetAssayData(aa)))\n",
    "    me <- as.matrix(apply(test,1,mean))\n",
    "    colnames(me) <- clus\n",
    "    ref <- cbind(ref, me)\n",
    "    }"
   ]
  },
  {
   "cell_type": "markdown",
   "id": "018d21e4",
   "metadata": {},
   "source": [
    "for (i in 1:length(unique(Idents(B)))){\n",
    "    clus <- unique(Idents(B))[i]\n",
    "    aa <- subset(B, idents=clus)\n",
    "    test <- as.matrix((GetAssayData(aa)))\n",
    "    me <- as.matrix(apply(test,1,mean))\n",
    "    colnames(me) <- clus\n",
    "    ref <- cbind(ref, me)\n",
    "    }\n",
    "\n",
    "for (i in 1:length(unique(Idents(endo)))){\n",
    "    clus <- unique(Idents(endo))[i]\n",
    "    aa <- subset(endo, idents=clus)\n",
    "    test <- as.matrix((GetAssayData(aa)))\n",
    "    me <- as.matrix(apply(test,1,mean))\n",
    "    colnames(me) <- clus\n",
    "    ref <- cbind(ref, me)\n",
    "    }"
   ]
  },
  {
   "cell_type": "code",
   "execution_count": null,
   "id": "660dc4ca",
   "metadata": {},
   "outputs": [],
   "source": [
    "head(ref)"
   ]
  },
  {
   "cell_type": "code",
   "execution_count": null,
   "id": "a0f95156",
   "metadata": {},
   "outputs": [],
   "source": [
    "colnames(ref)"
   ]
  },
  {
   "cell_type": "code",
   "execution_count": null,
   "id": "75d00f3e",
   "metadata": {},
   "outputs": [],
   "source": [
    "1+1"
   ]
  },
  {
   "cell_type": "code",
   "execution_count": null,
   "id": "b6bb1e5c",
   "metadata": {},
   "outputs": [],
   "source": [
    "# A few LEFTY1+cell so exclude from reference\n",
    "ref <- ref[,-10][,-12]"
   ]
  },
  {
   "cell_type": "code",
   "execution_count": null,
   "id": "d7696fd4",
   "metadata": {},
   "outputs": [],
   "source": [
    "ref <- ref[,-6]"
   ]
  },
  {
   "cell_type": "code",
   "execution_count": null,
   "id": "2e4504dc",
   "metadata": {},
   "outputs": [],
   "source": [
    "ls()"
   ]
  },
  {
   "cell_type": "code",
   "execution_count": null,
   "id": "9655472a",
   "metadata": {},
   "outputs": [],
   "source": [
    "colnames(ioprofiles)"
   ]
  },
  {
   "cell_type": "code",
   "execution_count": null,
   "id": "8a38d4bd",
   "metadata": {},
   "outputs": [],
   "source": [
    "head(ioprofiles)"
   ]
  },
  {
   "cell_type": "code",
   "execution_count": null,
   "id": "a3f4607a",
   "metadata": {},
   "outputs": [],
   "source": [
    "# fibroblast is included in our scRNA-seq\n",
    "ioprofiles <- ioprofiles[,-3]"
   ]
  },
  {
   "cell_type": "markdown",
   "id": "64e495b2",
   "metadata": {
    "tags": []
   },
   "source": [
    "#### 不要になったコード"
   ]
  },
  {
   "cell_type": "markdown",
   "id": "7ade1fc5",
   "metadata": {},
   "source": [
    "raw expression of cosmx\n",
    "cts <- get_expression_values(fov_join)"
   ]
  },
  {
   "cell_type": "markdown",
   "id": "bf2c12e2",
   "metadata": {},
   "source": [
    "cts <- cts@exprMat"
   ]
  },
  {
   "cell_type": "markdown",
   "id": "bc43f80d",
   "metadata": {
    "tags": []
   },
   "source": [
    "Mean value of negative probes in each cell\n",
    "negmean <- Matrix::colMeans(cts[rownames(cts)[grepl('^Neg',rownames(cts))],])"
   ]
  },
  {
   "cell_type": "markdown",
   "id": "e04e2bcb",
   "metadata": {},
   "source": [
    "#### 再開"
   ]
  },
  {
   "cell_type": "code",
   "execution_count": null,
   "id": "58e4407f",
   "metadata": {},
   "outputs": [],
   "source": [
    "counts_all <- Giotto:::get_expression_values(fov_join, feat_type = 'rna')"
   ]
  },
  {
   "cell_type": "code",
   "execution_count": null,
   "id": "bce3ca56",
   "metadata": {},
   "outputs": [],
   "source": [
    "counts_all <- counts_all@exprMat"
   ]
  },
  {
   "cell_type": "code",
   "execution_count": null,
   "id": "2d490dc6",
   "metadata": {},
   "outputs": [],
   "source": [
    "# ** Note: `counts_all[]` is shorthand for `counts_all@exprMat` **\n",
    "\n",
    "# extract the raw matrix\n",
    "counts_feat <- counts_all[rownames(counts_all)[!grepl('^Neg',rownames(counts_all ))],]\n",
    "counts_neg <- counts_all[rownames(counts_all)[grepl('^Neg',rownames(counts_all ))],]"
   ]
  },
  {
   "cell_type": "code",
   "execution_count": null,
   "id": "620eb7ac",
   "metadata": {},
   "outputs": [],
   "source": [
    "# calculate the mean of negative probe per cell\n",
    "negmean <- Matrix::colMeans(counts_neg[])"
   ]
  },
  {
   "cell_type": "code",
   "execution_count": null,
   "id": "dd3b1545",
   "metadata": {},
   "outputs": [],
   "source": [
    "counts <- as.matrix(counts_feat)"
   ]
  },
  {
   "cell_type": "code",
   "execution_count": null,
   "id": "688b9955",
   "metadata": {},
   "outputs": [],
   "source": [
    "counts <- t(counts)"
   ]
  },
  {
   "cell_type": "code",
   "execution_count": null,
   "id": "d0ee2b58",
   "metadata": {},
   "outputs": [],
   "source": [
    "length(negmean)"
   ]
  },
  {
   "cell_type": "code",
   "execution_count": null,
   "id": "86ed94e4",
   "metadata": {},
   "outputs": [],
   "source": [
    "length(rowSums(counts))"
   ]
  },
  {
   "cell_type": "code",
   "execution_count": null,
   "id": "e8666c4e",
   "metadata": {},
   "outputs": [],
   "source": [
    "negmean.per.totcount <- mean(negmean) / mean(rowSums(counts))"
   ]
  },
  {
   "cell_type": "code",
   "execution_count": null,
   "id": "f2f27b79",
   "metadata": {},
   "outputs": [],
   "source": [
    "per.cell.bg <- rowSums(counts) * negmean.per.totcount"
   ]
  },
  {
   "cell_type": "code",
   "execution_count": null,
   "id": "c1f35c1e",
   "metadata": {},
   "outputs": [],
   "source": [
    "dim(counts_feat)"
   ]
  },
  {
   "cell_type": "code",
   "execution_count": null,
   "id": "8f067880",
   "metadata": {},
   "outputs": [],
   "source": [
    "head(negmean)"
   ]
  },
  {
   "cell_type": "code",
   "execution_count": null,
   "id": "6aa6d0b5",
   "metadata": {},
   "outputs": [],
   "source": [
    "dim(ioprofiles)"
   ]
  },
  {
   "cell_type": "code",
   "execution_count": null,
   "id": "e6bd4100",
   "metadata": {},
   "outputs": [],
   "source": [
    "# coioprofilesstatistics used to define anchor cells.\n",
    "# (This step is slow for big datasets. It's recommended to run this once and save the results. \n",
    "# Then you can iteratively adjust your choices when selecting anchor cells)\n",
    "astats <- get_anchor_stats(counts = counts,\n",
    "                           neg = negmean,\n",
    "                           profiles = ioprofiles\n",
    "                          )"
   ]
  },
  {
   "cell_type": "code",
   "execution_count": null,
   "id": "1ed325a5",
   "metadata": {},
   "outputs": [],
   "source": [
    "# now choose anchors:\n",
    "anchors <- choose_anchors_from_stats(counts = counts, \n",
    "                                     neg = negmean, \n",
    "                                     bg = per.cell.bg,\n",
    "                                     anchorstats = astats, \n",
    "                                     # a very low value chosen for the mini\n",
    "                                     # dataset. Typically hundreds of cells\n",
    "                                     # would be better.\n",
    "                                     n_cells = 500, \n",
    "                                     min_cosine = 0.4, \n",
    "                                     min_scaled_llr = 0.03, \n",
    "                                     insufficient_anchors_thresh = 5)"
   ]
  },
  {
   "cell_type": "code",
   "execution_count": null,
   "id": "46e04484",
   "metadata": {},
   "outputs": [],
   "source": [
    "updatedprofiles <- updateReferenceProfiles(reference_profiles = ioprofiles, \n",
    "                                           counts = counts, \n",
    "                                           neg = negmean, \n",
    "                                           bg = per.cell.bg,\n",
    "                                           anchors = anchors) \n",
    "str(updatedprofiles)\n",
    "#> List of 2\n",
    "#>  $ updated_profiles: num [1:960, 1:5] 0 0 0.019 0 0 0.019 0.039 0 0.019 0.059 ...\n",
    "#>   ..- attr(*, \"dimnames\")=List of 2\n",
    "#>   .. ..$ : chr [1:960] \"AATK\" \"ABL1\" \"ABL2\" \"ACE\" ...\n",
    "#>   .. ..$ : chr [1:5] \"plasmablast\" \"macrophage\" \"fibroblast\" \"endothelial\" ...\n",
    "#>  $ anchors         : Named chr [1:2198] NA NA NA NA ...\n",
    "#>   ..- attr(*, \"names\")= chr [1:2198] \"c_3_18_2\" \"c_3_18_3\" \"c_3_18_4\" \"c_3_18_5\" ..."
   ]
  },
  {
   "cell_type": "code",
   "execution_count": null,
   "id": "a0163b66",
   "metadata": {},
   "outputs": [],
   "source": [
    "# compute the statistics used to define anchor cells.\n",
    "# (This step is slow for big datasets. It's recommended to run this once and save the results. \n",
    "# Then you can iteratively adjust your choices when selecting anchor cells)\n",
    "astats2 <- get_anchor_stats(counts = counts,\n",
    "                           neg = negmean,\n",
    "                           profiles = ref)"
   ]
  },
  {
   "cell_type": "code",
   "execution_count": null,
   "id": "3eb438dd",
   "metadata": {},
   "outputs": [],
   "source": [
    "# now choose anchors:\n",
    "anchors2 <- choose_anchors_from_stats(counts = counts, \n",
    "                                     neg = negmean, \n",
    "                                     bg = per.cell.bg,\n",
    "                                     anchorstats = astats2, \n",
    "                                     # a very low value chosen for the mini\n",
    "                                     # dataset. Typically hundreds of cells\n",
    "                                     # would be better.\n",
    "                                     n_cells = 500, \n",
    "                                     min_cosine = 0.4, \n",
    "                                     min_scaled_llr = 0.03, \n",
    "                                     insufficient_anchors_thresh = 5)"
   ]
  },
  {
   "cell_type": "code",
   "execution_count": null,
   "id": "99f23b7e",
   "metadata": {},
   "outputs": [],
   "source": [
    "updatedprofiles2 <- updateReferenceProfiles(reference_profiles = ioprofiles2, \n",
    "                                           counts = counts, \n",
    "                                           neg = negmean, \n",
    "                                           bg = per.cell.bg,\n",
    "                                           anchors = anchors2) \n",
    "#str(updatedprofiles)\n",
    "#> List of 2\n",
    "#>  $ updated_profiles: num [1:960, 1:5] 0 0 0.019 0 0 0.019 0.039 0 0.019 0.059 ...\n",
    "#>   ..- attr(*, \"dimnames\")=List of 2\n",
    "#>   .. ..$ : chr [1:960] \"AATK\" \"ABL1\" \"ABL2\" \"ACE\" ...\n",
    "#>   .. ..$ : chr [1:5] \"plasmablast\" \"macrophage\" \"fibroblast\" \"endothelial\" ...\n",
    "#>  $ anchors         : Named chr [1:2198] NA NA NA NA ...\n",
    "#>   ..- attr(*, \"names\")= chr [1:2198] \"c_3_18_2\" \"c_3_18_3\" \"c_3_18_4\" \"c_3_18_5\" ..."
   ]
  },
  {
   "cell_type": "code",
   "execution_count": null,
   "id": "681c3b0d",
   "metadata": {},
   "outputs": [],
   "source": [
    "# bind the reference matrix\n",
    "updatedprofiles_cbind <- cbind(updatedprofiles$updated_profiles, updatedprofiles2$updated_profiles)"
   ]
  },
  {
   "cell_type": "markdown",
   "id": "2d18c265",
   "metadata": {
    "tags": []
   },
   "source": [
    "### semi-supervised clustering"
   ]
  },
  {
   "cell_type": "markdown",
   "id": "0b785544",
   "metadata": {
    "tags": []
   },
   "source": [
    "#### memory consuming"
   ]
  },
  {
   "cell_type": "markdown",
   "id": "06fea569",
   "metadata": {},
   "source": [
    "you can check memory use by \"ps -o pid,user,%mem,command ax | sort -b -k3 -r | head -10\" and \"docker state\""
   ]
  },
  {
   "cell_type": "code",
   "execution_count": null,
   "id": "9d79b1b6",
   "metadata": {},
   "outputs": [],
   "source": [
    "saveRDS(updatedprofiles_cbind, 'updatedprofiles.rds')"
   ]
  },
  {
   "cell_type": "code",
   "execution_count": null,
   "id": "01bfb57e",
   "metadata": {},
   "outputs": [],
   "source": [
    "updatedprofiles_cbind <- readRDS('updatedprofiles.rds')"
   ]
  },
  {
   "cell_type": "markdown",
   "id": "edb13166",
   "metadata": {
    "tags": []
   },
   "source": [
    "### count=0不要ならOK"
   ]
  },
  {
   "cell_type": "code",
   "execution_count": null,
   "id": "3f998ab3",
   "metadata": {
    "tags": []
   },
   "outputs": [],
   "source": [
    "meta <- pDataDT(fov_join)"
   ]
  },
  {
   "cell_type": "code",
   "execution_count": null,
   "id": "3a198f54",
   "metadata": {},
   "outputs": [],
   "source": [
    "length(meta$cell_ID)"
   ]
  },
  {
   "cell_type": "code",
   "execution_count": null,
   "id": "db49a423",
   "metadata": {},
   "outputs": [],
   "source": [
    "immunofluordata <- cbind(meta$Mean.CD3, meta$Mean.CD45, meta$Mean.MembraneStain, meta$Mean.PanCK,meta$Area, meta$AspectRatio)"
   ]
  },
  {
   "cell_type": "code",
   "execution_count": null,
   "id": "1fe99af4",
   "metadata": {},
   "outputs": [],
   "source": [
    "rownames(immunofluordata) <- meta$cell_ID"
   ]
  },
  {
   "cell_type": "code",
   "execution_count": null,
   "id": "9f67ef9f",
   "metadata": {},
   "outputs": [],
   "source": [
    "# perform automatic cohorting:\n",
    "cohort <- fastCohorting(immunofluordata,\n",
    "                        gaussian_transform = TRUE) \n",
    "# (\"Gaussian_transform = TRUE\" maps variables to gaussians in order to \n",
    "#  place dramatically different variables on the same scale.)\n",
    "table(cohort)\n",
    "#> cohort\n",
    "#>    1    2    3 \n",
    "#> 1236  631  331"
   ]
  },
  {
   "cell_type": "code",
   "execution_count": null,
   "id": "a2b57701",
   "metadata": {},
   "outputs": [],
   "source": [
    "length(cohort)"
   ]
  },
  {
   "cell_type": "code",
   "execution_count": null,
   "id": "39af2a53",
   "metadata": {
    "tags": []
   },
   "outputs": [],
   "source": [
    "semisup <- insitutype(  x = counts,\n",
    "  neg = negmean,\n",
    "  cohort = cohort,\n",
    "  # Enter your own per-cell background estimates here if you\n",
    "  # have them; otherwise insitutype will use the negprobes to\n",
    "  # estimate background for you.\n",
    "  bg = NULL,\n",
    "  # condensed to save time. n_clusts = 5:15 would be more optimal\n",
    "  n_clusts = c(2, 10),\n",
    "  reference_profiles = updatedprofiles_cbind,\n",
    "  update_reference_profiles = FALSE,\n",
    "  # choosing inadvisably low numbers to speed the vignette; using the defaults\n",
    "  # in recommended.\n",
    ")"
   ]
  },
  {
   "cell_type": "code",
   "execution_count": null,
   "id": "bbc282fa",
   "metadata": {},
   "outputs": [],
   "source": [
    "length(semisup)"
   ]
  },
  {
   "cell_type": "code",
   "execution_count": null,
   "id": "ee03725c",
   "metadata": {},
   "outputs": [],
   "source": [
    "length(semisup$clust)"
   ]
  },
  {
   "cell_type": "code",
   "execution_count": null,
   "id": "4dd5a76e",
   "metadata": {},
   "outputs": [],
   "source": [
    "1+1"
   ]
  },
  {
   "cell_type": "code",
   "execution_count": null,
   "id": "2f91cb33",
   "metadata": {},
   "outputs": [],
   "source": [
    "z <- Sys.time()"
   ]
  },
  {
   "cell_type": "code",
   "execution_count": null,
   "id": "01696ac2",
   "metadata": {},
   "outputs": [],
   "source": [
    "z"
   ]
  },
  {
   "cell_type": "markdown",
   "id": "a3eb17d4",
   "metadata": {
    "tags": []
   },
   "source": [
    "### supervised clustering"
   ]
  },
  {
   "cell_type": "code",
   "execution_count": null,
   "id": "d6501f2a",
   "metadata": {
    "tags": []
   },
   "outputs": [],
   "source": [
    "sup <- insitutypeML(x = counts,\n",
    "  neg = negmean,\n",
    "  cohort = cohort,\n",
    "  # Enter your own per-cell background estimates here if you\n",
    "  # have them; otherwise insitutype will use the negprobes to\n",
    "  # estimate background for you.\n",
    "  #bg = NULL,\n",
    "  # condensed to save time. n_clusts = 5:15 would be more optimal\n",
    "#  n_clusts = c(2, 10),\n",
    "  reference_profiles = updatedprofiles_cbind,\n",
    "  #update_reference_profiles = FALSE,\n",
    "  # choosing inadvisably low numbers to speed the vignette; using the defaults\n",
    "  # in recommended.\n",
    ") "
   ]
  },
  {
   "cell_type": "code",
   "execution_count": null,
   "id": "f4de3926",
   "metadata": {
    "tags": []
   },
   "outputs": [],
   "source": [
    "str(semisup)\n",
    "#> List of 5\n",
    "#>  $ clust                      : Named chr [1:2198] \"c\" \"c\" \"c\" \"c\" ...\n",
    "#>   ..- attr(*, \"names\")= chr [1:2198] \"c_3_18_2\" \"c_3_18_3\" \"c_3_18_4\" \"c_3_18_5\" ...\n",
    "#>  $ prob                       : Named num [1:2198] 1 1 0.95 1 1 ...\n",
    "#>   ..- attr(*, \"names\")= chr [1:2198] \"c_3_18_2\" \"c_3_18_3\" \"c_3_18_4\" \"c_3_18_5\" ...\n",
    "#>  $ profiles                   : num [1:960, 1:11] 0 0.0291 0.0382 0.0382 0.02 ...\n",
    "#>   ..- attr(*, \"dimnames\")=List of 2\n",
    "#>   .. ..$ : chr [1:960] \"AATK\" \"ABL1\" \"ABL2\" \"ACE\" ...\n",
    "#>   .. ..$ : chr [1:11] \"a\" \"b\" \"c\" \"d\" ...\n",
    "#>  $ logliks                    : num [1:2198, 1:11] -127 -134 -337 -141 -300 ...\n",
    "#>   ..- attr(*, \"dimnames\")=List of 2\n",
    "#>   .. ..$ : chr [1:2198] \"c_3_18_2\" \"c_3_18_3\" \"c_3_18_4\" \"c_3_18_5\" ...\n",
    "#>   .. ..$ : chr [1:11] \"a\" \"b\" \"c\" \"d\" ...\n",
    "#>  $ logliks_from_lost_celltypes: num[1:2198, 0 ] \n",
    "#>   ..- attr(*, \"dimnames\")=List of 2\n",
    "#>   .. ..$ : chr [1:2198] \"c_3_18_2\" \"c_3_18_3\" \"c_3_18_4\" \"c_3_18_5\" ...\n",
    "#>   .. ..$ : NULL\n",
    "round(head(semisup$prob), 2)\n",
    "#> c_3_18_2 c_3_18_3 c_3_18_4 c_3_18_5 c_3_18_6 c_3_18_7 \n",
    "#>     1.00     1.00     0.95     1.00     1.00     1.00\n",
    "heatmap(sweep(semisup$profiles, 1, pmax(apply(semisup$profiles, 1, max), .2), \"/\"), scale = \"none\",\n",
    "        main = \"Mean cell type expression profiles\")"
   ]
  },
  {
   "cell_type": "code",
   "execution_count": null,
   "id": "fad24a65",
   "metadata": {},
   "outputs": [],
   "source": [
    "dim(fov_join@cell_metadata$cell$rna)"
   ]
  },
  {
   "cell_type": "code",
   "execution_count": null,
   "id": "30c115f1",
   "metadata": {},
   "outputs": [],
   "source": [
    "saveRDS(semisup, '20221205_semisup_cls_cosmx_epi_immune.rds')"
   ]
  },
  {
   "cell_type": "markdown",
   "id": "f5d128e6",
   "metadata": {
    "tags": []
   },
   "source": [
    "#### この時点でUMAP、x,y情報なし"
   ]
  },
  {
   "cell_type": "code",
   "execution_count": null,
   "id": "1e36ceb0",
   "metadata": {},
   "outputs": [],
   "source": [
    "semisup <- readRDS('20221205_semisup_cls_cosmx_epi_immune.rds')"
   ]
  },
  {
   "cell_type": "code",
   "execution_count": null,
   "id": "ae3a0067",
   "metadata": {},
   "outputs": [],
   "source": [
    "length(semisup$clust)"
   ]
  },
  {
   "cell_type": "code",
   "execution_count": null,
   "id": "ec5a3e6d",
   "metadata": {},
   "outputs": [],
   "source": [
    "head(semisup$clust)"
   ]
  },
  {
   "cell_type": "code",
   "execution_count": null,
   "id": "81fa0cbb",
   "metadata": {},
   "outputs": [],
   "source": [
    "head(pDataDT(fov_join)$cell_ID)"
   ]
  },
  {
   "cell_type": "code",
   "execution_count": null,
   "id": "b991276e",
   "metadata": {},
   "outputs": [],
   "source": [
    "length(semisup$clust[pDataDT(fov_join)$cell_ID])"
   ]
  },
  {
   "cell_type": "code",
   "execution_count": null,
   "id": "9253e4d0",
   "metadata": {},
   "outputs": [],
   "source": [
    "head(semisup$logliks)"
   ]
  },
  {
   "cell_type": "code",
   "execution_count": null,
   "id": "71ad8094",
   "metadata": {},
   "outputs": [],
   "source": [
    "cols <- readRDS('./integrated_data/論文用再検討/distinct_colors.Rds')"
   ]
  },
  {
   "cell_type": "code",
   "execution_count": null,
   "id": "27de4930",
   "metadata": {},
   "outputs": [],
   "source": [
    "library(InSituType)"
   ]
  },
  {
   "cell_type": "code",
   "execution_count": null,
   "id": "659081e8",
   "metadata": {},
   "outputs": [],
   "source": [
    "head(semisup$profiles)"
   ]
  },
  {
   "cell_type": "code",
   "execution_count": null,
   "id": "e1d5834a",
   "metadata": {
    "tags": []
   },
   "outputs": [],
   "source": [
    "# make the flightpath plot\n",
    "options(repr.plot.width=7, repr.plot.height=7)\n",
    "fp <- flightpath_plot(flightpath_result = NULL, insitutype_result = semisup)\n",
    "class(fp)"
   ]
  },
  {
   "cell_type": "code",
   "execution_count": null,
   "id": "e85296cf",
   "metadata": {},
   "outputs": [],
   "source": [
    "fp_layout <- flightpath_layout(logliks = semisup$logliks, profiles = semisup$profiles)"
   ]
  },
  {
   "cell_type": "code",
   "execution_count": null,
   "id": "ee114e9a",
   "metadata": {},
   "outputs": [],
   "source": [
    "str(fp_layout)"
   ]
  },
  {
   "cell_type": "code",
   "execution_count": null,
   "id": "89e0ff44",
   "metadata": {},
   "outputs": [],
   "source": [
    "head(semisup$logliks)"
   ]
  },
  {
   "cell_type": "code",
   "execution_count": null,
   "id": "d6b17911",
   "metadata": {},
   "outputs": [],
   "source": [
    "head(semisup$profiles)"
   ]
  },
  {
   "cell_type": "code",
   "execution_count": null,
   "id": "0387e88b",
   "metadata": {},
   "outputs": [],
   "source": [
    "dim(fp_layout$clustpos)"
   ]
  },
  {
   "cell_type": "code",
   "execution_count": null,
   "id": "60f4afa7",
   "metadata": {},
   "outputs": [],
   "source": [
    "head(fp_layout$cellpos)"
   ]
  },
  {
   "cell_type": "code",
   "execution_count": null,
   "id": "d0592bce",
   "metadata": {},
   "outputs": [],
   "source": [
    "fp"
   ]
  },
  {
   "cell_type": "code",
   "execution_count": null,
   "id": "28d5b80f",
   "metadata": {
    "tags": []
   },
   "outputs": [],
   "source": [
    "saveGiotto(fov_join, foldername = 'saveGiottoDir_final_before_submission')"
   ]
  },
  {
   "cell_type": "markdown",
   "id": "5062c94d",
   "metadata": {
    "jp-MarkdownHeadingCollapsed": true,
    "tags": []
   },
   "source": [
    "# 7. Calculate dimension reduction"
   ]
  },
  {
   "cell_type": "code",
   "execution_count": null,
   "id": "865d5ad7",
   "metadata": {},
   "outputs": [],
   "source": [
    "library(dplyr)"
   ]
  },
  {
   "cell_type": "code",
   "execution_count": null,
   "id": "2f6aea7b",
   "metadata": {},
   "outputs": [],
   "source": [
    "# typical way of calculating HVG\n",
    "options(repr.plot.width=7, repr.plot.height=7)\n",
    "fov_join <- calculateHVF(gobject = fov_join,\n",
    "                         HVFname = 'hvg_orig')"
   ]
  },
  {
   "cell_type": "code",
   "execution_count": null,
   "id": "b55e076e",
   "metadata": {},
   "outputs": [],
   "source": [
    "options(repr.plot.width=7, repr.plot.height=7)\n",
    "# new method based on variance of pearson residuals for each gene\n",
    "fov_join <- calculateHVF(gobject = fov_join,\n",
    "                         method = 'var_p_resid',\n",
    "                         expression_values = 'pearson',\n",
    "                         show_plot = T)"
   ]
  },
  {
   "cell_type": "code",
   "execution_count": null,
   "id": "ac1e7d1b",
   "metadata": {
    "tags": []
   },
   "outputs": [],
   "source": [
    "gene_meta = fDataDT(fov_join)"
   ]
  },
  {
   "cell_type": "code",
   "execution_count": null,
   "id": "e1bd6c41",
   "metadata": {},
   "outputs": [],
   "source": [
    "length(gene_meta[hvf == 'yes']$feat_ID)"
   ]
  },
  {
   "cell_type": "code",
   "execution_count": null,
   "id": "9641eb6e",
   "metadata": {},
   "outputs": [],
   "source": [
    "gene_meta[hvf == 'yes']$feat_ID"
   ]
  },
  {
   "cell_type": "code",
   "execution_count": null,
   "id": "2cb41c57",
   "metadata": {
    "tags": []
   },
   "outputs": [],
   "source": [
    "options(repr.plot.width=7, repr.plot.height=7)\n",
    "fov_join <- runPCA(gobject = fov_join, feats_to_use = gene_meta[hvf == 'yes']$feat_ID,\n",
    "                   expression_values = 'pearson',\n",
    "                   scale_unit = F,\n",
    "                   center = F)\n",
    "screePlot(fov_join, ncp = 20)"
   ]
  },
  {
   "cell_type": "code",
   "execution_count": null,
   "id": "c1cee44d",
   "metadata": {
    "tags": []
   },
   "outputs": [],
   "source": [
    "plotPCA(fov_join,\n",
    "        dim1_to_use = 1,\n",
    "        dim2_to_use = 2)"
   ]
  },
  {
   "cell_type": "code",
   "execution_count": null,
   "id": "cef09ae8",
   "metadata": {},
   "outputs": [],
   "source": [
    "fov_join <- runUMAP(fov_join, #min_dist = 0,\n",
    "                    dimensions_to_use = 1:20,\n",
    "                    n_threads = 4)\n"
   ]
  },
  {
   "cell_type": "code",
   "execution_count": null,
   "id": "2a6ec3b9",
   "metadata": {},
   "outputs": [],
   "source": [
    "plotUMAP(gobject = fov_join)"
   ]
  },
  {
   "cell_type": "code",
   "execution_count": null,
   "id": "91430511",
   "metadata": {},
   "outputs": [],
   "source": [
    "fov_join <- createNearestNetwork(gobject = fov_join,\n",
    "                                 dimensions_to_use = 1:20,\n",
    "                                 k = 10)"
   ]
  },
  {
   "cell_type": "markdown",
   "id": "8a52f67d",
   "metadata": {
    "tags": []
   },
   "source": [
    "# 10. Cluster"
   ]
  },
  {
   "cell_type": "markdown",
   "id": "df7e20e2",
   "metadata": {
    "jp-MarkdownHeadingCollapsed": true,
    "tags": []
   },
   "source": [
    "### Integrate cluster with Nanostring analysis"
   ]
  },
  {
   "cell_type": "code",
   "execution_count": null,
   "id": "d7bee3fd",
   "metadata": {},
   "outputs": [],
   "source": [
    "aaa <- readRDS('seurat_object.Rds')"
   ]
  },
  {
   "cell_type": "code",
   "execution_count": null,
   "id": "7d8d7443",
   "metadata": {},
   "outputs": [],
   "source": [
    "aaa"
   ]
  },
  {
   "cell_type": "code",
   "execution_count": null,
   "id": "618ee246",
   "metadata": {},
   "outputs": [],
   "source": [
    "library(Seurat)"
   ]
  },
  {
   "cell_type": "code",
   "execution_count": null,
   "id": "ddbb16e2",
   "metadata": {},
   "outputs": [],
   "source": [
    "unique(aaa@meta.data$fov)"
   ]
  },
  {
   "cell_type": "code",
   "execution_count": null,
   "id": "f15cea05",
   "metadata": {},
   "outputs": [],
   "source": [
    "metadata <- aaa@meta.data"
   ]
  },
  {
   "cell_type": "code",
   "execution_count": null,
   "id": "0cd9fb4f",
   "metadata": {},
   "outputs": [],
   "source": [
    "library(stringr)"
   ]
  },
  {
   "cell_type": "code",
   "execution_count": null,
   "id": "abfae1eb",
   "metadata": {},
   "outputs": [],
   "source": [
    "# replace the fov_join \n",
    "# take some time \n",
    "test10 <- c()\n",
    "for (i in 1:dim(fov_join@cell_metadata$cell$rna )[1]){\n",
    "    test <- fov_join@cell_metadata$cell$rna$cell_ID[i]\n",
    "        if (str_detect(test, 'Fundic')) {\n",
    "            test2 <- str_replace(test, 'Fundic-','Run5458.5006_')\n",
    "            test3 <- str_split(test2, '_')[[1]]\n",
    "            test4 <- paste0(test3[1], '_',test3[3],'_',test3[2])\n",
    "            j <- as.integer(str_sub(test3[2],4,6))\n",
    "#            print(test3[2])\n",
    " #           print(test4)\n",
    "            \n",
    "        if ( j < 10) {\n",
    "        test4 <- str_replace(test4, paste0('fov00',j,'-cell'), as.character(j))\n",
    "            } else {\n",
    "            test4 <- str_replace(test4, paste0('fov0',j,'-cell'), as.character(j))\n",
    "            }    \n",
    "        } else {\n",
    "            test2 <- str_replace(test, 'Pyloric-','Run5458.0507_')\n",
    "            test3 <- str_split(test2, '_')[[1]]\n",
    "            test4 <- paste0(test3[1], '_',test3[3],'_',test3[2])\n",
    "            j <- as.integer(str_sub(test3[2],4,6))\n",
    "#            print(test3[2])\n",
    " #           print(test4)\n",
    "            \n",
    "        if ( j < 10) {\n",
    "        test4 <- str_replace(test4, paste0('fov00',j,'-cell'), as.character(j))\n",
    "            } else {\n",
    "            test4 <- str_replace(test4, paste0('fov0',j,'-cell'), as.character(j))\n",
    "            }    \n",
    "        }\n",
    "            \n",
    "            \n",
    "    test10 <- c(test10,test4)\n",
    "    }"
   ]
  },
  {
   "cell_type": "code",
   "execution_count": null,
   "id": "a5dc178c",
   "metadata": {},
   "outputs": [],
   "source": [
    "length(test10)"
   ]
  },
  {
   "cell_type": "code",
   "execution_count": null,
   "id": "05444763",
   "metadata": {},
   "outputs": [],
   "source": [
    "head(test10)"
   ]
  },
  {
   "cell_type": "code",
   "execution_count": null,
   "id": "bfd3e4fa",
   "metadata": {},
   "outputs": [],
   "source": [
    "fov_join <- addCellMetadata(fov_join, new_metadata = test10, vector_name = 'cell_ID_2')"
   ]
  },
  {
   "cell_type": "code",
   "execution_count": null,
   "id": "aaf05fa5",
   "metadata": {},
   "outputs": [],
   "source": [
    "giotto_meta <- pDataDT(fov_join)"
   ]
  },
  {
   "cell_type": "code",
   "execution_count": null,
   "id": "d2091393",
   "metadata": {},
   "outputs": [],
   "source": [
    "colnames(giotto_meta)"
   ]
  },
  {
   "cell_type": "code",
   "execution_count": null,
   "id": "589b156c",
   "metadata": {},
   "outputs": [],
   "source": [
    "giotto_meta <- as.data.frame(giotto_meta)"
   ]
  },
  {
   "cell_type": "code",
   "execution_count": null,
   "id": "a11a6fb4",
   "metadata": {},
   "outputs": [],
   "source": [
    "rownames(giotto_meta) = giotto_meta$cell_ID_2"
   ]
  },
  {
   "cell_type": "code",
   "execution_count": null,
   "id": "d2f8434a",
   "metadata": {},
   "outputs": [],
   "source": [
    "dim(giotto_meta)"
   ]
  },
  {
   "cell_type": "code",
   "execution_count": null,
   "id": "caafedd6",
   "metadata": {},
   "outputs": [],
   "source": [
    "dim(metadata2)"
   ]
  },
  {
   "cell_type": "code",
   "execution_count": null,
   "id": "d9ac2bea",
   "metadata": {},
   "outputs": [],
   "source": [
    "head(rownames(metadata2))"
   ]
  },
  {
   "cell_type": "code",
   "execution_count": null,
   "id": "175dfde4",
   "metadata": {},
   "outputs": [],
   "source": [
    "inter <- intersect(rownames(metadata2), rownames(giotto_meta))"
   ]
  },
  {
   "cell_type": "code",
   "execution_count": null,
   "id": "5cb17051",
   "metadata": {},
   "outputs": [],
   "source": [
    "length(inter)"
   ]
  },
  {
   "cell_type": "code",
   "execution_count": null,
   "id": "56352e08",
   "metadata": {},
   "outputs": [],
   "source": [
    "giotto_meta <- giotto_meta[inter,]"
   ]
  },
  {
   "cell_type": "code",
   "execution_count": null,
   "id": "540f95af",
   "metadata": {},
   "outputs": [],
   "source": [
    "subset_cell_ids = giotto_meta$cell_ID"
   ]
  },
  {
   "cell_type": "code",
   "execution_count": null,
   "id": "abe9b310",
   "metadata": {},
   "outputs": [],
   "source": [
    "dim(pDataDT(fov_join2))"
   ]
  },
  {
   "cell_type": "code",
   "execution_count": null,
   "id": "9bc39a71",
   "metadata": {},
   "outputs": [],
   "source": [
    "fov_join <- fov_join2"
   ]
  },
  {
   "cell_type": "code",
   "execution_count": null,
   "id": "497e65db",
   "metadata": {},
   "outputs": [],
   "source": [
    "remove(fov_join2)"
   ]
  },
  {
   "cell_type": "code",
   "execution_count": null,
   "id": "19db2b76",
   "metadata": {},
   "outputs": [],
   "source": [
    "min(metadata2$nCount_Nanostring)"
   ]
  },
  {
   "cell_type": "code",
   "execution_count": null,
   "id": "f2f520b9",
   "metadata": {},
   "outputs": [],
   "source": [
    "dim(metadata2)"
   ]
  },
  {
   "cell_type": "markdown",
   "id": "2b030d27",
   "metadata": {},
   "source": [
    "fov_join <- addCellMetadata(fov_join, new_metadata = metadata2)"
   ]
  },
  {
   "cell_type": "code",
   "execution_count": null,
   "id": "a9f851f3",
   "metadata": {},
   "outputs": [],
   "source": [
    "colnames(pDataDT(fov_join))"
   ]
  },
  {
   "cell_type": "code",
   "execution_count": null,
   "id": "783b3f4b",
   "metadata": {},
   "outputs": [],
   "source": [
    "table(pDataDT(fov_join)$tissue)"
   ]
  },
  {
   "cell_type": "code",
   "execution_count": null,
   "id": "6057a180",
   "metadata": {},
   "outputs": [],
   "source": [
    "sum(pDataDT(fov_join)[pDataDT(fov_join)$tissue=='Stomach_0507']$nCount_Nanostring)"
   ]
  },
  {
   "cell_type": "code",
   "execution_count": null,
   "id": "3725e5d9",
   "metadata": {},
   "outputs": [],
   "source": [
    "max(pDataDT(fov_join)[pDataDT(fov_join)$tissue=='Stomach_0507']$nCount_Nanostring)"
   ]
  },
  {
   "cell_type": "code",
   "execution_count": null,
   "id": "91b82bf0",
   "metadata": {},
   "outputs": [],
   "source": [
    "max(pDataDT(fov_join)[pDataDT(fov_join)$tissue=='Stomach_0507']$Area)*0.324"
   ]
  },
  {
   "cell_type": "code",
   "execution_count": null,
   "id": "09aa2ad9",
   "metadata": {},
   "outputs": [],
   "source": [
    "a <- pDataDT(fov_join)[pDataDT(fov_join)$tissue=='Stomach_0507']"
   ]
  },
  {
   "cell_type": "code",
   "execution_count": null,
   "id": "eaed8f6f",
   "metadata": {
    "tags": []
   },
   "outputs": [],
   "source": [
    "a[a$list_ID=='Fundic']"
   ]
  },
  {
   "cell_type": "code",
   "execution_count": null,
   "id": "7b80c0a4",
   "metadata": {},
   "outputs": [],
   "source": [
    "mean(pDataDT(fov_join)[pDataDT(fov_join)$tissue=='Stomach_0507']$Area)"
   ]
  },
  {
   "cell_type": "code",
   "execution_count": null,
   "id": "9334c934",
   "metadata": {},
   "outputs": [],
   "source": [
    "19180536/129636"
   ]
  },
  {
   "cell_type": "code",
   "execution_count": null,
   "id": "96349262",
   "metadata": {},
   "outputs": [],
   "source": [
    "sum(pDataDT(fov_join)[pDataDT(fov_join)$tissue=='Stomach_5006']$nCount_Nanostring)"
   ]
  },
  {
   "cell_type": "code",
   "execution_count": null,
   "id": "3d80026b",
   "metadata": {},
   "outputs": [],
   "source": [
    "max(pDataDT(fov_join)[pDataDT(fov_join)$tissue=='Stomach_5006']$nCount_Nanostring)"
   ]
  },
  {
   "cell_type": "code",
   "execution_count": null,
   "id": "94190475",
   "metadata": {},
   "outputs": [],
   "source": [
    "19180536/129636"
   ]
  },
  {
   "cell_type": "code",
   "execution_count": null,
   "id": "c0dbf77d",
   "metadata": {},
   "outputs": [],
   "source": []
  },
  {
   "cell_type": "code",
   "execution_count": null,
   "id": "1b795682",
   "metadata": {},
   "outputs": [],
   "source": [
    "options(repr.plot.height=7, repr.plot.width=7)\n",
    "cellmeta = pDataDT(fov_join, feat_type = 'rna')\n",
    "hist(cellmeta$nr_feats, 100)"
   ]
  },
  {
   "cell_type": "code",
   "execution_count": null,
   "id": "73820696",
   "metadata": {},
   "outputs": [],
   "source": [
    "cell_ids <- colnames(fov_join@expression$cell$rna$raw)"
   ]
  },
  {
   "cell_type": "markdown",
   "id": "c9cb0858",
   "metadata": {
    "jp-MarkdownHeadingCollapsed": true,
    "tags": []
   },
   "source": [
    "### add InSituType cluster"
   ]
  },
  {
   "cell_type": "code",
   "execution_count": null,
   "id": "445864df",
   "metadata": {},
   "outputs": [],
   "source": [
    "head(semisup$clust)"
   ]
  },
  {
   "cell_type": "code",
   "execution_count": null,
   "id": "ccf8308e",
   "metadata": {},
   "outputs": [],
   "source": [
    "head(pDataDT(fov_join))"
   ]
  },
  {
   "cell_type": "code",
   "execution_count": null,
   "id": "c2d6cf85",
   "metadata": {},
   "outputs": [],
   "source": [
    "head(semisup$clust)"
   ]
  },
  {
   "cell_type": "code",
   "execution_count": null,
   "id": "8e62c243",
   "metadata": {},
   "outputs": [],
   "source": [
    "head(pDataDT(fov_join)$cell_ID)"
   ]
  },
  {
   "cell_type": "code",
   "execution_count": null,
   "id": "d0c5b54c",
   "metadata": {},
   "outputs": [],
   "source": [
    "semisup$clust[pDataDT(fov_join)$cell_ID]"
   ]
  },
  {
   "cell_type": "code",
   "execution_count": null,
   "id": "96b6b5e4",
   "metadata": {},
   "outputs": [],
   "source": [
    "fov_join <- addCellMetadata(fov_join, new_metadata = as.data.frame(semisup$clust[pDataDT(fov_join)$cell_ID]))"
   ]
  },
  {
   "cell_type": "code",
   "execution_count": null,
   "id": "ee38ef6a",
   "metadata": {},
   "outputs": [],
   "source": [
    "unique(fov_join@cell_metadata$cell$rna$'semisup$clust[pDataDT(fov_join)$cell_ID]')"
   ]
  },
  {
   "cell_type": "code",
   "execution_count": null,
   "id": "7676d881",
   "metadata": {
    "tags": []
   },
   "outputs": [],
   "source": [
    "# visualize UMAP cluster results\n",
    "options(repr.plot.width=14,repr.plot.height=14)\n",
    "plotUMAP(gobject = fov_join,\n",
    "         cell_color = 'semisup$clust[pDataDT(fov_join)$cell_ID]',\n",
    "         show_NN_network = FALSE,\n",
    "         point_size = 1)"
   ]
  },
  {
   "cell_type": "code",
   "execution_count": null,
   "id": "fb2013ba",
   "metadata": {
    "tags": []
   },
   "outputs": [],
   "source": [
    "cols <- unlist(cols[seq_along(unique(semisup$clust))])\n",
    "names(cols) <- unique(semisup$clust)\n",
    "cols[is.element(names(cols), names(iocolors))] <- iocolors[names(cols)[is.element(names(cols), names(iocolors))]]\n",
    "\n",
    "par(mfrow = c(1, 2))\n",
    "par(mar = c(0, 0, 3, 0))\n",
    "\n",
    "plot(fov_join@spatial_locs$cell$raw$sdimx, fov_join@spatial_locs$cell$raw$sdimy, pch = 16, cex = .01, asp = 1, cex.main = 0.75,\n",
    "          main = \"cells in physical space\",\n",
    "     col = cols[semisup$clust], xlab = \"\", ylab = \"\", xaxt = \"n\", yaxt = \"n\")\n",
    "\n",
    "plot(fov_join@dimension_reduction$cells$cell$rna$umap$umap@coordinates, pch = 16, cex = .01, asp = 1, cex.main = 0.75,\n",
    "     main = \"cells in UMAP space\",     \n",
    "     col = cols[semisup$clust], xlab = \"\", ylab = \"\", xaxt = \"n\", yaxt = \"n\")\n",
    "legend(\"bottomleft\", pch = 16, col = cols, legend = names(cols), cex = 0.7)"
   ]
  },
  {
   "cell_type": "markdown",
   "id": "33a3aac9",
   "metadata": {},
   "source": [
    "fov_join <- doLeidenCluster(gobject = fov_join,\n",
    "                            resolution = 0.1,\n",
    "                            n_iterations = 1000)"
   ]
  },
  {
   "cell_type": "markdown",
   "id": "0417dde3",
   "metadata": {
    "tags": []
   },
   "source": [
    "# CosMx cluster annotation"
   ]
  },
  {
   "cell_type": "code",
   "execution_count": null,
   "id": "3adb0a98",
   "metadata": {},
   "outputs": [],
   "source": [
    "library(Giotto)\n",
    "library(data.table)\n",
    "library(Seurat)"
   ]
  },
  {
   "cell_type": "markdown",
   "id": "f2c6448a",
   "metadata": {},
   "source": [
    "fov_join <- loadGiotto('./saveGiottoDir_final_before_submission/')"
   ]
  },
  {
   "cell_type": "code",
   "execution_count": null,
   "id": "bfc0a73f",
   "metadata": {},
   "outputs": [],
   "source": [
    "head(pDataDT(fov_join))"
   ]
  },
  {
   "cell_type": "code",
   "execution_count": null,
   "id": "3efb11ca",
   "metadata": {},
   "outputs": [],
   "source": [
    "colnames(fov_join@cell_metadata$cell$rna@metaDT)[28] <- 'cell_types'"
   ]
  },
  {
   "cell_type": "code",
   "execution_count": null,
   "id": "d8779a1f",
   "metadata": {
    "tags": []
   },
   "outputs": [],
   "source": [
    "# take few hours and use a lot of memory\n",
    "markers2 = findMarkers_one_vs_all(gobject = fov_join,\n",
    "                                 method = 'gini',\n",
    "                                 expression_values = 'normalized',\n",
    "                                 cluster_column = 'cell_types2',\n",
    "                                 min_feats = 5,\n",
    "                                 rank_score = 2)\n",
    "# violinplot"
   ]
  },
  {
   "cell_type": "markdown",
   "id": "9b1e2343",
   "metadata": {
    "jupyter": {
     "outputs_hidden": true
    },
    "tags": []
   },
   "source": [
    "spatDimPlot2D(gobject = fov_join,\n",
    "              show_image = T,\n",
    "              image_name = image_names,\n",
    "              cell_color = 'cell_types2',\n",
    "              spat_point_size = 0.5)"
   ]
  },
  {
   "cell_type": "code",
   "execution_count": null,
   "id": "6d216989",
   "metadata": {},
   "outputs": [],
   "source": [
    "write.csv(markers,'20221205_cosmx_marker_gene.csv')"
   ]
  },
  {
   "cell_type": "code",
   "execution_count": null,
   "id": "9c8de41c",
   "metadata": {},
   "outputs": [],
   "source": [
    "markers <- read.csv('20221205_cosmx_marker_gene.csv')"
   ]
  },
  {
   "cell_type": "code",
   "execution_count": null,
   "id": "f326d3d8",
   "metadata": {},
   "outputs": [],
   "source": [
    "library(dplyr)"
   ]
  },
  {
   "cell_type": "code",
   "execution_count": null,
   "id": "cb3b9952",
   "metadata": {},
   "outputs": [],
   "source": [
    "head(markers)"
   ]
  },
  {
   "cell_type": "markdown",
   "id": "a7080284",
   "metadata": {},
   "source": [
    "markers %>% group_by(cluster) %>% top_n(3, expression_gini)"
   ]
  },
  {
   "cell_type": "code",
   "execution_count": null,
   "id": "127c2fab",
   "metadata": {},
   "outputs": [],
   "source": [
    "topgini_genes <- markers %>% group_by(cluster) %>% top_n(3, expression_gini)"
   ]
  },
  {
   "cell_type": "code",
   "execution_count": null,
   "id": "e0ffd9cb",
   "metadata": {},
   "outputs": [],
   "source": [
    "topgini_genes = unique(topgini_genes$feats)"
   ]
  },
  {
   "cell_type": "code",
   "execution_count": null,
   "id": "ef7e4620",
   "metadata": {},
   "outputs": [],
   "source": [
    "cluster_order = unique(fov_join@cell_metadata$cell$rna$cell_types)"
   ]
  },
  {
   "cell_type": "code",
   "execution_count": null,
   "id": "f7ce2653",
   "metadata": {},
   "outputs": [],
   "source": [
    "options(repr.plot.width=14, repr.plot.height=20)\n",
    "plotMetaDataHeatmap(fov_join, \n",
    "                    expression_values = 'scaled',\n",
    "                    metadata_cols = 'cell_types',\n",
    "                    selected_feats = c(topgini_genes,'KRT19','MKI67','EPCAM','LEFTY1','OLFM4','APOA1','CD3D','COL1A1','BMP4'),\n",
    "                    custom_cluster_order = sort(cluster_order))"
   ]
  },
  {
   "cell_type": "code",
   "execution_count": null,
   "id": "4314211f",
   "metadata": {},
   "outputs": [],
   "source": [
    "cluster_order = sort(cluster_order)"
   ]
  },
  {
   "cell_type": "code",
   "execution_count": null,
   "id": "5bb9da0e",
   "metadata": {},
   "outputs": [],
   "source": [
    "cluster_order"
   ]
  },
  {
   "cell_type": "code",
   "execution_count": null,
   "id": "a3ca170e",
   "metadata": {},
   "outputs": [],
   "source": [
    "## add cell types ###\n",
    "cluster_order = sort(cluster_order)\n",
    "clusters_cell_types_lung = c('TA_Ent', 'ADH1+GKN1-F', 'pro_B-cell', 'B-cell',#a,ADH1+F,b,B-cell\n",
    "                             'Chief', 'CCL11+FB','Pyloric_deep','LEFTY1_epi', #c, CCL11+FB, chief, d\n",
    "                             'OLFM4+Epi','endothelial','Ent','Stromal', #e,endothelial,Ent,f\n",
    "                             'FibSmo','Ent2', #'FibSmo','g'\n",
    "                             'GKN+F', 'Gob', 'plasma', 'plasma', #'GKN+F', 'Gob', 'h', 'i'\n",
    "                             'Foveolar','KLF+FB',#j, KLF+FB\n",
    "                             \"macrophage\",\"mast\",\"mDC\",\"pericyte\",#\"macrophage\",\"mast\",\"mDC\",\"MFB\"\n",
    "                             'monocyte','NE1','NE2','neutrophil',\n",
    "                             'NK','PC','pDC','PDGFR+FB','PG/Neck1', 'PG/Neck2', 'plasma','pericyte_SM','T CD4 memory', 'T CD4 naive', 'T CD8 memory','T CD8 naive','Treg')\n",
    "\n",
    "names(clusters_cell_types_lung) = as.character(sort(cluster_order))"
   ]
  },
  {
   "cell_type": "code",
   "execution_count": null,
   "id": "e0ab8932",
   "metadata": {},
   "outputs": [],
   "source": [
    "clusters_cell_types_lung"
   ]
  },
  {
   "cell_type": "markdown",
   "id": "259f8a49",
   "metadata": {},
   "source": [
    "41 cluster -> 39 cluster"
   ]
  },
  {
   "cell_type": "code",
   "execution_count": null,
   "id": "ed2b20a4",
   "metadata": {},
   "outputs": [],
   "source": [
    "head(pDataDT(fov_join))"
   ]
  },
  {
   "cell_type": "code",
   "execution_count": null,
   "id": "bf6d8994",
   "metadata": {},
   "outputs": [],
   "source": [
    "head(pDataDT(fov_join))"
   ]
  },
  {
   "cell_type": "code",
   "execution_count": null,
   "id": "59416b9a",
   "metadata": {},
   "outputs": [],
   "source": [
    "trans <- data.frame(\n",
    "    old = names(clusters_cell_types_lung),\n",
    "    new = clusters_cell_types_lung\n",
    "    )"
   ]
  },
  {
   "cell_type": "code",
   "execution_count": null,
   "id": "2c536eea",
   "metadata": {},
   "outputs": [],
   "source": [
    "new_clus <- lapply(pDataDT(fov_join)$cell_types, function(x) {\n",
    "    as.vector(trans$new[match(x, trans$old)])\n",
    "    }\n",
    "       )"
   ]
  },
  {
   "cell_type": "code",
   "execution_count": null,
   "id": "213aad4e",
   "metadata": {},
   "outputs": [],
   "source": [
    "new_clus <- unlist(new_clus)"
   ]
  },
  {
   "cell_type": "code",
   "execution_count": null,
   "id": "c75fe26d",
   "metadata": {},
   "outputs": [],
   "source": [
    "fov_join <- addCellMetadata(fov_join, new_metadata = new_clus)"
   ]
  },
  {
   "cell_type": "code",
   "execution_count": null,
   "id": "4eb7ce14",
   "metadata": {},
   "outputs": [],
   "source": [
    "options(repr.plot.width=14, repr.plot.height=20)\n",
    "p1 <- plotMetaDataHeatmap(fov_join, \n",
    "                    expression_values = 'scaled',\n",
    "                    metadata_cols = 'cell_types',\n",
    "                    selected_feats = c(topgini_genes,'KRT19','MKI67','EPCAM','LEFTY1','OLFM4','APOA1','CD3D','COL1A1','BMP4'),\n",
    "                    custom_cluster_order = sort(cluster_order))"
   ]
  },
  {
   "cell_type": "code",
   "execution_count": null,
   "id": "758ffc5b",
   "metadata": {},
   "outputs": [],
   "source": [
    "length(unique(pDataDT(fov_join)$new_clus))"
   ]
  },
  {
   "cell_type": "code",
   "execution_count": null,
   "id": "0fa8fec8",
   "metadata": {},
   "outputs": [],
   "source": [
    "cluster_order2 <- c('Foveolar',\n",
    "                                           'GKN+F',\n",
    "                                           'ADH1+GKN1-F',\n",
    "                    'Ent',\n",
    "                                           'TA_Ent',\n",
    "                                           'Ent2',\n",
    "                                           'OLFM4+Epi',\n",
    "                                           'Gob',\n",
    "                                           'NE1',\n",
    "                                           'NE2',\n",
    "                                           'LEFTY1_epi',\n",
    "                                           'PG/Neck1',\n",
    "                                           'Chief',\n",
    "                                           'PC',\n",
    "                                           'PG/Neck2',\n",
    "                                           'Pyloric_deep',\n",
    "                                           \n",
    "                                           'B-cell',\n",
    "                                           'pro_B-cell',\n",
    "                                           'plasma',\n",
    "                                           'T CD4 memory',\n",
    "                                           'T CD8 memory',\n",
    "                                           'T CD4 naive',\n",
    "                                           'T CD8 naive',\n",
    "                                           'Treg',\n",
    "                                           'NK',\n",
    "                                           'macrophage',\n",
    "                                           'mast',\n",
    "                                           'mDC',\n",
    "                                           'monocyte',\n",
    "                                           'pDC',\n",
    "                                           'neutrophil',\n",
    "                    'endothelial',\n",
    "                                           'CCL11+FB',\n",
    "                                           'KLF+FB',\n",
    "                                           'PDGFR+FB',\n",
    "                                           'pericyte',\n",
    "                                           'FibSmo',\n",
    "                                           'Stromal',\n",
    "                                           'pericyte_SM'\n",
    "                                           )"
   ]
  },
  {
   "cell_type": "code",
   "execution_count": null,
   "id": "dd6e8164",
   "metadata": {},
   "outputs": [],
   "source": [
    "options(repr.plot.width=14, repr.plot.height=20)\n",
    "p2 <- plotMetaDataHeatmap(fov_join, show_plot = FALSE,return_plot = TRUE,\n",
    "                    expression_values = 'scaled',\n",
    "                    metadata_cols = 'new_clus',\n",
    "                    selected_feats = c(topgini_genes,'KRT19','MKI67','EPCAM','LEFTY1','OLFM4','APOA1','CD3D','COL1A1','BMP4'),\n",
    "                    custom_cluster_order = rev(cluster_order2))"
   ]
  },
  {
   "cell_type": "code",
   "execution_count": null,
   "id": "093bd719",
   "metadata": {},
   "outputs": [],
   "source": [
    "class(p2)"
   ]
  },
  {
   "cell_type": "code",
   "execution_count": null,
   "id": "957c046d",
   "metadata": {},
   "outputs": [],
   "source": [
    "library(ggplot2)"
   ]
  },
  {
   "cell_type": "code",
   "execution_count": null,
   "id": "3c1b9be3",
   "metadata": {},
   "outputs": [],
   "source": [
    "options(repr.plot.width=16, repr.plot.height=10)\n",
    "pdf('Fig6C.pdf',width = 16, height=10)\n",
    "p2 + coord_flip() + theme(axis.text.x = element_text(angle = 90))\n",
    "dev.off()"
   ]
  },
  {
   "cell_type": "code",
   "execution_count": null,
   "id": "aa3555b4",
   "metadata": {},
   "outputs": [],
   "source": [
    "head(pDataDT(fov_join))"
   ]
  },
  {
   "cell_type": "code",
   "execution_count": null,
   "id": "74b18f97",
   "metadata": {},
   "outputs": [],
   "source": [
    "table(pDataDT(fov_join)$new_clus)"
   ]
  },
  {
   "cell_type": "code",
   "execution_count": null,
   "id": "b7d33fa7",
   "metadata": {},
   "outputs": [],
   "source": [
    "## add cell types ###\n",
    "cluster_order = sort(cluster_order)\n",
    "clusters_cell_types_lung = c('Epi', 'Epi', 'Stromal', 'Stromal',#a,ADH1+F,b,B-cell\n",
    "                             'Epi', 'Stromal','Epi','Epi', #c, CCL11+FB, chief, d\n",
    "                             'Epi','Stromal','Epi','Stromal', #e,endothelial,Ent,f\n",
    "                             'Stromal','Epi', #'FibSmo','g'\n",
    "                             'Epi', 'Epi', 'Stromal', 'Stromal', #'GKN+F', 'Gob', 'h', 'i'\n",
    "                             'Epi','Stromal',#j, KLF+FB\n",
    "                             \"Stromal\",\"Stromal\",\"Stromal\",\"Stromal\",#\"macrophage\",\"mast\",\"mDC\",\"MFB\"\n",
    "                             'Stromal','Epi','Epi','Stromal',\n",
    "                             'Stromal','Epi','Stromal','Stromal','Epi', 'Epi', 'Stromal','Stromal','Stromal', 'Stromal', 'Stromal','Stromal','Stromal')\n",
    "\n",
    "names(clusters_cell_types_lung) = as.character(sort(cluster_order))"
   ]
  },
  {
   "cell_type": "code",
   "execution_count": null,
   "id": "93236161",
   "metadata": {},
   "outputs": [],
   "source": [
    "clusters_cell_types_lung"
   ]
  },
  {
   "cell_type": "code",
   "execution_count": null,
   "id": "fc982679",
   "metadata": {},
   "outputs": [],
   "source": [
    "head(pDataDT(fov_join))"
   ]
  },
  {
   "cell_type": "code",
   "execution_count": null,
   "id": "31dd0ab3",
   "metadata": {},
   "outputs": [],
   "source": [
    "trans <- data.frame(\n",
    "    old = names(clusters_cell_types_lung),\n",
    "    new = clusters_cell_types_lung\n",
    "    )"
   ]
  },
  {
   "cell_type": "code",
   "execution_count": null,
   "id": "b52ef8cf",
   "metadata": {},
   "outputs": [],
   "source": [
    "major_clus <- lapply(pDataDT(fov_join)$cell_types, function(x) {\n",
    "    as.vector(trans$new[match(x, trans$old)])\n",
    "    }\n",
    "       )"
   ]
  },
  {
   "cell_type": "code",
   "execution_count": null,
   "id": "65509031",
   "metadata": {},
   "outputs": [],
   "source": [
    "major_clus <- unlist(major_clus)"
   ]
  },
  {
   "cell_type": "code",
   "execution_count": null,
   "id": "3618ce02",
   "metadata": {},
   "outputs": [],
   "source": [
    "fov_join <- addCellMetadata(fov_join, new_metadata = major_clus)"
   ]
  },
  {
   "cell_type": "code",
   "execution_count": null,
   "id": "89fc0e44",
   "metadata": {},
   "outputs": [],
   "source": [
    "## add cell types ###\n",
    "cluster_order = sort(cluster_order)\n",
    "clusters_cell_types_lung = c('Epi', 'Epi', 'B/plasma', 'B/plasma',#a,ADH1+F,b,B-cell\n",
    "                             'Epi', 'Fibro','Epi','Epi', #c, CCL11+FB, chief, d\n",
    "                             'Epi','endothelial','Epi','Stromal', #e,endothelial,Ent,f\n",
    "                             'Fibro','Epi', #'FibSmo','g'\n",
    "                             'Epi', 'Epi', 'B/plasma', 'B/plasma', #'GKN+F', 'Gob', 'h', 'i'\n",
    "                             'Epi','Fibro',#j, KLF+FB\n",
    "                             \"MC\",\"MC\",\"MC\",\"Fibro\",#\"macrophage\",\"mast\",\"mDC\",\"MFB\"\n",
    "                             'MC','Epi','Epi','MC',\n",
    "                             'NK','Epi','MC','Fibro','Epi', 'Epi', 'B/plasma','Fibro','T', 'T', 'T','T','T')\n",
    "\n",
    "names(clusters_cell_types_lung) = as.character(sort(cluster_order))"
   ]
  },
  {
   "cell_type": "code",
   "execution_count": null,
   "id": "137f2d87",
   "metadata": {},
   "outputs": [],
   "source": [
    "clusters_cell_types_lung"
   ]
  },
  {
   "cell_type": "code",
   "execution_count": null,
   "id": "b6b99b6c",
   "metadata": {},
   "outputs": [],
   "source": [
    "head(pDataDT(fov_join))"
   ]
  },
  {
   "cell_type": "code",
   "execution_count": null,
   "id": "bc771d92",
   "metadata": {},
   "outputs": [],
   "source": [
    "trans <- data.frame(\n",
    "    old = names(clusters_cell_types_lung),\n",
    "    new = clusters_cell_types_lung\n",
    "    )"
   ]
  },
  {
   "cell_type": "code",
   "execution_count": null,
   "id": "93037b14",
   "metadata": {},
   "outputs": [],
   "source": [
    "major_clus2 <- lapply(pDataDT(fov_join)$cell_types, function(x) {\n",
    "    as.vector(trans$new[match(x, trans$old)])\n",
    "    }\n",
    "       )"
   ]
  },
  {
   "cell_type": "code",
   "execution_count": null,
   "id": "d9cf5725",
   "metadata": {},
   "outputs": [],
   "source": [
    "major_clus2 <- unlist(major_clus2)"
   ]
  },
  {
   "cell_type": "code",
   "execution_count": null,
   "id": "1c2a57e3",
   "metadata": {},
   "outputs": [],
   "source": [
    "fov_join <- addCellMetadata(fov_join, new_metadata = major_clus2)"
   ]
  },
  {
   "cell_type": "markdown",
   "id": "4babb981",
   "metadata": {
    "tags": []
   },
   "source": [
    "# For Seurat Object"
   ]
  },
  {
   "cell_type": "code",
   "execution_count": null,
   "id": "caf2866b",
   "metadata": {},
   "outputs": [],
   "source": [
    "library(Seurat)\n",
    "library(dplyr)"
   ]
  },
  {
   "cell_type": "code",
   "execution_count": null,
   "id": "f5ec8769",
   "metadata": {},
   "outputs": [],
   "source": [
    "ls()"
   ]
  },
  {
   "cell_type": "code",
   "execution_count": null,
   "id": "ffb20698",
   "metadata": {},
   "outputs": [],
   "source": [
    "counts <- get_expression_values(fov_join)"
   ]
  },
  {
   "cell_type": "code",
   "execution_count": null,
   "id": "788e86f9",
   "metadata": {},
   "outputs": [],
   "source": [
    "#aaa <- readRDS('seurat_object.Rds')\n",
    "\n",
    "cosmx <- CreateSeuratObject(counts = counts@exprMat, project='cosmx')"
   ]
  },
  {
   "cell_type": "code",
   "execution_count": null,
   "id": "8e8c518f",
   "metadata": {},
   "outputs": [],
   "source": [
    "giotto_meta <- as.data.frame(pDataDT(fov_join))"
   ]
  },
  {
   "cell_type": "code",
   "execution_count": null,
   "id": "d373202c",
   "metadata": {},
   "outputs": [],
   "source": [
    "head(pDataDT(fov_join))"
   ]
  },
  {
   "cell_type": "code",
   "execution_count": null,
   "id": "7deb1368",
   "metadata": {},
   "outputs": [],
   "source": [
    "rownames(giotto_meta) <- giotto_meta$cell_ID"
   ]
  },
  {
   "cell_type": "code",
   "execution_count": null,
   "id": "c4db1b66",
   "metadata": {},
   "outputs": [],
   "source": [
    "for (i in colnames(pDataDT(fov_join))){\n",
    "    cosmx <- AddMetaData(cosmx, metadata = giotto_meta[i], col.name=i)\n",
    "    }"
   ]
  },
  {
   "cell_type": "markdown",
   "id": "cbf58eea",
   "metadata": {},
   "source": [
    "head(aaa[[]])"
   ]
  },
  {
   "cell_type": "code",
   "execution_count": null,
   "id": "4669c148",
   "metadata": {},
   "outputs": [],
   "source": [
    "head(cosmx[[]])"
   ]
  },
  {
   "cell_type": "code",
   "execution_count": null,
   "id": "84896248",
   "metadata": {},
   "outputs": [],
   "source": [
    "metadata2 <- cosmx@meta.data"
   ]
  },
  {
   "cell_type": "code",
   "execution_count": null,
   "id": "2d8b4642",
   "metadata": {},
   "outputs": [],
   "source": [
    "rownames(metadata2) <- cosmx@meta.data$id"
   ]
  },
  {
   "cell_type": "code",
   "execution_count": null,
   "id": "c61ffcbc",
   "metadata": {},
   "outputs": [],
   "source": [
    "umaps <- fov_join@dimension_reduction$cells$cell$rna$umap$umap"
   ]
  },
  {
   "cell_type": "code",
   "execution_count": null,
   "id": "14e3d4a7",
   "metadata": {},
   "outputs": [],
   "source": [
    "umaps <- umaps@coordinates"
   ]
  },
  {
   "cell_type": "code",
   "execution_count": null,
   "id": "863fbc9e",
   "metadata": {},
   "outputs": [],
   "source": [
    "umaps <- as.data.frame(umaps)"
   ]
  },
  {
   "cell_type": "markdown",
   "id": "9bad072c",
   "metadata": {},
   "source": [
    "table(aaa@meta.data['tissue'])\n",
    "\n",
    "umap_a <- umaps[1:129941,]\n",
    "\n",
    "umap_b <- umaps[129942:244750,]\n",
    "\n",
    "umaps <- rbind(umap_b, umap_a)\n",
    "\n",
    "head(umaps)\n",
    "\n",
    "cosmx <- AddMetaData(cosmx, metadata = umaps$umap_1, col.name = 'umap_1')\n",
    "\n",
    "cosmx <- AddMetaData(cosmx, metadata = umaps$umap_2, col.name = 'umap_2')\n",
    "\n",
    "head(cosmx[[]])\n",
    "\n",
    "umaps <- cbind(cosmx[[]]$umap_1,cosmx[[]]$umap_2)"
   ]
  },
  {
   "cell_type": "code",
   "execution_count": null,
   "id": "8d31f29b",
   "metadata": {},
   "outputs": [],
   "source": [
    "colnames(umaps) <- c('umap_1', 'umap_2')\n",
    "rownames(umaps) <- rownames(cosmx[[]])"
   ]
  },
  {
   "cell_type": "code",
   "execution_count": null,
   "id": "a2148787",
   "metadata": {
    "tags": []
   },
   "outputs": [],
   "source": [
    "options( repr.plot.width=7, repr.plot.height=7)\n",
    "cosmx[[\"umap\"]] <- CreateDimReducObject(embeddings = as.matrix(umaps))"
   ]
  },
  {
   "cell_type": "code",
   "execution_count": null,
   "id": "634a3d07",
   "metadata": {},
   "outputs": [],
   "source": [
    "dim(cosmx@reductions$umap@cell.embeddings)"
   ]
  },
  {
   "cell_type": "code",
   "execution_count": null,
   "id": "0383c23d",
   "metadata": {},
   "outputs": [],
   "source": [
    "head(fov_join@cell_metadata$cell$rna$cell_ID)"
   ]
  },
  {
   "cell_type": "code",
   "execution_count": null,
   "id": "07754a03",
   "metadata": {},
   "outputs": [],
   "source": [
    "head(colnames(fov_join@cell_metadata$cell$rna))"
   ]
  },
  {
   "cell_type": "markdown",
   "id": "f689dea7",
   "metadata": {},
   "source": [
    "cosmx <- FindVariableFeatures(cosmx, selection.method = \"vst\")\n",
    "\n",
    "cosmx <- ScaleData(cosmx)\n",
    "\n",
    "cosmx <- RunPCA(cosmx)\n",
    "\n",
    "DimPlot(cosmx, reduction = 'pca', group.by='cluster')"
   ]
  },
  {
   "cell_type": "code",
   "execution_count": null,
   "id": "668527b5",
   "metadata": {},
   "outputs": [],
   "source": [
    "spatial <- fov_join@spatial_locs$cell$raw\n",
    "\n",
    "spatial <- spatial@coordinates\n",
    "\n",
    "head(spatial)\n",
    "\n",
    "rownames(spatial) <- spatial$cell_ID\n",
    "\n",
    "spatial <- spatial[,1:2]"
   ]
  },
  {
   "cell_type": "code",
   "execution_count": null,
   "id": "fd6b7802",
   "metadata": {},
   "outputs": [],
   "source": [
    "# visualize UMAP cluster results\n",
    "options(repr.plot.width=7,repr.plot.height=7)\n",
    "plotUMAP(gobject = fov_join,\n",
    "         cell_color = 'new_clus',\n",
    "                                 cell_color_code = color_set,legend_symbol_size=8,\n",
    "         show_NN_network = FALSE,\n",
    "         point_size = 1)"
   ]
  },
  {
   "cell_type": "code",
   "execution_count": null,
   "id": "ef56e325",
   "metadata": {},
   "outputs": [],
   "source": [
    "plotUMAP(fov_join)"
   ]
  },
  {
   "cell_type": "markdown",
   "id": "61930adb",
   "metadata": {},
   "source": [
    "umap <- fov_join@spatial_locs$cell$raw\n",
    "\n",
    "spatial <- spatial@coordinates\n",
    "\n",
    "head(spatial)\n",
    "\n",
    "rownames(spatial) <- spatial$cell_ID\n",
    "\n",
    "spatial <- spatial[,1:2]"
   ]
  },
  {
   "cell_type": "code",
   "execution_count": null,
   "id": "688815ce",
   "metadata": {},
   "outputs": [],
   "source": [
    "head(cosmx@meta.data)"
   ]
  },
  {
   "cell_type": "code",
   "execution_count": null,
   "id": "163dc6b6",
   "metadata": {},
   "outputs": [],
   "source": [
    "colnames(spatial) <- c('tsne_1', 'tsne_2')\n",
    "\n",
    "spatial <- as.matrix(spatial)\n",
    "\n",
    "spatial <- spatial/10000\n",
    "\n",
    "rownames(spatial) <- rownames(cosmx[[]])\n",
    "\n",
    "cosmx[[\"tsne\"]] <- CreateDimReducObject(embeddings = spatial)"
   ]
  },
  {
   "cell_type": "code",
   "execution_count": null,
   "id": "cd3c0fdc",
   "metadata": {
    "tags": []
   },
   "outputs": [],
   "source": [
    "options( repr.plot.width=14, repr.plot.height=7)\n",
    "DimPlot(cosmx, reduction = 'tsne', pt.size=0.01, group.by = 'new_clus')"
   ]
  },
  {
   "cell_type": "code",
   "execution_count": null,
   "id": "0b21f090",
   "metadata": {
    "tags": []
   },
   "outputs": [],
   "source": [
    "options( repr.plot.width=14, repr.plot.height=7)\n",
    "DimPlot(cosmx, reduction = 'umap', pt.size=0.01, group.by = 'new_clus')"
   ]
  },
  {
   "cell_type": "code",
   "execution_count": null,
   "id": "574c6cfe",
   "metadata": {},
   "outputs": [],
   "source": [
    "head(cosmx@meta.data)"
   ]
  },
  {
   "cell_type": "code",
   "execution_count": null,
   "id": "59d22efa",
   "metadata": {},
   "outputs": [],
   "source": [
    "saveRDS(cosmx, './cosmx_seurat_object/cosmx_all_seurat_final_before_submission.rds')"
   ]
  },
  {
   "cell_type": "markdown",
   "id": "d262130b",
   "metadata": {
    "tags": []
   },
   "source": [
    "# Sandbox"
   ]
  },
  {
   "cell_type": "code",
   "execution_count": null,
   "id": "fc6fa482",
   "metadata": {},
   "outputs": [],
   "source": [
    "table(pDataDT(fov_join)$new_clus)"
   ]
  },
  {
   "cell_type": "markdown",
   "id": "08017177",
   "metadata": {
    "tags": []
   },
   "source": [
    "### After load the save Giotto file\n",
    "#### 保存したGiotto object使っていなければスキップ\n",
    "#### （うまくいったが、show_image=TRUEにするとエラー(raw imageはとれていない？))"
   ]
  },
  {
   "cell_type": "code",
   "execution_count": null,
   "id": "c7b4a7ef",
   "metadata": {},
   "outputs": [],
   "source": [
    "cols <- readRDS('integrated_data/論文用再検討/distinct_colors.Rds')"
   ]
  },
  {
   "cell_type": "code",
   "execution_count": null,
   "id": "7ea3384f",
   "metadata": {},
   "outputs": [],
   "source": [
    "library(Giotto)"
   ]
  },
  {
   "cell_type": "code",
   "execution_count": null,
   "id": "afc95595",
   "metadata": {},
   "outputs": [],
   "source": [
    "packageVersion(Giotto)"
   ]
  },
  {
   "cell_type": "code",
   "execution_count": null,
   "id": "931ec685",
   "metadata": {},
   "outputs": [],
   "source": [
    "fov_join <- loadGiotto('./saveGiottoDir_final_before_submission//')"
   ]
  },
  {
   "cell_type": "markdown",
   "id": "9d3755e3",
   "metadata": {
    "tags": []
   },
   "source": [
    "# subset Giotto to see the specific region"
   ]
  },
  {
   "cell_type": "code",
   "execution_count": null,
   "id": "ac2ad6fc",
   "metadata": {
    "tags": []
   },
   "outputs": [],
   "source": [
    "color_set <- c('Foveolar'='#FFFFCC',\n",
    "                                           'GKN+F'='#C7E9B4',\n",
    "                                           'ADH1+GKN1-F'='#7FCDBB',\n",
    "                                           'PG/Neck1'='#41B6C4',\n",
    "                                           'Chief'='#2C7FB8',\n",
    "                                           'PC'='#253494',\n",
    "                                           'PG/Neck2'='#31A354',\n",
    "                                           'Pyloric_deep'='#006837',\n",
    "                                           'Ent'='#FEE5D9',\n",
    "                                           'TA_Ent'='#FB6A4A',\n",
    "                                           'Ent2'='#FCAE91',\n",
    "                                           'OLFM4+Epi'='#CB181D',\n",
    "                                           'Gob'='blue',\n",
    "                                           'NE1'='Salmon',\n",
    "                                           'NE2'='yellow',\n",
    "                                           'LEFTY1_epi'='red',\n",
    "                                           'B-cell'='#87CEEB',\n",
    "                                           'pro_B-cell'='#90EE90',\n",
    "                                           'plasma'='#DDA0DD',\n",
    "                                           'T CD4 memory'='#696969',\n",
    "                                           'T CD8 memory'='#556B2F',\n",
    "                                           'T CD4 naive'='#696969',\n",
    "                                           'T CD8 naive'='#556B2F',\n",
    "                                           'Treg'='#800000',\n",
    "                                           'NK'='black',\n",
    "                                           'macrophage'='#F0E68C',\n",
    "                                           'mast'='#F0E68C',\n",
    "                                           'mDC'='#F0E68C',\n",
    "                                           'monocyte'='#F0E68C',\n",
    "                                           'pDC'='#F0E68C',\n",
    "                                           'neutrophil'='#EE82EE',\n",
    "                                           'CCL11+FB'='#4682B4',\n",
    "                                           'KLF+FB'='Cyan',\n",
    "                                           'PDGFR+FB'='Gray',\n",
    "                                           'pericyte'='pink',\n",
    "                                           'FibSmo'='#FFD700',\n",
    "                                           'Stromal'='#ADFF2F',\n",
    "                                           'pericyte_SM'='#FAFAD2',\n",
    "                                           'endothelial'='#B22222')"
   ]
  },
  {
   "cell_type": "markdown",
   "id": "5782047e",
   "metadata": {
    "jp-MarkdownHeadingCollapsed": true,
    "tags": []
   },
   "source": [
    "# very small region"
   ]
  },
  {
   "cell_type": "code",
   "execution_count": null,
   "id": "f45d47cd",
   "metadata": {},
   "outputs": [],
   "source": [
    "fov_join@images$`Fundic-fov011-image`"
   ]
  },
  {
   "cell_type": "code",
   "execution_count": null,
   "id": "13680887",
   "metadata": {},
   "outputs": [],
   "source": [
    "#subset a Giotto object based on spatial locations\n",
    "smallfov_sub <- subsetGiottoLocs(fov_join,\n",
    "                             x_max = 19500,\n",
    "                             x_min = 18500,\n",
    "                             y_max = 22000,\n",
    "                             y_min = 21000)\n"
   ]
  },
  {
   "cell_type": "code",
   "execution_count": null,
   "id": "7ec50aed",
   "metadata": {},
   "outputs": [],
   "source": [
    "#extract all genes observed in new object\n",
    "smallfeats <- fDataDT(fov_join)[, feat_ID]"
   ]
  },
  {
   "cell_type": "code",
   "execution_count": null,
   "id": "0a22e633",
   "metadata": {},
   "outputs": [],
   "source": [
    "# plot only the polygon outlines\n",
    "spatInSituPlotPoints(smallfov_sub,image_name = 'Fundic-fov011-image',\n",
    "                     polygon_line_size = 0.1,\n",
    "                     polygon_alpha = 0,\n",
    "                     polygon_color = 'white',\n",
    "                     show_polygon = FALSE,\n",
    "                     show_image = TRUE,\n",
    "                     show_legend = FALSE\n",
    "                     )"
   ]
  },
  {
   "cell_type": "code",
   "execution_count": null,
   "id": "495ca265",
   "metadata": {},
   "outputs": [],
   "source": [
    "# plot only the polygon outlines\n",
    "spatInSituPlotPoints(smallfov_sub,image_name = 'Fundic-fov011-image',\n",
    "                     polygon_line_size = 1,\n",
    "                     polygon_alpha = 0,\n",
    "                     polygon_color = 'white',\n",
    "                     show_polygon = TRUE,\n",
    "                     show_image = TRUE,\n",
    "                     show_legend = FALSE\n",
    "                     )"
   ]
  },
  {
   "cell_type": "code",
   "execution_count": null,
   "id": "33807156",
   "metadata": {},
   "outputs": [],
   "source": [
    "#plot all genes\n",
    "spatInSituPlotPoints(smallfov_sub,image_name = 'Fundic-fov011-image',\n",
    "                     feats = list(smallfeats),\n",
    "                     point_size = 0.5,\n",
    "                     polygon_line_size = 1,\n",
    "                     show_polygon = TRUE,\n",
    "                     polygon_color = 'white',\n",
    "                     show_image = TRUE,\n",
    "                     show_legend = FALSE)"
   ]
  },
  {
   "cell_type": "code",
   "execution_count": null,
   "id": "315224f9",
   "metadata": {},
   "outputs": [],
   "source": [
    "#plot all genes\n",
    "options(repr.plot.width=14, repr.plot.height=14)\n",
    "spatInSituPlotPoints(smallfov_sub,image_name = 'Fundic-fov011-image',\n",
    "                     feats = list('EPCAM','COL3A1','GZMA','JCHAIN','CD3D'),\n",
    "                     feats_color_code = c('green','skyblue','white','red','purple'),\n",
    "                     point_size = 3,\n",
    "                     polygon_line_size = 1,\n",
    "                     show_polygon = TRUE,\n",
    "                     polygon_color = 'white',\n",
    "                     show_image = TRUE,\n",
    "                     show_legend = TRUE)"
   ]
  },
  {
   "cell_type": "code",
   "execution_count": null,
   "id": "7cf772e7",
   "metadata": {},
   "outputs": [],
   "source": [
    "#plot all genes\n",
    "options(repr.plot.width=14, repr.plot.height=14)\n",
    "spatInSituPlotPoints(smallfov_sub,image_name = 'Fundic-fov011-image',\n",
    "                     feats = list('EPCAM','KRT18','KRT19','COL1A1','COL3A1','GZMA','GZMB','GNLY','JCHAIN','CD3D','CD3E','CD3G'),\n",
    "                     feats_color_code = c('green','green','green','skyblue','skyblue','white','red','red','red','purple','white','white'),\n",
    "                     point_size = 3,\n",
    "                     polygon_line_size = 1,\n",
    "                     show_polygon = TRUE,\n",
    "                     polygon_color = 'white',\n",
    "                     show_image = TRUE,\n",
    "                     show_legend = TRUE)"
   ]
  },
  {
   "cell_type": "code",
   "execution_count": null,
   "id": "40d294fc",
   "metadata": {},
   "outputs": [],
   "source": [
    "# plot polygons colorlabeled with leiden clusters\n",
    "spatInSituPlotPoints(smallfov_sub,image_name = 'Fundic-fov011-image',polygon_alpha = 1,\n",
    "                     polygon_line_size = 0.1,\n",
    "                     show_polygon = TRUE,\n",
    "                     polygon_fill = 'major_clus2',\n",
    "                     polygon_fill_as_factor = TRUE,\n",
    "                     show_image = TRUE,\n",
    "                     show_legend = FALSE,\n",
    "                     )"
   ]
  },
  {
   "cell_type": "code",
   "execution_count": null,
   "id": "3a9e6dda",
   "metadata": {},
   "outputs": [],
   "source": [
    "1+1"
   ]
  },
  {
   "cell_type": "code",
   "execution_count": null,
   "id": "87e3dcb2",
   "metadata": {},
   "outputs": [],
   "source": [
    "cols <- readRDS('./integrated_data/論文用再検討/distinct_colors.Rds')"
   ]
  },
  {
   "cell_type": "markdown",
   "id": "5e5c659a",
   "metadata": {
    "tags": []
   },
   "source": [
    "#### see whole FOV"
   ]
  },
  {
   "cell_type": "code",
   "execution_count": null,
   "id": "47869e10",
   "metadata": {},
   "outputs": [],
   "source": [
    "smallfov <- subsetGiotto(fov_join, \n",
    "                         cell_ids = pDataDT(fov_join)$cell_ID[grepl('Fundic-fov019',pDataDT(fov_join)$cell_ID)]\n",
    "                        )    "
   ]
  },
  {
   "cell_type": "code",
   "execution_count": null,
   "id": "c6c9bc92",
   "metadata": {},
   "outputs": [],
   "source": [
    "length(sort(unique(pDataDT(fov_join)$new_clus)))"
   ]
  },
  {
   "cell_type": "code",
   "execution_count": null,
   "id": "0a995d55",
   "metadata": {},
   "outputs": [],
   "source": [
    "library(RColorBrewer)"
   ]
  },
  {
   "cell_type": "code",
   "execution_count": null,
   "id": "77f3374e",
   "metadata": {},
   "outputs": [],
   "source": [
    "a <- pDataDT(fov_join)$Tissue_spatial_region"
   ]
  },
  {
   "cell_type": "code",
   "execution_count": null,
   "id": "8737cbea",
   "metadata": {},
   "outputs": [],
   "source": [
    "head(pDataDT(fov_join))"
   ]
  },
  {
   "cell_type": "code",
   "execution_count": null,
   "id": "67ac7508",
   "metadata": {},
   "outputs": [],
   "source": [
    "names(a) <- pDataDT(fov_join)$cell_ID"
   ]
  },
  {
   "cell_type": "code",
   "execution_count": null,
   "id": "7f47566e",
   "metadata": {},
   "outputs": [],
   "source": [
    "head(a)"
   ]
  },
  {
   "cell_type": "code",
   "execution_count": null,
   "id": "f0b4ef8b",
   "metadata": {},
   "outputs": [],
   "source": [
    "write.csv(a, 'Tissue_spatial_region.csv')"
   ]
  },
  {
   "cell_type": "code",
   "execution_count": null,
   "id": "82ae8abe",
   "metadata": {},
   "outputs": [],
   "source": [
    "options(repr.plot.width=14,repr.plot.height=14)\n",
    "spatInSituPlotPoints(smallfov, show_image = FALSE, polygon_alpha = 1,legend_text = 20,\n",
    "                     feats = list('NRG1','ERBB2','ERBB3'),\n",
    "                     feats_color_code = c('blue','green','red'),\n",
    "                     point_size = 1.5,\n",
    "                    feat_shape_code = list('rna' = 17),\n",
    "                     show_polygon = TRUE,\n",
    "                     polygon_feat_type = 'cell',\n",
    "                     polygon_color = 'white',\n",
    "                     polygon_line_size = 0.1,\n",
    "                     polygon_fill = 'major_clus',\n",
    "                     polygon_fill_as_factor = TRUE,\n",
    "                     polygon_fill_code = c('grey','lightskyblue'),\n",
    "                     background_color = 'white',\n",
    "                     coord_fix_ratio = TRUE)"
   ]
  },
  {
   "cell_type": "code",
   "execution_count": null,
   "id": "9c62fe23",
   "metadata": {},
   "outputs": [],
   "source": [
    "spatInSituPlotPoints(smallfov2, show_image = TRUE, polygon_alpha = 1,legend_text = 20,image_name = 'Fundic-fov013-image',\n",
    "                   #  feats = list('CHGA','APOA1','LEFTY1'),\n",
    "                    # feats_color_code = c('green','yellow','black'),\n",
    "                     point_size = 1,\n",
    "                     show_polygon = FALSE,\n",
    "                     polygon_feat_type = 'cell',\n",
    "                     polygon_color = 'white',\n",
    "                     polygon_line_size = 0.1,\n",
    "                     polygon_fill = 'new_clus',\n",
    "                     polygon_fill_as_factor = TRUE,\n",
    "                     polygon_fill_code = color_set,\n",
    "                     background_color = 'white',\n",
    "                     coord_fix_ratio = TRUE)"
   ]
  },
  {
   "cell_type": "code",
   "execution_count": null,
   "id": "2a00885c",
   "metadata": {},
   "outputs": [],
   "source": [
    "# Visualize ICF expression\n",
    "options(repr.plot.width=28, repr.plot.height=28)\n",
    "spatInSituPlotPoints(smallfov, show_image = FALSE, polygon_alpha = 1,legend_text = 20,\n",
    "                   #  feats = list('CHGA','APOA1','LEFTY1'),\n",
    "                    # feats_color_code = c('green','yellow','black'),\n",
    "                     point_size = 1,\n",
    "                     show_polygon = TRUE,\n",
    "                     polygon_feat_type = 'cell',\n",
    "                     polygon_color = 'white',\n",
    "                     polygon_line_size = 0.1,\n",
    "                     polygon_fill = 'new_clus',\n",
    "                     polygon_fill_as_factor = TRUE,\n",
    "                     polygon_fill_code = color_set,\n",
    "                     background_color = 'white',\n",
    "                     coord_fix_ratio = TRUE)"
   ]
  },
  {
   "cell_type": "code",
   "execution_count": null,
   "id": "561009cc",
   "metadata": {
    "tags": []
   },
   "outputs": [],
   "source": [
    "color_set <- c('Foveolar'='#FFFFCC',\n",
    "                                           'GKN+F'='#C7E9B4',\n",
    "                                           'ADH1+GKN1-F'='#7FCDBB',\n",
    "                                           'PG/Neck1'='#41B6C4',\n",
    "                                           'Chief'='#2C7FB8',\n",
    "                                           'PC'='#253494',\n",
    "                                           'PG/Neck2'='#31A354',\n",
    "                                           'Pyloric_deep'='#006837',\n",
    "                                           'Ent'='#FEE5D9',\n",
    "                                           'TA_Ent'='#FB6A4A',\n",
    "                                           'Ent2'='#FCAE91',\n",
    "                                           'OLFM4+Epi'='#CB181D',\n",
    "                                           'Gob'='blue',\n",
    "                                           'NE1'='Salmon',\n",
    "                                           'NE2'='yellow',\n",
    "                                           'LEFTY1_epi'='red',\n",
    "                                           'B-cell'='#87CEEB',\n",
    "                                           'pro_B-cell'='#90EE90',\n",
    "                                           'plasma'='#DDA0DD',\n",
    "                                           'T CD4 memory'='#696969',\n",
    "                                           'T CD8 memory'='#556B2F',\n",
    "                                           'T CD4 naive'='#696969',\n",
    "                                           'T CD8 naive'='#556B2F',\n",
    "                                           'Treg'='#800000',\n",
    "                                           'NK'='black',\n",
    "                                           'macrophage'='#F0E68C',\n",
    "                                           'mast'='#F0E68C',\n",
    "                                           'mDC'='#F0E68C',\n",
    "                                           'monocyte'='#F0E68C',\n",
    "                                           'pDC'='#F0E68C',\n",
    "                                           'neutrophil'='#EE82EE',\n",
    "                                           'CCL11+FB'='#4682B4',\n",
    "                                           'KLF+FB'='Cyan',\n",
    "                                           'PDGFR+FB'='Gray',\n",
    "                                           'pericyte'='pink',\n",
    "                                           'FibSmo'='#FFD700',\n",
    "                                           'Stromal'='#ADFF2F',\n",
    "                                           'pericyte_SM'='#FAFAD2',\n",
    "                                           'endothelial'='#B22222')"
   ]
  },
  {
   "cell_type": "code",
   "execution_count": null,
   "id": "43d9cf2f",
   "metadata": {},
   "outputs": [],
   "source": [
    "# Visualize ICF expression\n",
    "options(repr.plot.width=28, repr.plot.height=28)\n",
    "spatInSituPlotPoints(smallfov, show_image = FALSE, polygon_alpha = 1,legend_text = 20,\n",
    "                     feats = list('EPHB2','EFNB2'),\n",
    "                     feats_color_code = c('blue','orange'),\n",
    "                     point_size = 6,\n",
    "                     show_polygon = TRUE,\n",
    "                     polygon_feat_type = 'cell',\n",
    "                     polygon_color = 'white',\n",
    "                     polygon_line_size = 0.1,\n",
    "                     polygon_fill = 'new_clus',\n",
    "                     polygon_fill_as_factor = TRUE,\n",
    "                     polygon_fill_code = color_set,\n",
    "                     background_color = 'white',\n",
    "                     coord_fix_ratio = TRUE)"
   ]
  },
  {
   "cell_type": "code",
   "execution_count": null,
   "id": "cfe99605",
   "metadata": {},
   "outputs": [],
   "source": [
    "smallfov2 <- subsetGiotto(fov_join, \n",
    "                         cell_ids = fov_join@cell_metadata$cell$rna$cell_ID[grepl('Fundic-fov013',fov_join@cell_metadata$cell$rna$cell_ID)])    "
   ]
  },
  {
   "cell_type": "code",
   "execution_count": null,
   "id": "faac2206",
   "metadata": {},
   "outputs": [],
   "source": [
    "# Visualize ICF expression\n",
    "options(repr.plot.width=28, repr.plot.height=28)\n",
    "spatInSituPlotPoints(smallfov2, show_image = FALSE, polygon_alpha = 1,legend_text = 20,\n",
    "                     feats = list('EPHB2','EFNB2'),\n",
    "                     feats_color_code = c('blue','red'),\n",
    "                     point_size = 6,\n",
    "                     show_polygon = TRUE,\n",
    "                     polygon_feat_type = 'cell',\n",
    "                     polygon_color = 'black',\n",
    "                     polygon_line_size = 0.1,\n",
    "                     polygon_fill = 'major_clus',\n",
    "                     polygon_fill_as_factor = TRUE,\n",
    "                     #polygon_fill_code = rep('white',38),\n",
    "                     background_color = 'white',\n",
    "                     coord_fix_ratio = TRUE)"
   ]
  },
  {
   "cell_type": "code",
   "execution_count": null,
   "id": "6d3e61e1",
   "metadata": {},
   "outputs": [],
   "source": [
    "color_set"
   ]
  },
  {
   "cell_type": "code",
   "execution_count": null,
   "id": "82fa71cf",
   "metadata": {},
   "outputs": [],
   "source": [
    "col_fig <- c(color_set[1:16],'black')"
   ]
  },
  {
   "cell_type": "code",
   "execution_count": null,
   "id": "5cfd9512",
   "metadata": {},
   "outputs": [],
   "source": [
    "names(col_fig)[17] <- 'PDGFR+FB'"
   ]
  },
  {
   "cell_type": "code",
   "execution_count": null,
   "id": "aa80dd95",
   "metadata": {},
   "outputs": [],
   "source": [
    "pDataDT(fov_join)$cell_types"
   ]
  },
  {
   "cell_type": "code",
   "execution_count": null,
   "id": "4a37e930",
   "metadata": {},
   "outputs": [],
   "source": [
    "color_set2 <- c(color_set, 'h'='#DDA0DD','i'='#DDA0DD','plasmablast'='#DDA0DD')"
   ]
  },
  {
   "cell_type": "code",
   "execution_count": null,
   "id": "f74558af",
   "metadata": {},
   "outputs": [],
   "source": [
    "names(color_set2) <- c('j',\n",
    "                      'GKN+F',\n",
    "                      'ADH1+GKN1-F',\n",
    "                      'PG/Neck1',\n",
    "                      'c',\n",
    "                      'PC',\n",
    "                      'PG/Neck2',\n",
    "                      'Chief',\n",
    "                      'Ent',\n",
    "                      'a',\n",
    "                      'g',\n",
    "                      'e',\n",
    "                      'Gob',\n",
    "                      'NE1',\n",
    "                      'NE2',\n",
    "                      'd',\n",
    "                      'B-cell',\n",
    "                      'pro_B-cell',\n",
    "                      'plasma',\n",
    "                      'T CD4 memory',\n",
    "                      'T CD8 memory',\n",
    "                      'T CD4 naive',\n",
    "                      'T CD8 naive',\n",
    "                      'Treg',\n",
    "                      'NK',\n",
    "                      'macrophage',\n",
    "                      'mast',\n",
    "                      'mDC',\n",
    "                      'monocyte',\n",
    "                      'pDC',\n",
    "                      'neutrophil',\n",
    "                      'CCL+FB',\n",
    "                      'KLF+FB',\n",
    "                      'PDGFR+FB',\n",
    "                      'pericyte',\n",
    "                      'FibSmo',\n",
    "                      'f',\n",
    "                      'SM',\n",
    "                      'endothelial')"
   ]
  },
  {
   "cell_type": "code",
   "execution_count": null,
   "id": "4da92f6b",
   "metadata": {},
   "outputs": [],
   "source": [
    "color_set"
   ]
  },
  {
   "cell_type": "code",
   "execution_count": null,
   "id": "b54f6174",
   "metadata": {},
   "outputs": [],
   "source": [
    "# Visualize ICF expression\n",
    "options(repr.plot.width=28, repr.plot.height=28)\n",
    "spatInSituPlotPoints(smallfov2, show_image = FALSE, polygon_alpha = 1,legend_text = 20,\n",
    "                   #  feats = list('LEFTY1'),\n",
    "                    # feats_color_code = c('black'),\n",
    "                     point_size = 3,\n",
    "                     show_polygon = TRUE,\n",
    "                     polygon_feat_type = 'cell',\n",
    "                     polygon_color = 'white',\n",
    "                     polygon_line_size = 0.1,\n",
    "                     polygon_fill = 'cell_types',\n",
    "                     polygon_fill_as_factor = TRUE,\n",
    "                     polygon_fill_code = c(color_set2),\n",
    "                     background_color = 'white',\n",
    "                     coord_fix_ratio = TRUE)"
   ]
  },
  {
   "cell_type": "code",
   "execution_count": null,
   "id": "017be387",
   "metadata": {},
   "outputs": [],
   "source": [
    "# Visualize ICF expression\n",
    "options(repr.plot.width=28, repr.plot.height=28)\n",
    "spatInSituPlotDensity(smallfov2, \n",
    "                     feats = list('WNT5A','BMP4','BMP2','WNT7A'),\n",
    "                      cow_n_col = 2\n",
    "                      )"
   ]
  },
  {
   "cell_type": "code",
   "execution_count": null,
   "id": "3ca26905",
   "metadata": {
    "tags": []
   },
   "outputs": [],
   "source": [
    "fov_join2@feat_metadata <- fov_join@feat_metadata"
   ]
  },
  {
   "cell_type": "code",
   "execution_count": null,
   "id": "c0a4bfba",
   "metadata": {},
   "outputs": [],
   "source": [
    "smallfov2 <- subsetGiotto(fov_join2, \n",
    "                         cell_ids = fov_join2@cell_metadata$cell$rna$cell_ID[grepl('Fundic-fov013',fov_join2@cell_metadata$cell$rna$cell_ID)],\n",
    "                         )    "
   ]
  },
  {
   "cell_type": "code",
   "execution_count": null,
   "id": "4b756af8",
   "metadata": {},
   "outputs": [],
   "source": [
    "# Visualize ICF expression\n",
    "options(repr.plot.width=28, repr.plot.height=28)\n",
    "spatInSituPlotPoints(smallfov2, show_image = FALSE, polygon_alpha = 1,legend_text = 20,\n",
    "                   #  feats = list('KRT19','EPCAM','PSCA'),\n",
    "                    # feats_color_code = c('pink','light green','black'),\n",
    "                     point_size = 1,\n",
    "                     show_polygon = TRUE,\n",
    "                     polygon_feat_type = 'cell',\n",
    "                     polygon_color = 'white',\n",
    "                     polygon_line_size = 0.1,\n",
    "                     polygon_fill = 'cell_types',\n",
    "                     polygon_fill_as_factor = TRUE,\n",
    "                     polygon_fill_code = unlist(cols[length(unique(smallfov2@cell_metadata$cell$rna$cell_types))]),\n",
    "                     background_color = 'white',\n",
    "                     coord_fix_ratio = TRUE)"
   ]
  },
  {
   "cell_type": "markdown",
   "id": "1b789372",
   "metadata": {
    "jupyter": {
     "outputs_hidden": true
    },
    "tags": []
   },
   "source": [
    "saveGiotto(fov_join, foldername = 'saveGiottoDir_spatialnetwork')"
   ]
  },
  {
   "cell_type": "markdown",
   "id": "636a3f2e",
   "metadata": {
    "jp-MarkdownHeadingCollapsed": true,
    "tags": []
   },
   "source": [
    "# add the spatial niche information from manually annotation object"
   ]
  },
  {
   "cell_type": "code",
   "execution_count": null,
   "id": "c9983dcd",
   "metadata": {},
   "outputs": [],
   "source": [
    "aaa <- readRDS('cosmx_seurat_spatial_annotation.rds')"
   ]
  },
  {
   "cell_type": "code",
   "execution_count": null,
   "id": "138e97cb",
   "metadata": {},
   "outputs": [],
   "source": [
    "meta <- aaa[[]]"
   ]
  },
  {
   "cell_type": "code",
   "execution_count": null,
   "id": "50b92662",
   "metadata": {},
   "outputs": [],
   "source": [
    "meta[meta$Tissue_spatial_region == 'Fundic?_deep',]$Tissue_spatial_region = 'Fundic_deep'"
   ]
  },
  {
   "cell_type": "code",
   "execution_count": null,
   "id": "bebbc3ba",
   "metadata": {},
   "outputs": [],
   "source": [
    "meta[meta$Tissue_spatial_region == 'Submucosa2',]$Tissue_spatial_region = 'Submucosa_deep'"
   ]
  },
  {
   "cell_type": "code",
   "execution_count": null,
   "id": "8c26e24d",
   "metadata": {},
   "outputs": [],
   "source": [
    "meta[meta$Tissue_spatial_region == 'Submucosa',]$Tissue_spatial_region = 'Submucosa_superficial'"
   ]
  },
  {
   "cell_type": "code",
   "execution_count": null,
   "id": "bd89a09e",
   "metadata": {},
   "outputs": [],
   "source": [
    "aaa@meta.data['Tissue_spatial_region'] = meta$Tissue_spatial_region"
   ]
  },
  {
   "cell_type": "code",
   "execution_count": null,
   "id": "01f0b6a8",
   "metadata": {},
   "outputs": [],
   "source": [
    "table(aaa@meta.data['Tissue_spatial_region'])"
   ]
  },
  {
   "cell_type": "code",
   "execution_count": null,
   "id": "6721577d",
   "metadata": {},
   "outputs": [],
   "source": [
    "inter <- intersect(colnames(aaa), pDataDT(fov_join)$cell_ID)"
   ]
  },
  {
   "cell_type": "code",
   "execution_count": null,
   "id": "1008f07e",
   "metadata": {},
   "outputs": [],
   "source": [
    "head(inter)"
   ]
  },
  {
   "cell_type": "code",
   "execution_count": null,
   "id": "dd215e43",
   "metadata": {},
   "outputs": [],
   "source": [
    "length(inter)"
   ]
  },
  {
   "cell_type": "code",
   "execution_count": null,
   "id": "264773e9",
   "metadata": {},
   "outputs": [],
   "source": [
    "ls()"
   ]
  },
  {
   "cell_type": "code",
   "execution_count": null,
   "id": "a3b79c96",
   "metadata": {},
   "outputs": [],
   "source": [
    "fov_join <- subsetGiotto(fov_join, cell_ids = inter)"
   ]
  },
  {
   "cell_type": "code",
   "execution_count": null,
   "id": "b1906b9b",
   "metadata": {},
   "outputs": [],
   "source": [
    "head(pDataDT(fov_join2))"
   ]
  },
  {
   "cell_type": "code",
   "execution_count": null,
   "id": "9a0e69bd",
   "metadata": {},
   "outputs": [],
   "source": [
    "head(pDataDT(fov_join))"
   ]
  },
  {
   "cell_type": "code",
   "execution_count": null,
   "id": "9921da0e",
   "metadata": {},
   "outputs": [],
   "source": [
    "aaa <- subset(aaa, cells = inter)"
   ]
  },
  {
   "cell_type": "code",
   "execution_count": null,
   "id": "f9819aec",
   "metadata": {},
   "outputs": [],
   "source": [
    "aaa"
   ]
  },
  {
   "cell_type": "code",
   "execution_count": null,
   "id": "4194a114",
   "metadata": {},
   "outputs": [],
   "source": [
    "meta <- aaa[[]]"
   ]
  },
  {
   "cell_type": "code",
   "execution_count": null,
   "id": "e3017702",
   "metadata": {},
   "outputs": [],
   "source": [
    "head(meta)"
   ]
  },
  {
   "cell_type": "code",
   "execution_count": null,
   "id": "8c1fc957",
   "metadata": {},
   "outputs": [],
   "source": [
    "Tissue_spatial_region <- c(meta[meta$Run_Tissue_name=='Run5458_0507',]$Tissue_spatial_region,meta[meta$Run_Tissue_name=='Run5458_5006',]$Tissue_spatial_region)"
   ]
  },
  {
   "cell_type": "code",
   "execution_count": null,
   "id": "6fefc849",
   "metadata": {},
   "outputs": [],
   "source": [
    "new_clus_ <- c(pDataDT(fov_join)[pDataDT(fov_join2)$site=='Fundic',]$new_clus,\n",
    "              pDataDT(fov_join)[pDataDT(fov_join2)$site=='Pyloric',]$new_clus)"
   ]
  },
  {
   "cell_type": "code",
   "execution_count": null,
   "id": "ef58e7df",
   "metadata": {},
   "outputs": [],
   "source": [
    "fov_join <- addCellMetadata(fov_join, new_metadata = Tissue_spatial_region)"
   ]
  },
  {
   "cell_type": "code",
   "execution_count": null,
   "id": "1e74272c",
   "metadata": {},
   "outputs": [],
   "source": [
    "aaa@meta.data['new_clus'] <- new_clus_"
   ]
  },
  {
   "cell_type": "markdown",
   "id": "54c4244f",
   "metadata": {},
   "source": [
    "saveRDS(aaa, 'cosmx_seurat_annotation_semisup_epi_fb_immune.rds')"
   ]
  },
  {
   "cell_type": "markdown",
   "id": "924b8f97",
   "metadata": {
    "jp-MarkdownHeadingCollapsed": true,
    "tags": []
   },
   "source": [
    "# Network analysis"
   ]
  },
  {
   "cell_type": "code",
   "execution_count": null,
   "id": "6631ef60",
   "metadata": {},
   "outputs": [],
   "source": [
    "## delaunay network: stats + creation\n",
    "options(repr.plot.width=14,repr.plot.height=14)\n",
    "plotStatDelaunayNetwork(gobject = fov_join, maximum_distance = 400, save_plot = F)\n",
    "fov_join = createSpatialNetwork(gobject = fov_join, minimum_k = 2, maximum_distance_delaunay = 400)\n",
    "## create spatial networks based on k and/or distance from centroid\n",
    "#fov_join <- createSpatialNetwork(gobject = fov_join, method = 'kNN', k = 5, name = 'spatial_network')\n",
    "fov_join <- createSpatialNetwork(gobject = fov_join, method = 'kNN', k = 10, name = 'large_network')\n",
    "#fov_join <- createSpatialNetwork(gobject = fov_join, method = 'kNN', k = 100,\n",
    " #                                  maximum_distance_knn = 200, minimum_k = 2, name = 'distance_network')"
   ]
  },
  {
   "cell_type": "code",
   "execution_count": null,
   "id": "6bf5f3a1",
   "metadata": {},
   "outputs": [],
   "source": [
    "library(Giotto)\n",
    "library(dplyr)\n",
    "library(Seurat)"
   ]
  },
  {
   "cell_type": "markdown",
   "id": "6a5e8b0b",
   "metadata": {},
   "source": [
    "fov_join <- loadGiotto('./saveGiottoDir_spatialnetwork/')"
   ]
  },
  {
   "cell_type": "code",
   "execution_count": null,
   "id": "c7f44350",
   "metadata": {},
   "outputs": [],
   "source": [
    "pDataDT(fov_join)[grepl('Fundic-fov013',pDataDT(fov_join)$cell_ID)]$cell_ID"
   ]
  },
  {
   "cell_type": "code",
   "execution_count": null,
   "id": "32a85000",
   "metadata": {},
   "outputs": [],
   "source": [
    "#field1_ids = cell_metadata[FOV == 0]$cell_ID\n",
    "subfov_join = subsetGiotto(fov_join, cell_ids = pDataDT(fov_join)[grepl('Fundic-fov013',pDataDT(fov_join)$cell_ID)]$cell_ID)"
   ]
  },
  {
   "cell_type": "code",
   "execution_count": null,
   "id": "0c815859",
   "metadata": {},
   "outputs": [],
   "source": [
    "cols <- readRDS('integrated_data/論文用再検討/distinct_colors.Rds')"
   ]
  },
  {
   "cell_type": "code",
   "execution_count": null,
   "id": "e2409c26",
   "metadata": {},
   "outputs": [],
   "source": [
    "head(pDataDT(subfov_join))"
   ]
  },
  {
   "cell_type": "code",
   "execution_count": null,
   "id": "4b7fd3a2",
   "metadata": {},
   "outputs": [],
   "source": [
    "options(repr.plot.width=14, repr.plot.height=14)\n",
    "spatPlot(gobject = subfov_join, show_network = T, cell_color_code = color_set,\n",
    "         network_color = 'blue', spatial_network_name = 'Delaunay_network',\n",
    "         point_size = 2.5, cell_color = 'new_clus')"
   ]
  },
  {
   "cell_type": "code",
   "execution_count": null,
   "id": "8f290b7d",
   "metadata": {},
   "outputs": [],
   "source": [
    "spatPlot(gobject = subfov_join, show_network = T,cell_color_code = color_set,\n",
    "         network_color = 'blue', spatial_network_name = 'large_network',\n",
    "         point_size = 2.55, cell_color = 'new_clus')"
   ]
  },
  {
   "cell_type": "markdown",
   "id": "275d3684",
   "metadata": {},
   "source": [
    "spatGenePlot(fov_join, expression_values = 'scaled', genes = km_spatialfeats[1:4]$feats,\n",
    "             point_shape = 'border', point_border_stroke = 0.1,\n",
    "             show_network = F, network_color = 'lightgrey', point_size = 2.5,\n",
    "             cow_n_col = 2)"
   ]
  },
  {
   "cell_type": "markdown",
   "id": "a5a3e203",
   "metadata": {},
   "source": [
    "heatmSpatialCorFeats(fov_join, spatCorObject = spat_cor_netw_DT, use_clus_name = 'spat_netw_clus',\n",
    "                     heatmap_legend_param = list(title = NULL))"
   ]
  },
  {
   "cell_type": "code",
   "execution_count": null,
   "id": "f8312bd6",
   "metadata": {},
   "outputs": [],
   "source": [
    "ls()"
   ]
  },
  {
   "cell_type": "code",
   "execution_count": null,
   "id": "896bbe92",
   "metadata": {},
   "outputs": [],
   "source": [
    "remove(cosmx,cell_proximities,smallfov2,smallfov_sub,p1,p2,iocolors,count_replace, counts_all, counts_feat, counts_neg, aaa)"
   ]
  },
  {
   "cell_type": "code",
   "execution_count": null,
   "id": "da855b10",
   "metadata": {},
   "outputs": [],
   "source": [
    "set.seed(seed =2841)\n",
    "cell_proximities = cellProximityEnrichment(fov_join,\n",
    "                                           cluster_column = 'new_clus',\n",
    "                                           spatial_network_name = 'large_network',\n",
    "                                           adjust_method= 'fdr',\n",
    "                                           number_of_simulations = 1000\n",
    "                                           )\n",
    "                                           "
   ]
  },
  {
   "cell_type": "code",
   "execution_count": null,
   "id": "1f69edec",
   "metadata": {},
   "outputs": [],
   "source": [
    "saveRDS(cell_proximities, file = 'cell_proximities.rds')"
   ]
  },
  {
   "cell_type": "code",
   "execution_count": null,
   "id": "0ccdd947",
   "metadata": {},
   "outputs": [],
   "source": [
    "#Barplot\n",
    "cellProximityBarplot(gobject = fov_join,\n",
    "         CPscore = cell_proximities,\n",
    "         min_orig_ints = 100, min_sim_ints = 100)"
   ]
  },
  {
   "cell_type": "code",
   "execution_count": null,
   "id": "cacecac8",
   "metadata": {},
   "outputs": [],
   "source": [
    "# Heatmap\n",
    "cellProximityHeatmap(gobject = fov_join,\n",
    "         CPscore = cell_proximities,\n",
    "         color_breaks = c(-1.5, 0, 1.5),\n",
    "         color_names = c('blue', 'white', 'red'))"
   ]
  },
  {
   "cell_type": "code",
   "execution_count": null,
   "id": "b05d3737",
   "metadata": {},
   "outputs": [],
   "source": [
    "# Network\n",
    "cellProximityNetwork(gobject = fov_join,\n",
    "         CPscore = cell_proximities,\n",
    "         remove_self_edges = T, only_show_enrichment_edges = T)"
   ]
  },
  {
   "cell_type": "code",
   "execution_count": null,
   "id": "f56045d9",
   "metadata": {
    "tags": []
   },
   "outputs": [],
   "source": [
    "# Network with self-edges\n",
    "cellProximityNetwork(gobject = fov_join,\n",
    "         CPscore = cell_proximities,\n",
    "         remove_self_edges = T, self_loop_strength = 0.3,\n",
    "         only_show_enrichment_edges = F,\n",
    "         rescale_edge_weights = T,\n",
    "         node_size = 8,\n",
    "         edge_weight_range_depletion = c(1, 2),\n",
    "         edge_weight_range_enrichment = c(2,5))"
   ]
  },
  {
   "cell_type": "code",
   "execution_count": null,
   "id": "01d49d39",
   "metadata": {},
   "outputs": [],
   "source": [
    "head(cell_proximities)"
   ]
  },
  {
   "cell_type": "markdown",
   "id": "bfaf2478",
   "metadata": {
    "jp-MarkdownHeadingCollapsed": true,
    "tags": []
   },
   "source": [
    "# Network analysis without lymph etc"
   ]
  },
  {
   "cell_type": "code",
   "execution_count": null,
   "id": "16a28f03",
   "metadata": {},
   "outputs": [],
   "source": [
    "cell_ID_mucosa <- pDataDT(fov_join)[(pDataDT(fov_join)$Tissue_spatial_region == 'Metaplasia_deep') |\n",
    "                      (pDataDT(fov_join)$Tissue_spatial_region == 'Metaplasia_superficial') |\n",
    "(pDataDT(fov_join)$Tissue_spatial_region == 'Pyloric_deep') |\n",
    "(pDataDT(fov_join)$Tissue_spatial_region == 'Pyloric_ithmus') |\n",
    "(pDataDT(fov_join)$Tissue_spatial_region == 'Pyloric_to_IM_deep') |\n",
    "(pDataDT(fov_join)$Tissue_spatial_region == 'Pyloric_to_IM_ithmus') |\n",
    "(pDataDT(fov_join)$Tissue_spatial_region == 'Pyloric_to_IM_superficial') |\n",
    "(pDataDT(fov_join)$Tissue_spatial_region == 'Fundic_deep') |\n",
    "(pDataDT(fov_join)$Tissue_spatial_region == 'Fundic_ithmus') |\n",
    "(pDataDT(fov_join)$Tissue_spatial_region == 'Submucosa_superficial') |\n",
    "(pDataDT(fov_join)$Tissue_spatial_region == 'Fundic_superficial')\n",
    "                  ]$cell_ID"
   ]
  },
  {
   "cell_type": "code",
   "execution_count": null,
   "id": "5df6077d",
   "metadata": {},
   "outputs": [],
   "source": [
    "fov_mucosa <- subsetGiotto(fov_join, cell_ids = cell_ID_mucosa)"
   ]
  },
  {
   "cell_type": "code",
   "execution_count": null,
   "id": "81444072",
   "metadata": {},
   "outputs": [],
   "source": [
    "## delaunay network: stats + creation\n",
    "options(repr.plot.width=14,repr.plot.height=14)\n",
    "plotStatDelaunayNetwork(gobject = fov_mucosa, maximum_distance = 400, save_plot = F)\n",
    "fov_mucosa = createSpatialNetwork(gobject = fov_mucosa, minimum_k = 2, maximum_distance_delaunay = 400)\n",
    "## create spatial networks based on k and/or distance from centroid\n",
    "#fov_join <- createSpatialNetwork(gobject = fov_join, method = 'kNN', k = 5, name = 'spatial_network')\n",
    "fov_mucosa <- createSpatialNetwork(gobject = fov_mucosa, method = 'kNN', k = 10, name = 'large_network')\n",
    "#fov_join <- createSpatialNetwork(gobject = fov_join, method = 'kNN', k = 100,\n",
    " #                                  maximum_distance_knn = 200, minimum_k = 2, name = 'distance_network')"
   ]
  },
  {
   "cell_type": "code",
   "execution_count": null,
   "id": "75aa747d",
   "metadata": {},
   "outputs": [],
   "source": [
    "ls()"
   ]
  },
  {
   "cell_type": "code",
   "execution_count": null,
   "id": "2135f5e2",
   "metadata": {},
   "outputs": [],
   "source": [
    "packageVersion('InSituType')"
   ]
  },
  {
   "cell_type": "code",
   "execution_count": null,
   "id": "a4fc551a",
   "metadata": {},
   "outputs": [],
   "source": [
    "sessionInfo()"
   ]
  },
  {
   "cell_type": "code",
   "execution_count": null,
   "id": "654b143f",
   "metadata": {},
   "outputs": [],
   "source": [
    "remove(aaa,fov_join2,count_replace,counts_all,counts_feat,counts_neg)"
   ]
  },
  {
   "cell_type": "code",
   "execution_count": null,
   "id": "c2afd30a",
   "metadata": {},
   "outputs": [],
   "source": [
    "set.seed(seed =2841)\n",
    "cell_proximities_mucosa = cellProximityEnrichment(fov_mucosa,\n",
    "                                           cluster_column = 'new_clus',\n",
    "                                           spatial_network_name = 'large_network',\n",
    "                                           adjust_method= 'fdr',\n",
    "                                           number_of_simulations = 1000\n",
    "                                           )\n",
    "                                           "
   ]
  },
  {
   "cell_type": "code",
   "execution_count": null,
   "id": "66ef055d",
   "metadata": {},
   "outputs": [],
   "source": [
    "saveRDS(cell_proximities_mucosa, file = 'cell_proximities_mucosa.rds')"
   ]
  },
  {
   "cell_type": "code",
   "execution_count": null,
   "id": "224e4c6b",
   "metadata": {},
   "outputs": [],
   "source": [
    "cell_proximities_mucosa <- readRDS('cell_proximities_mucosa.rds')"
   ]
  },
  {
   "cell_type": "code",
   "execution_count": null,
   "id": "7906c921",
   "metadata": {},
   "outputs": [],
   "source": [
    "#Barplot\n",
    "cellProximityBarplot(gobject = fov_mucosa,\n",
    "         CPscore = cell_proximities_mucosa,\n",
    "         min_orig_ints = 100, min_sim_ints = 100)"
   ]
  },
  {
   "cell_type": "code",
   "execution_count": null,
   "id": "217d2c3b",
   "metadata": {},
   "outputs": [],
   "source": [
    "#Barplot\n",
    "cellProximityBarplot(gobject = fov_mucosa,\n",
    "         CPscore = cell_proximities_mucosa,\n",
    "         min_orig_ints = 100, min_sim_ints = 100)"
   ]
  },
  {
   "cell_type": "code",
   "execution_count": null,
   "id": "03dce53b",
   "metadata": {},
   "outputs": [],
   "source": [
    "head(cluster_order2)"
   ]
  },
  {
   "cell_type": "code",
   "execution_count": null,
   "id": "03155fda",
   "metadata": {},
   "outputs": [],
   "source": [
    "# Heatmap\n",
    "## visualize all genes\n",
    "options(repr.plot.width=10, repr.plot.height=10)\n",
    "#pdf('Figure6G.pdf',width = 7, height = 7)\n",
    "p1 <- cellProximityHeatmap(gobject = fov_mucosa,return_plot = TRUE,\n",
    "         CPscore = cell_proximities_mucosa,\n",
    "         color_breaks = c(-1.5, 0, 1.5),\n",
    "         color_names = c('blue', 'white', 'red'))\n",
    "#dev.off()"
   ]
  },
  {
   "cell_type": "code",
   "execution_count": null,
   "id": "ccd5f5fe",
   "metadata": {},
   "outputs": [],
   "source": [
    "pdf('Figure6G.pdf',width = 10, height = 10)\n",
    "p1\n",
    "dev.off()"
   ]
  },
  {
   "cell_type": "code",
   "execution_count": null,
   "id": "152d504e",
   "metadata": {},
   "outputs": [],
   "source": [
    "# Heatmap\n",
    "cellProximityHeatmap(gobject = fov_mucosa,\n",
    "         CPscore = cell_proximities_mucosa,\n",
    "         color_breaks = c(-1.5, 0, 1.5),\n",
    "         color_names = c('blue', 'white', 'red'))"
   ]
  },
  {
   "cell_type": "code",
   "execution_count": null,
   "id": "a6d3a37b",
   "metadata": {},
   "outputs": [],
   "source": [
    "# Network\n",
    "cellProximityNetwork(gobject = fov_mucosa,\n",
    "         CPscore = cell_proximities_mucosa,\n",
    "         remove_self_edges = T, only_show_enrichment_edges = T)"
   ]
  },
  {
   "cell_type": "code",
   "execution_count": null,
   "id": "2355a8de",
   "metadata": {
    "tags": []
   },
   "outputs": [],
   "source": [
    "head(cell_proximities_mucosa)"
   ]
  },
  {
   "cell_type": "markdown",
   "id": "f9928aab",
   "metadata": {
    "tags": []
   },
   "source": [
    "# see the specific FOV"
   ]
  },
  {
   "cell_type": "markdown",
   "id": "fda55efa",
   "metadata": {},
   "source": [
    "fov_mucosa <- createSpatialGrid(gobject = fov_mucosa,\n",
    "                                sdimx_stepsize = 500,\n",
    "                                sdimy_stepsize = 500,\n",
    "                                minimum_padding = 50)"
   ]
  },
  {
   "cell_type": "markdown",
   "id": "5f171292",
   "metadata": {},
   "source": [
    "pDataDT(fov_mucosa)[grepl('Fundic-fov020',pDataDT(fov_mucosa)$cell_ID)]$cell_ID"
   ]
  },
  {
   "cell_type": "code",
   "execution_count": null,
   "id": "261ce398",
   "metadata": {},
   "outputs": [],
   "source": [
    "library(Giotto)"
   ]
  },
  {
   "cell_type": "code",
   "execution_count": null,
   "id": "a1f0e9d3",
   "metadata": {},
   "outputs": [],
   "source": [
    "1+1"
   ]
  },
  {
   "cell_type": "code",
   "execution_count": null,
   "id": "841e4967",
   "metadata": {},
   "outputs": [],
   "source": [
    "subfov_join3 = subsetGiotto(fov_join, cell_ids = pDataDT(fov_join)[grepl('Fundic-fov013',pDataDT(fov_join)$cell_ID)]$cell_ID)"
   ]
  },
  {
   "cell_type": "code",
   "execution_count": null,
   "id": "334ba288",
   "metadata": {},
   "outputs": [],
   "source": [
    "# Visualize ICF expression\n",
    "options(repr.plot.width=28, repr.plot.height=28)\n",
    "p1 <- spatInSituPlotPoints(subfov_join3, show_image = FALSE, polygon_alpha = 1,legend_text = 20,\n",
    "                     feats = list('WNT5A','FZD5'),return_plot =TRUE,\n",
    "                     feats_color_code = c('red','blue'),\n",
    "                    feat_shape_code = list('rna' = 17),\n",
    "                     point_size = 5,\n",
    "                     show_polygon = TRUE,\n",
    "                     polygon_feat_type = 'cell',\n",
    "                     polygon_color = 'white',\n",
    "                     polygon_line_size = 0.1,\n",
    "                     polygon_fill = 'major_clus',\n",
    "                     polygon_fill_as_factor = TRUE,\n",
    "                     polygon_fill_code = c('grey','lightblue'),\n",
    "                     background_color = 'white',\n",
    "                     coord_fix_ratio = TRUE)"
   ]
  },
  {
   "cell_type": "code",
   "execution_count": null,
   "id": "beb048e3",
   "metadata": {},
   "outputs": [],
   "source": [
    "# Visualize ICF expression\n",
    "options(repr.plot.width=28, repr.plot.height=28)\n",
    "p1 <- spatInSituPlotPoints(subfov_join3, show_image = FALSE, polygon_alpha = 1,legend_text = 20,\n",
    "                     feats = list('IGF1','IGF1R'),return_plot =TRUE,\n",
    "                     feats_color_code = c('red','blue'),\n",
    "                    feat_shape_code = list('rna' = 17),\n",
    "                     point_size = 5,\n",
    "                     show_polygon = TRUE,\n",
    "                     polygon_feat_type = 'cell',\n",
    "                     polygon_color = 'white',\n",
    "                     polygon_line_size = 0.1,\n",
    "                     polygon_fill = 'major_clus',\n",
    "                     polygon_fill_as_factor = TRUE,\n",
    "                     polygon_fill_code = c('grey','lightblue'),\n",
    "                     background_color = 'white',\n",
    "                     coord_fix_ratio = TRUE)"
   ]
  },
  {
   "cell_type": "code",
   "execution_count": null,
   "id": "d9327ece",
   "metadata": {},
   "outputs": [],
   "source": [
    "subfov_join = subsetGiotto(fov_join, cell_ids = pDataDT(fov_join)[grepl('Fundic-fov002',pDataDT(fov_join)$cell_ID)]$cell_ID)"
   ]
  },
  {
   "cell_type": "code",
   "execution_count": null,
   "id": "92f8ba8a",
   "metadata": {},
   "outputs": [],
   "source": [
    "library(ggplot2)"
   ]
  },
  {
   "cell_type": "code",
   "execution_count": null,
   "id": "34c35c98",
   "metadata": {},
   "outputs": [],
   "source": [
    "# Visualize ICF expression\n",
    "options(repr.plot.width=28, repr.plot.height=28)\n",
    "p1 <- spatInSituPlotPoints(subfov_join, show_image = FALSE, polygon_alpha = 1,legend_text = 20,\n",
    "                     feats = list('MKI67','LEFTY1'),return_plot =TRUE,\n",
    "                     feats_color_code = c('red','purple4'),\n",
    "                    feat_shape_code = list('rna' = 17),\n",
    "                     point_size = 5,\n",
    "                     show_polygon = TRUE,\n",
    "                     polygon_feat_type = 'cell',\n",
    "                     polygon_color = 'white',\n",
    "                     polygon_line_size = 0.1,\n",
    "                     polygon_fill = 'major_clus',\n",
    "                     polygon_fill_as_factor = TRUE,\n",
    "                     polygon_fill_code = c('grey', \"grey\"),\n",
    "                     background_color = 'white',\n",
    "                     coord_fix_ratio = TRUE)"
   ]
  },
  {
   "cell_type": "code",
   "execution_count": null,
   "id": "b487d32b",
   "metadata": {},
   "outputs": [],
   "source": [
    "# Visualize ICF expression\n",
    "options(repr.plot.width=28, repr.plot.height=28)\n",
    "p2 <- spatInSituPlotPoints(subfov_join, show_image = FALSE, polygon_alpha = 1,legend_text = 20,\n",
    "           #          feats = list('MKI67','LEFTY1'),return_plot =TRUE,\n",
    "            #         feats_color_code = c('gold3','purple4'),\n",
    "                    feat_shape_code = list('rna' = 17),\n",
    "                     point_size = 5,\n",
    "                     show_polygon = TRUE,\n",
    "                     polygon_feat_type = 'cell',\n",
    "                     polygon_color = 'white',\n",
    "                     polygon_line_size = 0.1,\n",
    "                     polygon_fill = 'new_clus',\n",
    "                     polygon_fill_as_factor = TRUE,\n",
    "                     polygon_fill_code = color_set,\n",
    "                     background_color = 'white',\n",
    "                     coord_fix_ratio = TRUE)"
   ]
  },
  {
   "cell_type": "code",
   "execution_count": null,
   "id": "25af0941",
   "metadata": {},
   "outputs": [],
   "source": [
    "subfov_join2 = subsetGiotto(fov_join, cell_ids = pDataDT(fov_join)[grepl('Pyloric-fov020',pDataDT(fov_join)$cell_ID)]$cell_ID)"
   ]
  },
  {
   "cell_type": "code",
   "execution_count": null,
   "id": "da091469",
   "metadata": {},
   "outputs": [],
   "source": [
    "# Visualize ICF expression\n",
    "options(repr.plot.width=28, repr.plot.height=28)\n",
    "p2 <- spatInSituPlotPoints(subfov_join2, show_image = FALSE, polygon_alpha = 1,legend_text = 20,\n",
    "                    # feats = list('MKI67','LEFTY1'),return_plot =TRUE,\n",
    "                     #feats_color_code = c('red','purple4'),\n",
    "                    feat_shape_code = list('rna' = 17),\n",
    "                     point_size = 5,\n",
    "                     show_polygon = TRUE,\n",
    "                     polygon_feat_type = 'cell',\n",
    "                     polygon_color = 'white',\n",
    "                     polygon_line_size = 0.1,\n",
    "                     polygon_fill = 'new_clus',\n",
    "                     polygon_fill_as_factor = TRUE,\n",
    "                     polygon_fill_code = color_set,\n",
    "                     background_color = 'white',\n",
    "                     coord_fix_ratio = TRUE)"
   ]
  },
  {
   "cell_type": "code",
   "execution_count": null,
   "id": "1a3824ba",
   "metadata": {},
   "outputs": [],
   "source": [
    "# Visualize ICF expression\n",
    "options(repr.plot.width=28, repr.plot.height=28)\n",
    "p2 <- spatInSituPlotPoints(subfov_join2, show_image = FALSE, polygon_alpha = 1,legend_text = 20,\n",
    "                     feats = list('WNT5A','FZD5'),return_plot =TRUE,\n",
    "                     feats_color_code = c('red','purple4'),\n",
    "                    feat_shape_code = list('rna' = 17),\n",
    "                     point_size = 5,\n",
    "                     show_polygon = TRUE,\n",
    "                     polygon_feat_type = 'cell',\n",
    "                     polygon_color = 'white',\n",
    "                     polygon_line_size = 0.1,\n",
    "                     polygon_fill = 'major_clus',\n",
    "                     polygon_fill_as_factor = TRUE,\n",
    "                     polygon_fill_code = c('grey', \"lightblue\"),\n",
    "                     background_color = 'white',\n",
    "                     coord_fix_ratio = TRUE)"
   ]
  },
  {
   "cell_type": "code",
   "execution_count": null,
   "id": "5722925e",
   "metadata": {},
   "outputs": [],
   "source": [
    "# Visualize ICF expression\n",
    "options(repr.plot.width=28, repr.plot.height=28)\n",
    "p2 <- spatInSituPlotPoints(subfov_join2, show_image = FALSE, polygon_alpha = 1,legend_text = 20,\n",
    "                     feats = list('MKI67','LEFTY1'),return_plot =TRUE,\n",
    "                     feats_color_code = c('red','purple4'),\n",
    "                    feat_shape_code = list('rna' = 17),\n",
    "                     point_size = 5,\n",
    "                     show_polygon = TRUE,\n",
    "                     polygon_feat_type = 'cell',\n",
    "                     polygon_color = 'white',\n",
    "                     polygon_line_size = 0.1,\n",
    "                     polygon_fill = 'major_clus',\n",
    "                     polygon_fill_as_factor = TRUE,\n",
    "                     polygon_fill_code = c('grey', \"grey\"),\n",
    "                     background_color = 'white',\n",
    "                     coord_fix_ratio = TRUE)"
   ]
  },
  {
   "cell_type": "code",
   "execution_count": null,
   "id": "11b84c2d",
   "metadata": {},
   "outputs": [],
   "source": [
    "spec_interaction = \"LEFTY1_epi--PDGFR+FB\""
   ]
  },
  {
   "cell_type": "code",
   "execution_count": null,
   "id": "4e53322f",
   "metadata": {},
   "outputs": [],
   "source": [
    "options(repr.plot.width=14, repr.plot.height=21)\n",
    "cellProximitySpatPlot(subfov_join,\n",
    "                      interaction_name = spec_interaction,\n",
    "                      show_network = T,\n",
    "                      cluster_column = 'new_clus',\n",
    "                      cell_color = 'new_clus',\n",
    "                      cell_color_code = c('black','red'),  point_size_select = 3, point_size_other = 1.5)"
   ]
  },
  {
   "cell_type": "code",
   "execution_count": null,
   "id": "d4d40436",
   "metadata": {},
   "outputs": [],
   "source": [
    "spec_interaction = \"Enterocyte--NK\""
   ]
  },
  {
   "cell_type": "code",
   "execution_count": null,
   "id": "2f894a6f",
   "metadata": {},
   "outputs": [],
   "source": [
    "options(repr.plot.width=14, repr.plot.height=21)\n",
    "cellProximitySpatPlot(subfov_join,\n",
    "                      interaction_name = spec_interaction,\n",
    "                      show_network = T,\n",
    "                      cluster_column = 'new_clus',\n",
    "                      cell_color = 'new_clus',\n",
    "                      cell_color_code = c('black','red'),  point_size_select = 3, point_size_other = 1.5)"
   ]
  },
  {
   "cell_type": "code",
   "execution_count": null,
   "id": "6b80b3bb",
   "metadata": {},
   "outputs": [],
   "source": [
    "spec_interaction = \"OLFM4+Epi--NK\""
   ]
  },
  {
   "cell_type": "code",
   "execution_count": null,
   "id": "34c12258",
   "metadata": {},
   "outputs": [],
   "source": [
    "options(repr.plot.width=14, repr.plot.height=21)\n",
    "cellProximitySpatPlot(subfov_join,\n",
    "                      interaction_name = spec_interaction,\n",
    "                      show_network = T,\n",
    "                      cluster_column = 'new_clus',\n",
    "                      cell_color = 'new_clus',\n",
    "                      cell_color_code = c('black','red'),  point_size_select = 3, point_size_other = 1.5)"
   ]
  },
  {
   "cell_type": "code",
   "execution_count": null,
   "id": "f31dc17b",
   "metadata": {},
   "outputs": [],
   "source": [
    "ls()"
   ]
  },
  {
   "cell_type": "code",
   "execution_count": null,
   "id": "f7ddbcaa",
   "metadata": {},
   "outputs": [],
   "source": [
    "remove(subfov_join, fov_mucosa,epi)"
   ]
  },
  {
   "cell_type": "markdown",
   "id": "2653a9cb",
   "metadata": {
    "jp-MarkdownHeadingCollapsed": true,
    "tags": []
   },
   "source": [
    "# Individual spatial genes"
   ]
  },
  {
   "cell_type": "code",
   "execution_count": null,
   "id": "9d13d13d",
   "metadata": {},
   "outputs": [],
   "source": [
    "fov_join = createSpatialNetwork(gobject = fov_join, minimum_k = 2, maximum_distance_delaunay = 400)"
   ]
  },
  {
   "cell_type": "code",
   "execution_count": null,
   "id": "3647e945",
   "metadata": {},
   "outputs": [],
   "source": [
    "## 3 new methods to identify spatial genes\n",
    "km_spatialfeats = binSpect(fov_join,cores = 2)"
   ]
  },
  {
   "cell_type": "code",
   "execution_count": null,
   "id": "7ea1538f",
   "metadata": {},
   "outputs": [],
   "source": [
    "ext_spatial_genes = km_spatialfeats[1:200]$feats"
   ]
  },
  {
   "cell_type": "code",
   "execution_count": null,
   "id": "782f607a",
   "metadata": {},
   "outputs": [],
   "source": [
    "fov_join <- createSpatialNetwork(gobject = fov_join, method = 'kNN', k = 10, name = 'large_network')"
   ]
  },
  {
   "cell_type": "code",
   "execution_count": null,
   "id": "03ae68d9",
   "metadata": {},
   "outputs": [],
   "source": [
    "## 1. calculate gene spatial correlation and single-cell correlation\n",
    "## create spatial correlation object\n",
    "spat_cor_netw_DT = detectSpatialCorFeats(fov_join,\n",
    "                                         method = 'network',\n",
    "                                         spatial_network_name = 'large_network',\n",
    "                                        subset_feats = ext_spatial_genes)"
   ]
  },
  {
   "cell_type": "code",
   "execution_count": null,
   "id": "743ba939",
   "metadata": {},
   "outputs": [],
   "source": [
    "## 2. cluster correlated genes & visualize\n",
    "spat_cor_netw_DT = clusterSpatialCorFeats(spat_cor_netw_DT,\n",
    "                                          name = 'spat_netw_clus',\n",
    "                                          k = 10)"
   ]
  },
  {
   "cell_type": "code",
   "execution_count": null,
   "id": "0f0afd67",
   "metadata": {},
   "outputs": [],
   "source": [
    "cor_clusters <- spat_cor_netw_DT$cor_clusters$spat_netw_clus"
   ]
  },
  {
   "cell_type": "code",
   "execution_count": null,
   "id": "ce84a136",
   "metadata": {},
   "outputs": [],
   "source": [
    "saveRDS(spat_cor_netw_DT,'spat_cor_netw_DT.rds') "
   ]
  },
  {
   "cell_type": "code",
   "execution_count": null,
   "id": "6ac3f1af",
   "metadata": {},
   "outputs": [],
   "source": [
    "options(repr.plot.width=28, repr.plot.height=28)\n",
    "heatmSpatialCorFeats(fov_join, spatCorObject = spat_cor_netw_DT, use_clus_name = 'spat_netw_clus',show_row_names = T)"
   ]
  },
  {
   "cell_type": "code",
   "execution_count": null,
   "id": "0e877bf7",
   "metadata": {},
   "outputs": [],
   "source": [
    "library(future)"
   ]
  },
  {
   "cell_type": "code",
   "execution_count": null,
   "id": "b6476ec2",
   "metadata": {},
   "outputs": [],
   "source": [
    "options(future.globals.maxSize= 891289600)\n",
    "## identify genes that are associated with proximity to other cell types\n",
    "## take extremely long time (about 3days?)\n",
    "plan('multisession', workers = 1)\n",
    "ICFsForesHighGenes =  findInteractionChangedFeats(gobject = fov_join,\n",
    "                              selected_feats = fov_join@feat_ID$rna,\n",
    "                              spatial_network_name = 'large_network',\n",
    "                              cluster_column = 'new_clus',\n",
    "                              diff_test = 'permutation',\n",
    "                              adjust_method = 'fdr',\n",
    "                              nr_permutations = 2000,\n",
    "                              do_parallel = F)"
   ]
  },
  {
   "cell_type": "code",
   "execution_count": null,
   "id": "12d695cd",
   "metadata": {},
   "outputs": [],
   "source": [
    "saveRDS(ICFsForesHighGenes,'ICFsForesHighGenes.rds')"
   ]
  },
  {
   "cell_type": "code",
   "execution_count": null,
   "id": "88ecad2e",
   "metadata": {},
   "outputs": [],
   "source": [
    "library(Giotto)"
   ]
  },
  {
   "cell_type": "code",
   "execution_count": null,
   "id": "392bcc0c",
   "metadata": {},
   "outputs": [],
   "source": [
    "fov_join <- loadGiotto('saveGiottoDir_final_before_submission/')"
   ]
  },
  {
   "cell_type": "code",
   "execution_count": null,
   "id": "9862c378",
   "metadata": {},
   "outputs": [],
   "source": [
    "ICFsForesHighGenes <- readRDS('ICFsForesHighGenes.rds')"
   ]
  },
  {
   "cell_type": "code",
   "execution_count": null,
   "id": "794f9297",
   "metadata": {},
   "outputs": [],
   "source": [
    "ICFsForesHighGenes_stroma_epi <- ICFsForesHighGenes"
   ]
  },
  {
   "cell_type": "code",
   "execution_count": null,
   "id": "65ceddc6",
   "metadata": {},
   "outputs": [],
   "source": [
    "ICFsForesHighGenes_epi_stroma <- ICFsForesHighGenes"
   ]
  },
  {
   "cell_type": "code",
   "execution_count": null,
   "id": "fddddf19",
   "metadata": {},
   "outputs": [],
   "source": [
    "ICFsForesHighGenes_epi_epi <- ICFsForesHighGenes"
   ]
  },
  {
   "cell_type": "code",
   "execution_count": null,
   "id": "72c66858",
   "metadata": {},
   "outputs": [],
   "source": [
    "ICFsForesHighGenes_stroma_stroma <- ICFsForesHighGenes"
   ]
  },
  {
   "cell_type": "code",
   "execution_count": null,
   "id": "5b41a9f5",
   "metadata": {},
   "outputs": [],
   "source": [
    "ICFsForesHighGenes_epi_stroma$ICFscores <- ICFsForesHighGenes_epi_stroma$ICFscores[\n",
    "(ICFsForesHighGenes_epi_stroma$ICFscores$int_cell_type == 'Chief' |\n",
    "ICFsForesHighGenes_epi_stroma$ICFscores$int_cell_type == 'OLFM4+Epi' |\n",
    "ICFsForesHighGenes_epi_stroma$ICFscores$int_cell_type == 'NE2' |\n",
    "ICFsForesHighGenes_epi_stroma$ICFscores$int_cell_type == 'PG/Neck1' |\n",
    "ICFsForesHighGenes_epi_stroma$ICFscores$int_cell_type == 'Pyloric_deep' |\n",
    "ICFsForesHighGenes_epi_stroma$ICFscores$int_cell_type == 'PG/Neck2' |\n",
    "ICFsForesHighGenes_epi_stroma$ICFscores$int_cell_type == 'NE1' |\n",
    "ICFsForesHighGenes_epi_stroma$ICFscores$int_cell_type == 'ADH1+GKN1-F' |\n",
    "ICFsForesHighGenes_epi_stroma$ICFscores$int_cell_type == 'LEFTY1_epi' |\n",
    "ICFsForesHighGenes_epi_stroma$ICFscores$int_cell_type == 'Gob' |\n",
    "ICFsForesHighGenes_epi_stroma$ICFscores$int_cell_type == 'Ent2' |\n",
    "ICFsForesHighGenes_epi_stroma$ICFscores$int_cell_type == 'PC' |\n",
    "ICFsForesHighGenes_epi_stroma$ICFscores$int_cell_type == 'Foveolar' |\n",
    "ICFsForesHighGenes_epi_stroma$ICFscores$int_cell_type == 'GKN+F' |\n",
    "ICFsForesHighGenes_epi_stroma$ICFscores$int_cell_type == 'Ent1' |\n",
    "ICFsForesHighGenes_epi_stroma$ICFscores$int_cell_type == 'Ent3') &\n",
    "(ICFsForesHighGenes_epi_stroma$ICFscores$cell_type == 'T CD8 memory' |\n",
    "ICFsForesHighGenes_epi_stroma$ICFscores$cell_type == 'macrophage' |\n",
    "ICFsForesHighGenes_epi_stroma$ICFscores$cell_type == 'T CD4 memory' |\n",
    "ICFsForesHighGenes_epi_stroma$ICFscores$cell_type == 'plasma' |\n",
    "ICFsForesHighGenes_epi_stroma$ICFscores$cell_type == 'CCL11LFB' |\n",
    "ICFsForesHighGenes_epi_stroma$ICFscores$cell_type == 'FibSmo' |\n",
    "ICFsForesHighGenes_epi_stroma$ICFscores$cell_type == 'SM' |\n",
    "ICFsForesHighGenes_epi_stroma$ICFscores$cell_type == 'T CD8 naive' |\n",
    "ICFsForesHighGenes_epi_stroma$ICFscores$cell_type == 'Treg' |\n",
    "ICFsForesHighGenes_epi_stroma$ICFscores$cell_type == 'mDC' |\n",
    "ICFsForesHighGenes_epi_stroma$ICFscores$cell_type == 'endothelial' |\n",
    "ICFsForesHighGenes_epi_stroma$ICFscores$cell_type == 'KLF+FB' |\n",
    "ICFsForesHighGenes_epi_stroma$ICFscores$cell_type == 'pericyte' |\n",
    "ICFsForesHighGenes_epi_stroma$ICFscores$cell_type == 'T CD4 naive' |\n",
    "ICFsForesHighGenes_epi_stroma$ICFscores$cell_type == 'pDC' |\n",
    "ICFsForesHighGenes_epi_stroma$ICFscores$cell_type == 'B-cell' |\n",
    "ICFsForesHighGenes_epi_stroma$ICFscores$cell_type == 'mast' |\n",
    "ICFsForesHighGenes_epi_stroma$ICFscores$cell_type == 'monocyte' |\n",
    "ICFsForesHighGenes_epi_stroma$ICFscores$cell_type == 'PDGFR+FB' |\n",
    "ICFsForesHighGenes_epi_stroma$ICFscores$cell_type == 'NK' |\n",
    "ICFsForesHighGenes_epi_stroma$ICFscores$cell_type == 'neutrophil' |                   \n",
    "ICFsForesHighGenes_epi_stroma$ICFscores$cell_type == 'pro_B-cell')                  \n",
    "               ]"
   ]
  },
  {
   "cell_type": "code",
   "execution_count": null,
   "id": "0405630c",
   "metadata": {},
   "outputs": [],
   "source": [
    "ICFsForesHighGenes_stroma_epi$ICFscores <- ICFsForesHighGenes_stroma_epi$ICFscores[\n",
    "(ICFsForesHighGenes_stroma_epi$ICFscores$cell_type == 'Chief' |\n",
    "ICFsForesHighGenes_stroma_epi$ICFscores$cell_type == 'OLFM4+Epi' |\n",
    "ICFsForesHighGenes_stroma_epi$ICFscores$cell_type == 'NE2' |\n",
    "ICFsForesHighGenes_stroma_epi$ICFscores$cell_type == 'PG/Neck1' |\n",
    "ICFsForesHighGenes_stroma_epi$ICFscores$cell_type == 'Pyloric_deep' |\n",
    "ICFsForesHighGenes_stroma_epi$ICFscores$cell_type == 'PG/Neck2' |\n",
    "ICFsForesHighGenes_stroma_epi$ICFscores$cell_type == 'NE1' |\n",
    "ICFsForesHighGenes_stroma_epi$ICFscores$cell_type == 'ADH1+GKN1-F' |\n",
    "ICFsForesHighGenes_stroma_epi$ICFscores$cell_type == 'LEFTY1_epi' |\n",
    "ICFsForesHighGenes_stroma_epi$ICFscores$cell_type == 'Gob' |\n",
    "ICFsForesHighGenes_stroma_epi$ICFscores$cell_type == 'Ent2' |\n",
    "ICFsForesHighGenes_stroma_epi$ICFscores$cell_type == 'PC' |\n",
    "ICFsForesHighGenes_stroma_epi$ICFscores$cell_type == 'Foveolar' |\n",
    "ICFsForesHighGenes_stroma_epi$ICFscores$cell_type == 'GKN+F' |\n",
    "ICFsForesHighGenes_stroma_epi$ICFscores$cell_type == 'Ent1' |\n",
    "ICFsForesHighGenes_stroma_epi$ICFscores$cell_type == 'Ent3') &\n",
    "(ICFsForesHighGenes_stroma_epi$ICFscores$int_cell_type == 'T CD8 memory' |\n",
    "ICFsForesHighGenes_stroma_epi$ICFscores$int_cell_type == 'macrophage' |\n",
    "ICFsForesHighGenes_stroma_epi$ICFscores$int_cell_type == 'T CD4 memory' |\n",
    "ICFsForesHighGenes_stroma_epi$ICFscores$int_cell_type == 'plasma' |\n",
    "ICFsForesHighGenes_stroma_epi$ICFscores$int_cell_type == 'CCL11LFB' |\n",
    "ICFsForesHighGenes_stroma_epi$ICFscores$int_cell_type == 'FibSmo' |\n",
    "ICFsForesHighGenes_stroma_epi$ICFscores$int_cell_type == 'SM' |\n",
    "ICFsForesHighGenes_stroma_epi$ICFscores$int_cell_type == 'T CD8 naive' |\n",
    "ICFsForesHighGenes_stroma_epi$ICFscores$int_cell_type == 'Treg' |\n",
    "ICFsForesHighGenes_stroma_epi$ICFscores$int_cell_type == 'mDC' |\n",
    "ICFsForesHighGenes_stroma_epi$ICFscores$int_cell_type == 'endothelial' |\n",
    "ICFsForesHighGenes_stroma_epi$ICFscores$int_cell_type == 'KLF+FB' |\n",
    "ICFsForesHighGenes_stroma_epi$ICFscores$int_cell_type == 'pericyte' |\n",
    "ICFsForesHighGenes_stroma_epi$ICFscores$int_cell_type == 'T CD4 naive' |\n",
    "ICFsForesHighGenes_stroma_epi$ICFscores$int_cell_type == 'pDC' |\n",
    "ICFsForesHighGenes_stroma_epi$ICFscores$int_cell_type == 'B-cell' |\n",
    "ICFsForesHighGenes_stroma_epi$ICFscores$int_cell_type == 'mast' |\n",
    "ICFsForesHighGenes_stroma_epi$ICFscores$int_cell_type == 'monocyte' |\n",
    "ICFsForesHighGenes_stroma_epi$ICFscores$int_cell_type == 'PDGFR+FB' |\n",
    "ICFsForesHighGenes_stroma_epi$ICFscores$int_cell_type == 'NK' |\n",
    "ICFsForesHighGenes_stroma_epi$ICFscores$int_cell_type == 'neutrophil' |                   \n",
    "ICFsForesHighGenes_stroma_epi$ICFscores$int_cell_type == 'pro_B-cell')                   \n",
    "               ]"
   ]
  },
  {
   "cell_type": "code",
   "execution_count": null,
   "id": "380d13e6",
   "metadata": {},
   "outputs": [],
   "source": [
    "ICFsForesHighGenes_epi_epi$ICFscores <- ICFsForesHighGenes_epi_epi$ICFscores[\n",
    "(ICFsForesHighGenes_epi_epi$ICFscores$cell_type == 'Chief' |\n",
    "ICFsForesHighGenes_epi_epi$ICFscores$cell_type == 'OLFM4+Epi' |\n",
    "ICFsForesHighGenes_epi_epi$ICFscores$cell_type == 'NE2' |\n",
    "ICFsForesHighGenes_epi_epi$ICFscores$cell_type == 'PG/Neck1' |\n",
    "ICFsForesHighGenes_epi_epi$ICFscores$cell_type == 'Pyloric_deep' |\n",
    "ICFsForesHighGenes_epi_epi$ICFscores$cell_type == 'PG/Neck2' |\n",
    "ICFsForesHighGenes_epi_epi$ICFscores$cell_type == 'NE1' |\n",
    "ICFsForesHighGenes_epi_epi$ICFscores$cell_type == 'ADH1+GKN1-F' |\n",
    "ICFsForesHighGenes_epi_epi$ICFscores$cell_type == 'LEFTY1_epi' |\n",
    "ICFsForesHighGenes_epi_epi$ICFscores$cell_type == 'Gob' |\n",
    "ICFsForesHighGenes_epi_epi$ICFscores$cell_type == 'Ent2' |\n",
    "ICFsForesHighGenes_epi_epi$ICFscores$cell_type == 'PC' |\n",
    "ICFsForesHighGenes_epi_epi$ICFscores$cell_type == 'Foveolar' |\n",
    "ICFsForesHighGenes_epi_epi$ICFscores$cell_type == 'GKN+F' |\n",
    "ICFsForesHighGenes_epi_epi$ICFscores$cell_type == 'Ent1' |\n",
    "ICFsForesHighGenes_epi_epi$ICFscores$cell_type == 'Ent3') &\n",
    "(ICFsForesHighGenes_epi_epi$ICFscores$int_cell_type == 'Chief' |\n",
    "ICFsForesHighGenes_epi_epi$ICFscores$int_cell_type == 'OLFM4+Epi' |\n",
    "ICFsForesHighGenes_epi_epi$ICFscores$int_cell_type == 'NE2' |\n",
    "ICFsForesHighGenes_epi_epi$ICFscores$int_cell_type == 'PG/Neck1' |\n",
    "ICFsForesHighGenes_epi_epi$ICFscores$int_cell_type == 'Pyloric_deep' |\n",
    "ICFsForesHighGenes_epi_epi$ICFscores$int_cell_type == 'PG/Neck2' |\n",
    "ICFsForesHighGenes_epi_epi$ICFscores$int_cell_type == 'NE1' |\n",
    "ICFsForesHighGenes_epi_epi$ICFscores$int_cell_type == 'ADH1+GKN1-F' |\n",
    "ICFsForesHighGenes_epi_epi$ICFscores$int_cell_type == 'LEFTY1_epi' |\n",
    "ICFsForesHighGenes_epi_epi$ICFscores$int_cell_type == 'Gob' |\n",
    "ICFsForesHighGenes_epi_epi$ICFscores$int_cell_type == 'Ent2' |\n",
    "ICFsForesHighGenes_epi_epi$ICFscores$int_cell_type == 'PC' |\n",
    "ICFsForesHighGenes_epi_epi$ICFscores$int_cell_type == 'Foveolar' |\n",
    "ICFsForesHighGenes_epi_epi$ICFscores$int_cell_type == 'GKN+F' |\n",
    "ICFsForesHighGenes_epi_epi$ICFscores$int_cell_type == 'Ent1' |\n",
    "ICFsForesHighGenes_epi_epi$ICFscores$int_cell_type == 'Ent3')               ]"
   ]
  },
  {
   "cell_type": "markdown",
   "id": "938ef995",
   "metadata": {},
   "source": [
    "#### 上皮→すべての細胞への影響"
   ]
  },
  {
   "cell_type": "code",
   "execution_count": null,
   "id": "28ba1d05",
   "metadata": {},
   "outputs": [],
   "source": [
    "## visualize all genes\n",
    "options(repr.plot.width=10, repr.plot.height=10)\n",
    "plotCellProximityFeats(fov_join, icfObject = ICFsForesHighGenes_epi_stroma,\n",
    "                       method = 'cell_barplot')"
   ]
  },
  {
   "cell_type": "code",
   "execution_count": null,
   "id": "e813cce7",
   "metadata": {},
   "outputs": [],
   "source": [
    "## visualize all genes\n",
    "options(repr.plot.width=10, repr.plot.height=10)\n",
    "plotCellProximityFeats(fov_join, icfObject = ICFsForesHighGenes_epi_stroma,cell_color_code = color_set,\n",
    "                       method = 'cell_barplot')"
   ]
  },
  {
   "cell_type": "code",
   "execution_count": null,
   "id": "7d18f2fc",
   "metadata": {},
   "outputs": [],
   "source": [
    "## visualize all genes\n",
    "options(repr.plot.width=7, repr.plot.height=7)\n",
    "pdf('Figure7H.pdf',width = 7, height = 7)\n",
    "plotCellProximityFeats(fov_join, icfObject = ICFsForesHighGenes_epi_stroma,#cell_color_code = color_set,\n",
    "                       method = 'dotplot')\n",
    "dev.off()"
   ]
  },
  {
   "cell_type": "code",
   "execution_count": null,
   "id": "1df62c27",
   "metadata": {},
   "outputs": [],
   "source": [
    "## visualize all genes\n",
    "options(repr.plot.width=10, repr.plot.height=10)\n",
    "plotCellProximityFeats(fov_join, icfObject = ICFsForesHighGenes_epi_stroma,#cell_color_code = color_set,\n",
    "                       method = 'dotplot')"
   ]
  },
  {
   "cell_type": "markdown",
   "id": "70584ff6",
   "metadata": {},
   "source": [
    "#### 間質→すべての細胞への影響"
   ]
  },
  {
   "cell_type": "code",
   "execution_count": null,
   "id": "1ad3d5aa",
   "metadata": {},
   "outputs": [],
   "source": [
    "colors <- readRDS('integrated_data/論文用再検討/distinct_colors.Rds')"
   ]
  },
  {
   "cell_type": "code",
   "execution_count": null,
   "id": "361256ed",
   "metadata": {},
   "outputs": [],
   "source": [
    "## visualize all genes\n",
    "options(repr.plot.width=10, repr.plot.height=10)\n",
    "plotCellProximityFeats(fov_join, icfObject = ICFsForesHighGenes_stroma_epi,cell_color_code = unlist(colors[15]),\n",
    "                       method = 'cell_barplot')"
   ]
  },
  {
   "cell_type": "code",
   "execution_count": null,
   "id": "684e96f1",
   "metadata": {},
   "outputs": [],
   "source": [
    "## visualize all genes\n",
    "options(repr.plot.width=14, repr.plot.height=14)\n",
    "plotCellProximityFeats(fov_join, icfObject = ICFsForesHighGenes_stroma_epi,#cell_color_code = color_set,\n",
    "                       method = 'dotplot')"
   ]
  },
  {
   "cell_type": "code",
   "execution_count": null,
   "id": "d845d2ce",
   "metadata": {},
   "outputs": [],
   "source": [
    "## visualize all genes\n",
    "options(repr.plot.width=7, repr.plot.height=7)\n",
    "pdf('Figure7I.pdf',width = 7, height = 7)\n",
    "plotCellProximityFeats(fov_join, icfObject = ICFsForesHighGenes_stroma_epi,#cell_color_code = color_set,\n",
    "                       method = 'dotplot')\n",
    "dev.off()"
   ]
  },
  {
   "cell_type": "code",
   "execution_count": null,
   "id": "522af661",
   "metadata": {},
   "outputs": [],
   "source": [
    "## filter genes\n",
    "ICFscoresFilt = filterICF(ICFsForesHighGenes)"
   ]
  },
  {
   "cell_type": "code",
   "execution_count": null,
   "id": "862798cc",
   "metadata": {},
   "outputs": [],
   "source": [
    "ICFscoresFilt"
   ]
  },
  {
   "cell_type": "code",
   "execution_count": null,
   "id": "cefe5e26",
   "metadata": {},
   "outputs": [],
   "source": [
    "## visualize subset of interaction changed genes (ICFs)\n",
    "ICF_genes = c('','COL1A1','PDGFRA', 'NRG1','BMP2','BMP4','BMP5','BMP6','WNT5A','WNT7B','WNT2B','WNT3')\n",
    "ICF_genes_types = c('GKN+F', 'Ent1', 'Ent2', 'Ent3', 'Foveolar','Chief','LEFTY1_epi','PG/Neck1','PG/Neck2','Pyloric_deep','OLFM4+Epi','OLFM4+Epi')\n",
    "names(ICF_genes) = ICF_genes_types"
   ]
  },
  {
   "cell_type": "code",
   "execution_count": null,
   "id": "4b5ded2e",
   "metadata": {},
   "outputs": [],
   "source": [
    "ICF_genes"
   ]
  },
  {
   "cell_type": "code",
   "execution_count": null,
   "id": "5a2bc734",
   "metadata": {},
   "outputs": [],
   "source": [
    "options(repr.plot.width=14, repr.plot.height=5)\n",
    "plotICF(gobject = fov_join,\n",
    "        icfObject = ICFsForesHighGenes,\n",
    "        source_type = 'PDGFR+FB',\n",
    "        source_markers = c('COL5A1','COL3A1'),\n",
    "        ICF_feats = ICF_genes)"
   ]
  },
  {
   "cell_type": "code",
   "execution_count": null,
   "id": "ed610859",
   "metadata": {
    "tags": []
   },
   "outputs": [],
   "source": [
    "ICFsForesHighGenes_epi_stroma$ICFscores[(ICFsForesHighGenes_epi_stroma$ICFscores$cell_type=='NK') &\n",
    "                                       (ICFsForesHighGenes_epi_stroma$ICFscores$p.adj<0.05)]$feats[1:100]\n",
    "     "
   ]
  },
  {
   "cell_type": "code",
   "execution_count": null,
   "id": "2af226d1",
   "metadata": {},
   "outputs": [],
   "source": [
    "## visualize subset of interaction changed genes (ICFs)\n",
    "ICF_genes = c('WNT7B','THBS2','MIF','ADGRE5','LGALS9','FASLG','CSF1','COL9A2','IL2RG','CD86','')\n",
    "ICF_genes_types = c('GKN+F', 'Ent1', 'Ent2', 'Ent3', 'Foveolar','Chief','LEFTY1_epi','PG/Neck1','PG/Neck2','Pyloric_deep','OLFM4+Epi')\n",
    "names(ICF_genes) = ICF_genes_types"
   ]
  },
  {
   "cell_type": "code",
   "execution_count": null,
   "id": "88ab6a97",
   "metadata": {},
   "outputs": [],
   "source": [
    "ICF_genes"
   ]
  },
  {
   "cell_type": "code",
   "execution_count": null,
   "id": "2758d33f",
   "metadata": {},
   "outputs": [],
   "source": [
    "options(repr.plot.width=14, repr.plot.height=5)\n",
    "plotICF(gobject = fov_join,\n",
    "        icfObject = ICFsForesHighGenes,\n",
    "        source_type = 'NK',\n",
    "        source_markers = c('GZMA','GZMB','GNLY'),\n",
    "        ICF_feats = ICF_genes)"
   ]
  },
  {
   "cell_type": "code",
   "execution_count": null,
   "id": "9b610c2a",
   "metadata": {},
   "outputs": [],
   "source": [
    "unique(ICFscoresFilt$ICFscores$feats)[grepl('^BMP',unique(ICFscoresFilt$ICFscores$feats))]"
   ]
  },
  {
   "cell_type": "code",
   "execution_count": null,
   "id": "2e2db524",
   "metadata": {},
   "outputs": [],
   "source": [
    "unique(ICFscoresFilt$ICFscores$feats)[grepl('^WNT',unique(ICFscoresFilt$ICFscores$feats))]"
   ]
  },
  {
   "cell_type": "code",
   "execution_count": null,
   "id": "de87236a",
   "metadata": {},
   "outputs": [],
   "source": [
    "## visualize all genes\n",
    "options(repr.plot.width=10, repr.plot.height=10)\n",
    "plotCellProximityFeats(fov_join, icfObject = ICFsForesHighGenes_epi_epi,cell_color_code = color_set,\n",
    "                       method = 'cell_barplot')"
   ]
  },
  {
   "cell_type": "code",
   "execution_count": null,
   "id": "ed6ba449",
   "metadata": {},
   "outputs": [],
   "source": [
    "## visualize all genes\n",
    "options(repr.plot.width=10, repr.plot.height=10)\n",
    "plotCellProximityFeats(fov_join, icfObject = ICFsForesHighGenes_epi_epi,#cell_color_code = color_set,\n",
    "                       method = 'dotplot')"
   ]
  },
  {
   "cell_type": "code",
   "execution_count": null,
   "id": "f7dd9fc9",
   "metadata": {},
   "outputs": [],
   "source": [
    "1+1"
   ]
  },
  {
   "cell_type": "code",
   "execution_count": null,
   "id": "70bd8f9b",
   "metadata": {
    "tags": []
   },
   "outputs": [],
   "source": [
    "saveGiotto(fov_join, foldername = 'saveGiottoDir_final_before_submission',overwrite = TRUE)"
   ]
  },
  {
   "cell_type": "markdown",
   "id": "5b19f528",
   "metadata": {
    "tags": []
   },
   "source": [
    "# Cellchat"
   ]
  },
  {
   "cell_type": "code",
   "execution_count": null,
   "id": "ea5aa104",
   "metadata": {},
   "outputs": [],
   "source": [
    "library(CellChat)"
   ]
  },
  {
   "cell_type": "code",
   "execution_count": null,
   "id": "f686246c",
   "metadata": {},
   "outputs": [],
   "source": [
    "lefty_id <- pDataDT(fov_join)$cell_ID[grepl('Pyloric-fov001',pDataDT(fov_join)$cell_ID) |\n",
    "                                     grepl('Pyloric-fov002',pDataDT(fov_join)$cell_ID) |\n",
    "                                     grepl('Pyloric-fov003',pDataDT(fov_join)$cell_ID) |\n",
    "                                     grepl('Fundic-fov020',pDataDT(fov_join)$cell_ID) |\n",
    "                                     grepl('Fundic-fov021',pDataDT(fov_join)$cell_ID) ]"
   ]
  },
  {
   "cell_type": "code",
   "execution_count": null,
   "id": "bc2f848f",
   "metadata": {},
   "outputs": [],
   "source": [
    "length(lefty_id)"
   ]
  },
  {
   "cell_type": "code",
   "execution_count": null,
   "id": "cf1e01b6",
   "metadata": {},
   "outputs": [],
   "source": [
    "#field1_ids = cell_metadata[FOV == 0]$cell_ID\n",
    "subfov_join = subsetGiotto(fov_join, cell_ids = lefty_id)"
   ]
  },
  {
   "cell_type": "code",
   "execution_count": null,
   "id": "7b6e24f6",
   "metadata": {},
   "outputs": [],
   "source": [
    "cols <- readRDS('integrated_data/論文用再検討/distinct_colors.Rds')"
   ]
  },
  {
   "cell_type": "code",
   "execution_count": null,
   "id": "fa6af856",
   "metadata": {},
   "outputs": [],
   "source": [
    "data.input = get_expression_values(subfov_join)"
   ]
  },
  {
   "cell_type": "code",
   "execution_count": null,
   "id": "e69627ae",
   "metadata": {},
   "outputs": [],
   "source": [
    "data.input = data.input@exprMat"
   ]
  },
  {
   "cell_type": "code",
   "execution_count": null,
   "id": "095309b9",
   "metadata": {},
   "outputs": [],
   "source": [
    "dim(data.input)"
   ]
  },
  {
   "cell_type": "code",
   "execution_count": null,
   "id": "037c2b09",
   "metadata": {},
   "outputs": [],
   "source": [
    "meta = pDataDT(subfov_join)"
   ]
  },
  {
   "cell_type": "code",
   "execution_count": null,
   "id": "56ed54af",
   "metadata": {},
   "outputs": [],
   "source": [
    "dim(meta)"
   ]
  },
  {
   "cell_type": "code",
   "execution_count": null,
   "id": "2214421f",
   "metadata": {},
   "outputs": [],
   "source": [
    "spatial.locs = subfov_join@spatial_locs$cell$raw"
   ]
  },
  {
   "cell_type": "code",
   "execution_count": null,
   "id": "b308a152",
   "metadata": {},
   "outputs": [],
   "source": [
    "head(meta)"
   ]
  },
  {
   "cell_type": "code",
   "execution_count": null,
   "id": "0dc2dc76",
   "metadata": {},
   "outputs": [],
   "source": [
    "rownames(meta) <- meta$cell_ID"
   ]
  },
  {
   "cell_type": "code",
   "execution_count": null,
   "id": "5b7cc92b",
   "metadata": {},
   "outputs": [],
   "source": [
    "scale.factors = list(spot.diameter = 50, spot = 50)"
   ]
  },
  {
   "cell_type": "code",
   "execution_count": null,
   "id": "a5b74f45",
   "metadata": {},
   "outputs": [],
   "source": [
    "scale.factors"
   ]
  },
  {
   "cell_type": "code",
   "execution_count": null,
   "id": "db7d0bea",
   "metadata": {},
   "outputs": [],
   "source": [
    "spatial.locs <- spatial.locs@coordinates"
   ]
  },
  {
   "cell_type": "code",
   "execution_count": null,
   "id": "c537b143",
   "metadata": {},
   "outputs": [],
   "source": [
    "spatial.locs <- as.data.frame(spatial.locs)"
   ]
  },
  {
   "cell_type": "code",
   "execution_count": null,
   "id": "710dbfae",
   "metadata": {},
   "outputs": [],
   "source": [
    "rownames(spatial.locs) <- spatial.locs$cell_ID"
   ]
  },
  {
   "cell_type": "code",
   "execution_count": null,
   "id": "4efc9c49",
   "metadata": {},
   "outputs": [],
   "source": [
    "spatial.locs <- spatial.locs[,1:2]"
   ]
  },
  {
   "cell_type": "code",
   "execution_count": null,
   "id": "726a3e5d",
   "metadata": {},
   "outputs": [],
   "source": [
    "head(spatial.locs)"
   ]
  },
  {
   "cell_type": "code",
   "execution_count": null,
   "id": "c7f22152",
   "metadata": {},
   "outputs": [],
   "source": [
    "cellchat <- createCellChat(object = data.input, meta = meta, group.by = 'new_clus',\n",
    "                           datatype='spatial', coordinates = spatial.locs, scale.factors = scale.factors)"
   ]
  },
  {
   "cell_type": "code",
   "execution_count": null,
   "id": "4f672c64",
   "metadata": {},
   "outputs": [],
   "source": [
    "CellChatDB <- CellChatDB.human # use CellChatDB.human if running on human data\n",
    "\n",
    "# use a subset of CellChatDB for cell-cell communication analysis\n",
    "#CellChatDB.use <- subsetDB(CellChatDB, search = \"Secreted Signaling\") # use Secreted Signaling\n",
    "# use all CellChatDB for cell-cell communication analysis\n",
    "# CellChatDB.use <- CellChatDB # simply use the default CellChatDB\n",
    "\n",
    "# set the used database in the object\n",
    "cellchat@DB <- CellChatDB"
   ]
  },
  {
   "cell_type": "code",
   "execution_count": null,
   "id": "086b7dd3",
   "metadata": {},
   "outputs": [],
   "source": [
    "options(stringsAsFactors = FALSE)\n",
    "interaction_input <- read.csv(file = './cellchat_database/interaction_input_CellChatDB_new.csv', row.names = 1)\n",
    "#complex_input <- read.csv(file = './cellchat_database/complex_input_new.csv', row.names = 1)\n",
    "#cofactor_input <- read.csv(file = './cellchat_database/cofactor_input_new.csv', row.names = 1)\n",
    "geneInfo <- read.csv(file = './cellchat_database/geneInfo_input_CellChatDB.csv', row.names = 1)"
   ]
  },
  {
   "cell_type": "code",
   "execution_count": null,
   "id": "335cf5fb",
   "metadata": {},
   "outputs": [],
   "source": [
    "DB <- CellChatDB.human"
   ]
  },
  {
   "cell_type": "code",
   "execution_count": null,
   "id": "42574d8f",
   "metadata": {},
   "outputs": [],
   "source": [
    "CellChatDB <- list()\n",
    "CellChatDB$interaction <- interaction_input\n",
    "CellChatDB$complex <- DB$complex\n",
    "CellChatDB$cofactor <- DB$cofactor\n",
    "CellChatDB$geneInfo <- geneInfo"
   ]
  },
  {
   "cell_type": "code",
   "execution_count": null,
   "id": "7c918075",
   "metadata": {},
   "outputs": [],
   "source": [
    "CellChatDB.use <- CellChatDB # use Secreted Signaling\n",
    "# use all CellChatDB for cell-cell communication analysis\n",
    "# CellChatDB.use <- CellChatDB # simply use the default CellChatDB\n",
    "\n",
    "# set the used database in the object\n",
    "cellchat@DB <- CellChatDB.use"
   ]
  },
  {
   "cell_type": "code",
   "execution_count": null,
   "id": "a78f646b",
   "metadata": {},
   "outputs": [],
   "source": [
    "# subset the expression data of signaling genes for saving computation cost\n",
    "cellchat <- subsetData(cellchat) # This step is necessary even if using the whole database\n",
    "future::plan(\"multiprocess\", workers = 1) # do parallel\n",
    "#> Warning: Strategy 'multiprocess' is deprecated in future (>= 1.20.0). Instead,\n",
    "#> explicitly specify either 'multisession' or 'multicore'. In the current R\n",
    "#> session, 'multiprocess' equals 'multisession'.\n",
    "#> Warning in supportsMulticoreAndRStudio(...): [ONE-TIME WARNING] Forked\n",
    "#> processing ('multicore') is not supported when running R from RStudio\n",
    "#> because it is considered unstable. For more details, how to control forked\n",
    "#> processing or not, and how to silence this warning in future R sessions, see ?\n",
    "#> parallelly::supportsMulticore\n",
    "cellchat <- suppressWarnings(identifyOverExpressedGenes(cellchat))\n",
    "cellchat <- suppressWarnings(identifyOverExpressedInteractions(cellchat))\n",
    " \n",
    "# project gene expression data onto PPI (Optional: when running it, USER should set `raw.use = FALSE` in the function `computeCommunProb()` in order to use the projected data)\n",
    "# cellchat <- projectData(cellchat, PPI.mouse)"
   ]
  },
  {
   "cell_type": "code",
   "execution_count": null,
   "id": "718c8720",
   "metadata": {},
   "outputs": [],
   "source": [
    "cellchat <- suppressWarnings(computeCommunProb(cellchat, type = \"truncatedMean\", trim = 0.1, \n",
    "                               distance.use = TRUE, interaction.length = 200, scale.distance = 0.1))\n",
    "#> truncatedMean is used for calculating the average gene expression per cell group. \n",
    "#> [1] \">>> Run CellChat on spatial imaging data using distances as constraints <<< [2022-11-12 07:49:23]\"\n",
    "#> The suggested minimum value of scaled distances is in [1,2], and the calculated value here is  1.30553 \n",
    "#> [1] \">>> CellChat inference is done. Parameter values are stored in `object@options$parameter` <<< [2022-11-12 08:10:42]\"\n",
    "\n",
    "# Filter out the cell-cell communication if there are only few number of cells in certain cell groups\n",
    "cellchat <- suppressWarnings(filterCommunication(cellchat, min.cells = 10))"
   ]
  },
  {
   "cell_type": "code",
   "execution_count": null,
   "id": "3e028f0f",
   "metadata": {},
   "outputs": [],
   "source": [
    "cellchat <- computeCommunProbPathway(cellchat)"
   ]
  },
  {
   "cell_type": "code",
   "execution_count": null,
   "id": "9ccc4a9f",
   "metadata": {},
   "outputs": [],
   "source": [
    "cellchat <- aggregateNet(cellchat)"
   ]
  },
  {
   "cell_type": "code",
   "execution_count": null,
   "id": "6c817a61",
   "metadata": {},
   "outputs": [],
   "source": [
    "options(repr.plot.width=14, repr.plot.height=14)\n",
    "groupSize <- as.numeric(table(cellchat@idents))\n",
    "par(mfrow = c(1,2), xpd=TRUE)\n",
    "netVisual_circle(cellchat@net$count, vertex.weight = rowSums(cellchat@net$count), weight.scale = T, label.edge= F, title.name = \"Number of interactions\")\n",
    "netVisual_circle(cellchat@net$weight, vertex.weight = rowSums(cellchat@net$weight), weight.scale = T, label.edge= F, title.name = \"Interaction weights/strength\")"
   ]
  },
  {
   "cell_type": "code",
   "execution_count": null,
   "id": "b6ce958c",
   "metadata": {},
   "outputs": [],
   "source": [
    "# Compute the network centrality scores\n",
    "cellchat <- netAnalysis_computeCentrality(cellchat, slot.name = \"netP\") # the slot 'netP' means the inferred intercellular communication network of signaling pathways"
   ]
  },
  {
   "cell_type": "code",
   "execution_count": null,
   "id": "dd7169bb",
   "metadata": {},
   "outputs": [],
   "source": [
    "pathways.show <- c(\"NRG\") \n",
    "# Circle plot\n",
    "par(mfrow=c(1,1))\n",
    "netVisual_aggregate(cellchat, signaling = pathways.show, layout = \"circle\")"
   ]
  },
  {
   "cell_type": "code",
   "execution_count": null,
   "id": "bffbab23",
   "metadata": {},
   "outputs": [],
   "source": [
    "# Visualize the computed centrality scores using heatmap, allowing ready identification of major signaling roles of cell groups\n",
    "par(mfrow=c(1,1))\n",
    "netAnalysis_signalingRole_network(cellchat, signaling = pathways.show, width = 8, height = 2.5, font.size = 10)"
   ]
  },
  {
   "cell_type": "code",
   "execution_count": null,
   "id": "fa38e7f3",
   "metadata": {},
   "outputs": [],
   "source": [
    "saveRDS(cellchat, file = \"cellchat_cosmx_lefty1.rds\")"
   ]
  },
  {
   "cell_type": "markdown",
   "id": "5f41cca1",
   "metadata": {},
   "source": [
    "cellchat <- readRDS('cellchat_cosmx.rds')"
   ]
  },
  {
   "cell_type": "code",
   "execution_count": null,
   "id": "9c37b356",
   "metadata": {},
   "outputs": [],
   "source": [
    "mat <- cellchat@net$weight\n",
    "par(mfrow = c(3,4), xpd=TRUE)\n",
    "for (i in 1:nrow(mat)) {\n",
    "  mat2 <- matrix(0, nrow = nrow(mat), ncol = ncol(mat), dimnames = dimnames(mat))\n",
    "  mat2[i, ] <- mat[i, ]\n",
    "  netVisual_circle(mat2, vertex.weight = groupSize, weight.scale = T, edge.weight.max = max(mat), title.name = rownames(mat)[i])\n",
    "}"
   ]
  },
  {
   "cell_type": "code",
   "execution_count": null,
   "id": "18b40f59",
   "metadata": {},
   "outputs": [],
   "source": [
    "library(ComplexHeatmap)"
   ]
  },
  {
   "cell_type": "code",
   "execution_count": null,
   "id": "034ed1c6",
   "metadata": {},
   "outputs": [],
   "source": [
    "options(repr.plot.width=14,repr.plot.height=14)\n",
    "# show all the significant interactions (L-R pairs) from some cell groups (defined by 'sources.use') to other cell groups (defined by 'targets.use')\n",
    "netVisual_bubble(cellchat,remove.isolate = FALSE, targets.use = 'LEFTY1_epi',)\n",
    "#> Comparing communications on a single object"
   ]
  },
  {
   "cell_type": "code",
   "execution_count": null,
   "id": "ad34b91b",
   "metadata": {},
   "outputs": [],
   "source": [
    "options(repr.plot.width=7,repr.plot.height=7)\n",
    "pathways.show <- c(\"NRG\") \n",
    "# Circle plot\n",
    "par(mfrow=c(1,1))\n",
    "netVisual_aggregate(cellchat, signaling = pathways.show, layout = \"circle\")"
   ]
  },
  {
   "cell_type": "code",
   "execution_count": null,
   "id": "b4c01c8f",
   "metadata": {},
   "outputs": [],
   "source": [
    "options(repr.plot.width=7,repr.plot.height=7)\n",
    "pathways.show <- c(\"WNT\") \n",
    "# Circle plot\n",
    "par(mfrow=c(1,1))\n",
    "netVisual_aggregate(cellchat, signaling = pathways.show, layout = \"circle\")"
   ]
  },
  {
   "cell_type": "code",
   "execution_count": null,
   "id": "e08d0b13",
   "metadata": {},
   "outputs": [],
   "source": [
    "options(repr.plot.width=7,repr.plot.height=7)\n",
    "pathways.show <- c(\"ncWNT\") \n",
    "# Circle plot\n",
    "par(mfrow=c(1,1))\n",
    "netVisual_aggregate(cellchat, signaling = pathways.show, layout = \"circle\")"
   ]
  },
  {
   "cell_type": "code",
   "execution_count": null,
   "id": "4f23f65a",
   "metadata": {},
   "outputs": [],
   "source": [
    "options(repr.plot.width=7,repr.plot.height=7)\n",
    "pathways.show <- c(\"BMP\") \n",
    "# Circle plot\n",
    "par(mfrow=c(1,1))\n",
    "netVisual_aggregate(cellchat, signaling = pathways.show, layout = \"circle\")"
   ]
  },
  {
   "cell_type": "code",
   "execution_count": null,
   "id": "8f902d46",
   "metadata": {},
   "outputs": [],
   "source": [
    "options(repr.plot.width=7,repr.plot.height=7)\n",
    "pathways.show <- c(\"TGFb\") \n",
    "# Circle plot\n",
    "par(mfrow=c(1,1))\n",
    "netVisual_aggregate(cellchat, signaling = pathways.show, layout = \"circle\")"
   ]
  },
  {
   "cell_type": "code",
   "execution_count": null,
   "id": "392b5f81",
   "metadata": {},
   "outputs": [],
   "source": [
    "options(repr.plot.width=7,repr.plot.height=7)\n",
    "pathways.show <- c(\"EPHB\") \n",
    "# Circle plot\n",
    "par(mfrow=c(1,1))\n",
    "netVisual_aggregate(cellchat, signaling = pathways.show, layout = \"circle\")"
   ]
  },
  {
   "cell_type": "code",
   "execution_count": null,
   "id": "cce78035",
   "metadata": {},
   "outputs": [],
   "source": [
    "options(repr.plot.width=7,repr.plot.height=7)\n",
    "pathways.show <- c(\"NOTCH\") \n",
    "# Circle plot\n",
    "par(mfrow=c(1,1))\n",
    "netVisual_aggregate(cellchat, signaling = pathways.show, layout = \"circle\")"
   ]
  },
  {
   "cell_type": "code",
   "execution_count": null,
   "id": "530e61f3",
   "metadata": {},
   "outputs": [],
   "source": [
    "# Visualize the computed centrality scores using heatmap, allowing ready identification of major signaling roles of cell groups\n",
    "par(mfrow=c(1,1))\n",
    "netAnalysis_signalingRole_network(cellchat, signaling = pathways.show, width = 8, height = 2.5, font.size = 10)"
   ]
  },
  {
   "cell_type": "code",
   "execution_count": null,
   "id": "454829c5",
   "metadata": {},
   "outputs": [],
   "source": [
    "# Spatial plot\n",
    "par(mfrow=c(1,1))\n",
    "netVisual_aggregate(cellchat, signaling = pathways.show, layout = \"spatial\", edge.width.max = 2, vertex.size.max = 1, alpha.image = 0.2, vertex.label.cex = 3.5)"
   ]
  },
  {
   "cell_type": "code",
   "execution_count": null,
   "id": "44ad64f9",
   "metadata": {},
   "outputs": [],
   "source": [
    "cellchat <- netAnalysis_computeCentrality(cellchat, slot.name = \"netP\") # the slot 'netP' means the inferred intercellular communication network of signaling pathways"
   ]
  },
  {
   "cell_type": "code",
   "execution_count": null,
   "id": "162487bc",
   "metadata": {
    "tags": []
   },
   "outputs": [],
   "source": [
    "# Signaling role analysis on the aggregated cell-cell communication network from all signaling pathways\n",
    "options(repr.plot.width=24,repr.plot.height=24)\n",
    "ht1 <- netAnalysis_signalingRole_heatmap(cellchat, pattern = \"outgoing\",width = 24,height = 24)"
   ]
  },
  {
   "cell_type": "code",
   "execution_count": null,
   "id": "2d71458c",
   "metadata": {
    "tags": []
   },
   "outputs": [],
   "source": [
    "# Signaling role analysis on the aggregated cell-cell communication network from all signaling pathways\n",
    "options(repr.plot.width=24,repr.plot.height=24)\n",
    "ht2 <- netAnalysis_signalingRole_heatmap(cellchat, pattern = \"incoming\",width = 24,height = 24)"
   ]
  },
  {
   "cell_type": "code",
   "execution_count": null,
   "id": "f9d81e24",
   "metadata": {},
   "outputs": [],
   "source": [
    "ht1"
   ]
  },
  {
   "cell_type": "code",
   "execution_count": null,
   "id": "8af45937",
   "metadata": {},
   "outputs": [],
   "source": [
    "ht2"
   ]
  },
  {
   "cell_type": "code",
   "execution_count": null,
   "id": "55a99e00",
   "metadata": {},
   "outputs": [],
   "source": [
    "# show all the significant interactions (L-R pairs) associated with certain signaling pathways\n",
    "options(repr.plot.width=5,repr.plot.height=5)\n",
    "netVisual_bubble(cellchat, sources.use = c('NK'), targets.use = c('GKN+F','Foveolar','TA_Ent','Ent2','LEFTY1_epi'),  remove.isolate = FALSE)\n",
    "#> Comparing communications on a single object"
   ]
  },
  {
   "cell_type": "code",
   "execution_count": null,
   "id": "39071d75",
   "metadata": {},
   "outputs": [],
   "source": [
    "# show all the significant interactions (L-R pairs) associated with certain signaling pathways\n",
    "options(repr.plot.width=10,repr.plot.height=10)\n",
    "netVisual_bubble(cellchat, targets.use = c('OLFM4+Epi'),  remove.isolate = TRUE)\n",
    "#> Comparing communications on a single object"
   ]
  },
  {
   "cell_type": "code",
   "execution_count": null,
   "id": "c430914f",
   "metadata": {},
   "outputs": [],
   "source": [
    "# show all the significant interactions (L-R pairs) associated with certain signaling pathways\n",
    "options(repr.plot.width=10,repr.plot.height=10)\n",
    "netVisual_bubble(cellchat, targets.use = c('epi_ithmus'),  remove.isolate = TRUE)\n",
    "#> Comparing communications on a single object"
   ]
  },
  {
   "cell_type": "code",
   "execution_count": null,
   "id": "472aa6f9",
   "metadata": {},
   "outputs": [],
   "source": [
    "unique(cellchat@DB$interaction$pathway_name)"
   ]
  },
  {
   "cell_type": "code",
   "execution_count": null,
   "id": "ae0216c4",
   "metadata": {},
   "outputs": [],
   "source": [
    "cellchat@DB$interaction[cellchat@DB$interaction$pathway_name == 'TWEAK',]"
   ]
  },
  {
   "cell_type": "code",
   "execution_count": null,
   "id": "fd43db57",
   "metadata": {
    "tags": []
   },
   "outputs": [],
   "source": [
    "cellchat@DB$interaction[cellchat@DB$interaction$pathway_name == 'WNT',]"
   ]
  },
  {
   "cell_type": "code",
   "execution_count": null,
   "id": "f0974ad7",
   "metadata": {
    "tags": []
   },
   "outputs": [],
   "source": [
    "cellchat@DB$interaction[cellchat@DB$interaction$pathway_name == 'ncWNT',]"
   ]
  },
  {
   "cell_type": "code",
   "execution_count": null,
   "id": "8dff6f7b",
   "metadata": {},
   "outputs": [],
   "source": [
    "pathways.show <- c(\"COLLAGEN\") \n",
    "# Circle plot\n",
    "options(repr.plot.width=14,repr.plot.height=14)\n",
    "par(mfrow=c(1,1))\n",
    "netVisual_aggregate(cellchat, signaling = pathways.show, layout = \"circle\")"
   ]
  },
  {
   "cell_type": "code",
   "execution_count": null,
   "id": "57f24c7e",
   "metadata": {},
   "outputs": [],
   "source": [
    "pathways.show <- c(\"PDGF\") \n",
    "# Circle plot\n",
    "par(mfrow=c(1,1))\n",
    "netVisual_aggregate(cellchat, signaling = pathways.show, layout = \"circle\")"
   ]
  },
  {
   "cell_type": "code",
   "execution_count": null,
   "id": "e07022f1",
   "metadata": {},
   "outputs": [],
   "source": [
    "lefty_id <- pDataDT(fov_join)$cell_ID[grepl('Pyloric-fov001',pDataDT(fov_join)$cell_ID) |\n",
    "                                     grepl('Pyloric-fov002',pDataDT(fov_join)$cell_ID) |\n",
    "                                     grepl('Pyloric-fov003',pDataDT(fov_join)$cell_ID) |\n",
    "                                     grepl('Fundic-fov020',pDataDT(fov_join)$cell_ID) |\n",
    "                                     grepl('Fundic-fov021',pDataDT(fov_join)$cell_ID) ]"
   ]
  },
  {
   "cell_type": "markdown",
   "id": "c56362aa",
   "metadata": {
    "jp-MarkdownHeadingCollapsed": true,
    "tags": []
   },
   "source": [
    "### 部位別cellchat"
   ]
  },
  {
   "cell_type": "code",
   "execution_count": null,
   "id": "e7af8b09",
   "metadata": {},
   "outputs": [],
   "source": [
    "unique(pDataDT(fov_join)$Tissue_spatial_region)"
   ]
  },
  {
   "cell_type": "code",
   "execution_count": null,
   "id": "0c1f75d4",
   "metadata": {},
   "outputs": [],
   "source": [
    "unique(pDataDT(fov_join)$Tissue_spatial_region)[grepl('Metaplasia',unique(pDataDT(fov_join)$Tissue_spatial_region))]"
   ]
  },
  {
   "cell_type": "code",
   "execution_count": null,
   "id": "a5f49adc",
   "metadata": {},
   "outputs": [],
   "source": [
    "pyloric <- pDataDT(fov_join)$cell_ID[(pDataDT(fov_join)$Tissue_spatial_region=='Pyloric_deep') |\n",
    "                                    (pDataDT(fov_join)$Tissue_spatial_region=='Pyloric_ithmus') |\n",
    "                                    (pDataDT(fov_join)$Tissue_spatial_region=='Pyloric_superficial')\n",
    "                                    ]"
   ]
  },
  {
   "cell_type": "code",
   "execution_count": null,
   "id": "7bd3f7ac",
   "metadata": {},
   "outputs": [],
   "source": [
    "fundic <- pDataDT(fov_join)$cell_ID[(pDataDT(fov_join)$Tissue_spatial_region=='Fundic_deep') |\n",
    "                                    (pDataDT(fov_join)$Tissue_spatial_region=='Fundic_ithmus') |\n",
    "                                    (pDataDT(fov_join)$Tissue_spatial_region=='Fundic_superficial')\n",
    "                                    ]"
   ]
  },
  {
   "cell_type": "code",
   "execution_count": null,
   "id": "03f86594",
   "metadata": {},
   "outputs": [],
   "source": [
    "IM <- pDataDT(fov_join)$cell_ID[(pDataDT(fov_join)$Tissue_spatial_region=='Metaplasia_deep') |\n",
    "                                    (pDataDT(fov_join)$Tissue_spatial_region=='Metaplasia_superficial')\n",
    "                                    ]"
   ]
  },
  {
   "cell_type": "code",
   "execution_count": null,
   "id": "028f1cc9",
   "metadata": {},
   "outputs": [],
   "source": [
    "length(pyloric)"
   ]
  },
  {
   "cell_type": "code",
   "execution_count": null,
   "id": "d806c387",
   "metadata": {},
   "outputs": [],
   "source": [
    "length(fundic)"
   ]
  },
  {
   "cell_type": "code",
   "execution_count": null,
   "id": "08392ea5",
   "metadata": {},
   "outputs": [],
   "source": [
    "length(IM)"
   ]
  },
  {
   "cell_type": "code",
   "execution_count": null,
   "id": "348d2347",
   "metadata": {},
   "outputs": [],
   "source": [
    "#field1_ids = cell_metadata[FOV == 0]$cell_ID\n",
    "subfov_join_pyloric = subsetGiotto(fov_join, cell_ids = pyloric)"
   ]
  },
  {
   "cell_type": "code",
   "execution_count": null,
   "id": "9f410063",
   "metadata": {},
   "outputs": [],
   "source": [
    "cols <- readRDS('integrated_data/論文用再検討/distinct_colors.Rds')"
   ]
  },
  {
   "cell_type": "code",
   "execution_count": null,
   "id": "edc18e3f",
   "metadata": {},
   "outputs": [],
   "source": [
    "data.input = get_expression_values(subfov_join_pyloric)"
   ]
  },
  {
   "cell_type": "code",
   "execution_count": null,
   "id": "0650b05d",
   "metadata": {},
   "outputs": [],
   "source": [
    "data.input = data.input@exprMat"
   ]
  },
  {
   "cell_type": "code",
   "execution_count": null,
   "id": "7e2268dd",
   "metadata": {},
   "outputs": [],
   "source": [
    "dim(data.input)"
   ]
  },
  {
   "cell_type": "code",
   "execution_count": null,
   "id": "0e907801",
   "metadata": {},
   "outputs": [],
   "source": [
    "meta = pDataDT(subfov_join_pyloric)"
   ]
  },
  {
   "cell_type": "code",
   "execution_count": null,
   "id": "eae4c0c6",
   "metadata": {},
   "outputs": [],
   "source": [
    "dim(meta)"
   ]
  },
  {
   "cell_type": "code",
   "execution_count": null,
   "id": "e8b05cbf",
   "metadata": {},
   "outputs": [],
   "source": [
    "spatial.locs = subfov_join_pyloric@spatial_locs$cell$raw"
   ]
  },
  {
   "cell_type": "code",
   "execution_count": null,
   "id": "a1294399",
   "metadata": {},
   "outputs": [],
   "source": [
    "head(meta)"
   ]
  },
  {
   "cell_type": "code",
   "execution_count": null,
   "id": "2909f749",
   "metadata": {},
   "outputs": [],
   "source": [
    "rownames(meta) <- meta$cell_ID"
   ]
  },
  {
   "cell_type": "code",
   "execution_count": null,
   "id": "a63254d6",
   "metadata": {},
   "outputs": [],
   "source": [
    "scale.factors = list(spot.diameter = 50, spot = 50)"
   ]
  },
  {
   "cell_type": "code",
   "execution_count": null,
   "id": "08987c6b",
   "metadata": {},
   "outputs": [],
   "source": [
    "scale.factors"
   ]
  },
  {
   "cell_type": "code",
   "execution_count": null,
   "id": "6179fee2",
   "metadata": {},
   "outputs": [],
   "source": [
    "spatial.locs <- spatial.locs@coordinates"
   ]
  },
  {
   "cell_type": "code",
   "execution_count": null,
   "id": "9e6f89d9",
   "metadata": {},
   "outputs": [],
   "source": [
    "spatial.locs <- as.data.frame(spatial.locs)"
   ]
  },
  {
   "cell_type": "code",
   "execution_count": null,
   "id": "1c3fa0e2",
   "metadata": {},
   "outputs": [],
   "source": [
    "rownames(spatial.locs) <- spatial.locs$cell_ID"
   ]
  },
  {
   "cell_type": "code",
   "execution_count": null,
   "id": "9640c1c4",
   "metadata": {},
   "outputs": [],
   "source": [
    "spatial.locs <- spatial.locs[,1:2]"
   ]
  },
  {
   "cell_type": "code",
   "execution_count": null,
   "id": "b7eb4b43",
   "metadata": {},
   "outputs": [],
   "source": [
    "head(spatial.locs)"
   ]
  },
  {
   "cell_type": "code",
   "execution_count": null,
   "id": "2fc672c0",
   "metadata": {},
   "outputs": [],
   "source": [
    "cellchat_pyloric <- createCellChat(object = data.input, meta = meta, group.by = 'new_clus',\n",
    "                           datatype='spatial', coordinates = spatial.locs, scale.factors = scale.factors)"
   ]
  },
  {
   "cell_type": "code",
   "execution_count": null,
   "id": "416cc27d",
   "metadata": {},
   "outputs": [],
   "source": [
    "# set the used database in the object\n",
    "cellchat_pyloric@DB <- CellChatDB.use"
   ]
  },
  {
   "cell_type": "code",
   "execution_count": null,
   "id": "1a6a1841",
   "metadata": {},
   "outputs": [],
   "source": [
    "# subset the expression data of signaling genes for saving computation cost\n",
    "cellchat_pyloric <- subsetData(cellchat_pyloric) # This step is necessary even if using the whole database\n",
    "future::plan(\"multiprocess\", workers = 1) # do parallel\n",
    "#> Warning: Strategy 'multiprocess' is deprecated in future (>= 1.20.0). Instead,\n",
    "#> explicitly specify either 'multisession' or 'multicore'. In the current R\n",
    "#> session, 'multiprocess' equals 'multisession'.\n",
    "#> Warning in supportsMulticoreAndRStudio(...): [ONE-TIME WARNING] Forked\n",
    "#> processing ('multicore') is not supported when running R from RStudio\n",
    "#> because it is considered unstable. For more details, how to control forked\n",
    "#> processing or not, and how to silence this warning in future R sessions, see ?\n",
    "#> parallelly::supportsMulticore\n",
    "cellchat_pyloric <- suppressWarnings(identifyOverExpressedGenes(cellchat_pyloric))\n",
    "cellchat_pyloric <- suppressWarnings(identifyOverExpressedInteractions(cellchat_pyloric))\n",
    " \n",
    "# project gene expression data onto PPI (Optional: when running it, USER should set `raw.use = FALSE` in the function `computeCommunProb()` in order to use the projected data)\n",
    "# cellchat <- projectData(cellchat, PPI.mouse)"
   ]
  },
  {
   "cell_type": "code",
   "execution_count": null,
   "id": "32aacfb8",
   "metadata": {},
   "outputs": [],
   "source": [
    "cellchat_pyloric <- suppressWarnings(computeCommunProb(cellchat_pyloric, type = \"truncatedMean\", trim = 0.1, \n",
    "                               distance.use = TRUE, interaction.length = 200, scale.distance = 0.1))\n",
    "#> truncatedMean is used for calculating the average gene expression per cell group. \n",
    "#> [1] \">>> Run CellChat on spatial imaging data using distances as constraints <<< [2022-11-12 07:49:23]\"\n",
    "#> The suggested minimum value of scaled distances is in [1,2], and the calculated value here is  1.30553 \n",
    "#> [1] \">>> CellChat inference is done. Parameter values are stored in `object@options$parameter` <<< [2022-11-12 08:10:42]\"\n",
    "\n",
    "# Filter out the cell-cell communication if there are only few number of cells in certain cell groups\n",
    "cellchat_pyloric <- suppressWarnings(filterCommunication(cellchat_pyloric, min.cells = 10))"
   ]
  },
  {
   "cell_type": "code",
   "execution_count": null,
   "id": "6d1b16b0",
   "metadata": {},
   "outputs": [],
   "source": [
    "cellchat_pyloric <- computeCommunProbPathway(cellchat_pyloric)"
   ]
  },
  {
   "cell_type": "code",
   "execution_count": null,
   "id": "c8166652",
   "metadata": {},
   "outputs": [],
   "source": [
    "cellchat_pyloric <- aggregateNet(cellchat_pyloric)"
   ]
  },
  {
   "cell_type": "code",
   "execution_count": null,
   "id": "89f0f08d",
   "metadata": {},
   "outputs": [],
   "source": [
    "1+1"
   ]
  },
  {
   "cell_type": "code",
   "execution_count": null,
   "id": "6ca11be2",
   "metadata": {},
   "outputs": [],
   "source": [
    "options(repr.plot.width=14, repr.plot.height=14)\n",
    "groupSize <- as.numeric(table(cellchat_pyloric@idents))\n",
    "par(mfrow = c(1,2), xpd=TRUE)\n",
    "netVisual_circle(cellchat_pyloric@net$count, vertex.weight = rowSums(cellchat_pyloric@net$count), weight.scale = T, label.edge= F, title.name = \"Number of interactions\")\n",
    "netVisual_circle(cellchat_pyloric@net$weight, vertex.weight = rowSums(cellchat_pyloric@net$weight), weight.scale = T, label.edge= F, title.name = \"Interaction weights/strength\")"
   ]
  },
  {
   "cell_type": "code",
   "execution_count": null,
   "id": "b555922b",
   "metadata": {},
   "outputs": [],
   "source": [
    "# Compute the network centrality scores\n",
    "cellchat_pyloric <- netAnalysis_computeCentrality(cellchat_pyloric, slot.name = \"netP\") # the slot 'netP' means the inferred intercellular communication network of signaling pathways"
   ]
  },
  {
   "cell_type": "code",
   "execution_count": null,
   "id": "8d1b9a9b",
   "metadata": {},
   "outputs": [],
   "source": [
    "pathways.show <- c(\"NRG\") \n",
    "# Circle plot\n",
    "par(mfrow=c(1,1))\n",
    "netVisual_aggregate(cellchat_pyloric, signaling = pathways.show, layout = \"circle\")"
   ]
  },
  {
   "cell_type": "code",
   "execution_count": null,
   "id": "8cd05d6c",
   "metadata": {},
   "outputs": [],
   "source": [
    "saveRDS(cellchat_pyloric, file = \"cellchat_cosmx_pyloric.rds\")"
   ]
  },
  {
   "cell_type": "markdown",
   "id": "1c41fd3b",
   "metadata": {},
   "source": [
    "cellchat <- readRDS('cellchat_cosmx.rds')"
   ]
  },
  {
   "cell_type": "code",
   "execution_count": null,
   "id": "fd06459f",
   "metadata": {},
   "outputs": [],
   "source": [
    "mat <- cellchat_pyloric@net$weight\n",
    "par(mfrow = c(3,4), xpd=TRUE)\n",
    "for (i in 1:nrow(mat)) {\n",
    "  mat2 <- matrix(0, nrow = nrow(mat), ncol = ncol(mat), dimnames = dimnames(mat))\n",
    "  mat2[i, ] <- mat[i, ]\n",
    "  netVisual_circle(mat2, vertex.weight = groupSize, weight.scale = T, edge.weight.max = max(mat), title.name = rownames(mat)[i])\n",
    "}"
   ]
  },
  {
   "cell_type": "code",
   "execution_count": null,
   "id": "b0decd11",
   "metadata": {},
   "outputs": [],
   "source": [
    "options(repr.plot.width=14,repr.plot.height=14)\n",
    "# show all the significant interactions (L-R pairs) from some cell groups (defined by 'sources.use') to other cell groups (defined by 'targets.use')\n",
    "netVisual_bubble(cellchat_pyloric,remove.isolate = FALSE)\n",
    "#> Comparing communications on a single object"
   ]
  },
  {
   "cell_type": "code",
   "execution_count": null,
   "id": "a7ca2db2",
   "metadata": {},
   "outputs": [],
   "source": [
    "options(repr.plot.width=7,repr.plot.height=7)\n",
    "pathways.show <- c(\"NRG\") \n",
    "# Circle plot\n",
    "par(mfrow=c(1,1))\n",
    "netVisual_aggregate(cellchat_pyloric, signaling = pathways.show, layout = \"circle\")"
   ]
  },
  {
   "cell_type": "code",
   "execution_count": null,
   "id": "c94fd121",
   "metadata": {},
   "outputs": [],
   "source": [
    "options(repr.plot.width=7,repr.plot.height=7)\n",
    "pathways.show <- c(\"WNT\") \n",
    "# Circle plot\n",
    "par(mfrow=c(1,1))\n",
    "netVisual_aggregate(cellchat_pyloric, signaling = pathways.show, layout = \"circle\")"
   ]
  },
  {
   "cell_type": "code",
   "execution_count": null,
   "id": "b71b08ac",
   "metadata": {},
   "outputs": [],
   "source": [
    "options(repr.plot.width=7,repr.plot.height=7)\n",
    "pathways.show <- c(\"ncWNT\") \n",
    "# Circle plot\n",
    "par(mfrow=c(1,1))\n",
    "netVisual_aggregate(cellchat_pyloric, signaling = pathways.show, layout = \"circle\")"
   ]
  },
  {
   "cell_type": "code",
   "execution_count": null,
   "id": "f428d42a",
   "metadata": {},
   "outputs": [],
   "source": [
    "options(repr.plot.width=7,repr.plot.height=7)\n",
    "pathways.show <- c(\"BMP\") \n",
    "# Circle plot\n",
    "par(mfrow=c(1,1))\n",
    "netVisual_aggregate(cellchat_pyloric, signaling = pathways.show, layout = \"circle\")"
   ]
  },
  {
   "cell_type": "code",
   "execution_count": null,
   "id": "50461808",
   "metadata": {},
   "outputs": [],
   "source": [
    "options(repr.plot.width=7,repr.plot.height=7)\n",
    "pathways.show <- c(\"TGFb\") \n",
    "# Circle plot\n",
    "par(mfrow=c(1,1))\n",
    "netVisual_aggregate(cellchat_pyloric, signaling = pathways.show, layout = \"circle\")"
   ]
  },
  {
   "cell_type": "code",
   "execution_count": null,
   "id": "eaaae967",
   "metadata": {},
   "outputs": [],
   "source": [
    "options(repr.plot.width=7,repr.plot.height=7)\n",
    "pathways.show <- c(\"EPHB\") \n",
    "# Circle plot\n",
    "par(mfrow=c(1,1))\n",
    "netVisual_aggregate(cellchat_pyloric, signaling = pathways.show, layout = \"circle\")"
   ]
  },
  {
   "cell_type": "code",
   "execution_count": null,
   "id": "c3781c9f",
   "metadata": {},
   "outputs": [],
   "source": [
    "options(repr.plot.width=7,repr.plot.height=7)\n",
    "pathways.show <- c(\"NOTCH\") \n",
    "# Circle plot\n",
    "par(mfrow=c(1,1))\n",
    "netVisual_aggregate(cellchat_pyloric, signaling = pathways.show, layout = \"circle\")"
   ]
  },
  {
   "cell_type": "code",
   "execution_count": null,
   "id": "da38c408",
   "metadata": {},
   "outputs": [],
   "source": [
    "cellchat <- netAnalysis_computeCentrality(cellchat_pyloric, slot.name = \"netP\") # the slot 'netP' means the inferred intercellular communication network of signaling pathways"
   ]
  },
  {
   "cell_type": "code",
   "execution_count": null,
   "id": "3e6522af",
   "metadata": {
    "tags": []
   },
   "outputs": [],
   "source": [
    "# Signaling role analysis on the aggregated cell-cell communication network from all signaling pathways\n",
    "options(repr.plot.width=24,repr.plot.height=24)\n",
    "ht1 <- netAnalysis_signalingRole_heatmap(cellchat_pyloric, pattern = \"outgoing\",width = 24,height = 24)"
   ]
  },
  {
   "cell_type": "code",
   "execution_count": null,
   "id": "3f98fc1f",
   "metadata": {
    "tags": []
   },
   "outputs": [],
   "source": [
    "# Signaling role analysis on the aggregated cell-cell communication network from all signaling pathways\n",
    "options(repr.plot.width=24,repr.plot.height=24)\n",
    "ht2 <- netAnalysis_signalingRole_heatmap(cellchat_pyloric, pattern = \"incoming\",width = 24,height = 24)"
   ]
  },
  {
   "cell_type": "code",
   "execution_count": null,
   "id": "14d4bc8e",
   "metadata": {},
   "outputs": [],
   "source": [
    "ht1"
   ]
  },
  {
   "cell_type": "code",
   "execution_count": null,
   "id": "4e080527",
   "metadata": {},
   "outputs": [],
   "source": [
    "ht2"
   ]
  },
  {
   "cell_type": "code",
   "execution_count": null,
   "id": "1e5caf8c",
   "metadata": {},
   "outputs": [],
   "source": [
    "# show all the significant interactions (L-R pairs) associated with certain signaling pathways\n",
    "options(repr.plot.width=5,repr.plot.height=5)\n",
    "netVisual_bubble(cellchat_pyloric, sources.use = c('NK'), targets.use = c('GKN+F','Foveolar','TA_Ent','Ent2','LEFTY1_epi'),  remove.isolate = FALSE)\n",
    "#> Comparing communications on a single object"
   ]
  },
  {
   "cell_type": "code",
   "execution_count": null,
   "id": "17ed6595",
   "metadata": {},
   "outputs": [],
   "source": [
    "# show all the significant interactions (L-R pairs) associated with certain signaling pathways\n",
    "options(repr.plot.width=10,repr.plot.height=10)\n",
    "netVisual_bubble(cellchat_pyloric, targets.use = c('OLFM4+Epi'),  remove.isolate = TRUE)\n",
    "#> Comparing communications on a single object"
   ]
  },
  {
   "cell_type": "code",
   "execution_count": null,
   "id": "d685053c",
   "metadata": {},
   "outputs": [],
   "source": [
    "# show all the significant interactions (L-R pairs) associated with certain signaling pathways\n",
    "options(repr.plot.width=10,repr.plot.height=10)\n",
    "netVisual_bubble(cellchat, targets.use = c('epi_ithmus'),  remove.isolate = TRUE)\n",
    "#> Comparing communications on a single object"
   ]
  },
  {
   "cell_type": "code",
   "execution_count": null,
   "id": "8ea98dc2",
   "metadata": {},
   "outputs": [],
   "source": [
    "unique(cellchat@DB$interaction$pathway_name)"
   ]
  },
  {
   "cell_type": "code",
   "execution_count": null,
   "id": "95557ac2",
   "metadata": {},
   "outputs": [],
   "source": [
    "cellchat@DB$interaction[cellchat@DB$interaction$pathway_name == 'TWEAK',]"
   ]
  },
  {
   "cell_type": "code",
   "execution_count": null,
   "id": "bc6b087b",
   "metadata": {
    "tags": []
   },
   "outputs": [],
   "source": [
    "cellchat@DB$interaction[cellchat@DB$interaction$pathway_name == 'WNT',]"
   ]
  },
  {
   "cell_type": "code",
   "execution_count": null,
   "id": "7ccec4bb",
   "metadata": {
    "tags": []
   },
   "outputs": [],
   "source": [
    "cellchat@DB$interaction[cellchat@DB$interaction$pathway_name == 'ncWNT',]"
   ]
  },
  {
   "cell_type": "code",
   "execution_count": null,
   "id": "b1b78a71",
   "metadata": {},
   "outputs": [],
   "source": [
    "pathways.show <- c(\"COLLAGEN\") \n",
    "# Circle plot\n",
    "options(repr.plot.width=14,repr.plot.height=14)\n",
    "par(mfrow=c(1,1))\n",
    "netVisual_aggregate(cellchat, signaling = pathways.show, layout = \"circle\")"
   ]
  },
  {
   "cell_type": "code",
   "execution_count": null,
   "id": "385b1487",
   "metadata": {},
   "outputs": [],
   "source": [
    "pathways.show <- c(\"PDGF\") \n",
    "# Circle plot\n",
    "par(mfrow=c(1,1))\n",
    "netVisual_aggregate(cellchat, signaling = pathways.show, layout = \"circle\")"
   ]
  },
  {
   "cell_type": "code",
   "execution_count": null,
   "id": "a7b29962",
   "metadata": {},
   "outputs": [],
   "source": [
    "lefty_id <- pDataDT(fov_join)$cell_ID[grepl('Pyloric-fov001',pDataDT(fov_join)$cell_ID) |\n",
    "                                     grepl('Pyloric-fov002',pDataDT(fov_join)$cell_ID) |\n",
    "                                     grepl('Pyloric-fov003',pDataDT(fov_join)$cell_ID) |\n",
    "                                     grepl('Fundic-fov020',pDataDT(fov_join)$cell_ID) |\n",
    "                                     grepl('Fundic-fov021',pDataDT(fov_join)$cell_ID) ]"
   ]
  },
  {
   "cell_type": "markdown",
   "id": "8c68607c",
   "metadata": {
    "tags": []
   },
   "source": [
    "# all dataset cellchat"
   ]
  },
  {
   "cell_type": "markdown",
   "id": "a232b718",
   "metadata": {
    "jp-MarkdownHeadingCollapsed": true,
    "tags": []
   },
   "source": [
    "#### cellchat準備"
   ]
  },
  {
   "cell_type": "code",
   "execution_count": null,
   "id": "55d60c58",
   "metadata": {},
   "outputs": [],
   "source": [
    "length(unique(pDataDT(fov_join)$new_clus))"
   ]
  },
  {
   "cell_type": "code",
   "execution_count": null,
   "id": "be3cc438",
   "metadata": {},
   "outputs": [],
   "source": [
    "library(Giotto)"
   ]
  },
  {
   "cell_type": "code",
   "execution_count": null,
   "id": "d17cede2",
   "metadata": {
    "tags": []
   },
   "outputs": [],
   "source": [
    "fov_join <- loadGiotto('saveGiottoDir_final_before_submission')"
   ]
  },
  {
   "cell_type": "code",
   "execution_count": null,
   "id": "60f852dd",
   "metadata": {},
   "outputs": [],
   "source": [
    "cluster_order = unique(fov_join@cell_metadata$cell$rna$cell_types)"
   ]
  },
  {
   "cell_type": "code",
   "execution_count": null,
   "id": "d8f2a41b",
   "metadata": {},
   "outputs": [],
   "source": [
    "cluster_order = sort(cluster_order)"
   ]
  },
  {
   "cell_type": "code",
   "execution_count": null,
   "id": "6a1b0062",
   "metadata": {},
   "outputs": [],
   "source": [
    "## add cell types ###\n",
    "cluster_order = sort(cluster_order)\n",
    "clusters_cell_types_lung = c('TA_Ent', 'ADH1+GKN1-F', 'pro_B-cell', 'B-cell',#a,ADH1+F,b,B-cell\n",
    "                             'Chief', 'CCL11+FB','Pyloric_deep','LEFTY1_epi', #c, CCL11+FB, chief, d\n",
    "                             'OLFM4+Epi','endothelial','Ent','Stromal', #e,endothelial,Ent,f\n",
    "                             'FibSmo','Ent2', #'FibSmo','g'\n",
    "                             'GKN+F', 'Gob', 'plasma', 'plasma', #'GKN+F', 'Gob', 'h', 'i'\n",
    "                             'Foveolar','KLF+FB',#j, KLF+FB\n",
    "                             \"macrophage\",\"mast\",\"mDC\",\"pericyte\",#\"macrophage\",\"mast\",\"mDC\",\"MFB\"\n",
    "                             'monocyte','NE1','NE2','neutrophil',\n",
    "                             'NK','PC','pDC','PDGFR+FB','PG/Neck1', 'PG/Neck2', 'plasma','pericyte_SM','T CD4 memory', 'T CD4 naive', 'T CD8 memory','T CD8 naive','Treg')\n",
    "\n",
    "names(clusters_cell_types_lung) = as.character(sort(cluster_order))"
   ]
  },
  {
   "cell_type": "code",
   "execution_count": null,
   "id": "d345ca41",
   "metadata": {},
   "outputs": [],
   "source": [
    "trans <- data.frame(\n",
    "    old = names(clusters_cell_types_lung),\n",
    "    new = clusters_cell_types_lung\n",
    "    )"
   ]
  },
  {
   "cell_type": "code",
   "execution_count": null,
   "id": "3a732458",
   "metadata": {},
   "outputs": [],
   "source": [
    "new_clus <- lapply(pDataDT(fov_join)$cell_types, function(x) {\n",
    "    as.vector(trans$new[match(x, trans$old)])\n",
    "    }\n",
    "       )"
   ]
  },
  {
   "cell_type": "code",
   "execution_count": null,
   "id": "11df7e91",
   "metadata": {},
   "outputs": [],
   "source": [
    "new_clus <- unlist(new_clus)"
   ]
  },
  {
   "cell_type": "code",
   "execution_count": null,
   "id": "cd091618",
   "metadata": {},
   "outputs": [],
   "source": [
    "fov_join <- addCellMetadata(fov_join, new_metadata = new_clus)"
   ]
  },
  {
   "cell_type": "code",
   "execution_count": null,
   "id": "567a80c5",
   "metadata": {},
   "outputs": [],
   "source": [
    "unique(pDataDT(fov_join)$new_clus)"
   ]
  },
  {
   "cell_type": "code",
   "execution_count": null,
   "id": "2b406e09",
   "metadata": {},
   "outputs": [],
   "source": [
    "#Set desired cell order\n",
    "cell.levels <- c(\"GKN+F\",\"Foveolar\", \"ADH1+GKN1-F\",\"PG/Neck1\",\"PG/Neck2\", \"Pyloric_deep\",\"Chief\", \"PC\",\n",
    "                \"Ent\", \"Ent2\",'Gob',\"TA_Ent\", \"OLFM4+Epi\",'LEFTY1_epi','NE1','NE2',\n",
    "                'T CD8 memory','T CD8 naive','T CD4 memory','T CD4 naive', \"Treg\",'NK',\n",
    "                 'B-cell','pro_B-cell','plasma',\n",
    "                \"KLF+FB\",\"PDGFR+FB\", 'pericyte',\"pericyte_SM\",\n",
    "                \"CCL11+FB\",\"FibSmo\", \"monocyte\",\"macrophage\",'neutrophil',\"mDC\",\"pDC\",\n",
    "                \"mast\", \"endothelial\",'Stromal'\n",
    "                )"
   ]
  },
  {
   "cell_type": "code",
   "execution_count": null,
   "id": "43d1175e",
   "metadata": {},
   "outputs": [],
   "source": [
    "library(CellChat)"
   ]
  },
  {
   "cell_type": "code",
   "execution_count": null,
   "id": "6088368e",
   "metadata": {},
   "outputs": [],
   "source": [
    "mucosa_ids <- pDataDT(fov_join)$cell_ID[\n",
    "    (pDataDT(fov_join)$Tissue_spatial_region != 'lymphoid follicule') &\n",
    "    (pDataDT(fov_join)$Tissue_spatial_region != 'Submucosa_deep') &\n",
    "    (pDataDT(fov_join)$Tissue_spatial_region != 'Muscle_layer')\n",
    "]"
   ]
  },
  {
   "cell_type": "code",
   "execution_count": null,
   "id": "17f4d408",
   "metadata": {},
   "outputs": [],
   "source": [
    "length(mucosa_ids)"
   ]
  },
  {
   "cell_type": "code",
   "execution_count": null,
   "id": "4f82801b",
   "metadata": {},
   "outputs": [],
   "source": [
    "ls()"
   ]
  },
  {
   "cell_type": "code",
   "execution_count": null,
   "id": "f9e09b23",
   "metadata": {},
   "outputs": [],
   "source": [
    "remove(smallfov,smallfov_sub,smallfov2,counts_fundic, counts_feat, counts_neg, counts_pyloric)"
   ]
  },
  {
   "cell_type": "code",
   "execution_count": null,
   "id": "879a1915",
   "metadata": {},
   "outputs": [],
   "source": [
    "remove(cosmx, count_replace, counts, counts_all, umaps)"
   ]
  },
  {
   "cell_type": "code",
   "execution_count": null,
   "id": "de64f4ab",
   "metadata": {},
   "outputs": [],
   "source": [
    "fov_join_mucosa <- subsetGiotto(fov_join, cell_ids = mucosa_ids)"
   ]
  },
  {
   "cell_type": "code",
   "execution_count": null,
   "id": "73ae5413",
   "metadata": {},
   "outputs": [],
   "source": [
    "data.input = get_expression_values(fov_join_mucosa)"
   ]
  },
  {
   "cell_type": "code",
   "execution_count": null,
   "id": "e4a9b4fe",
   "metadata": {},
   "outputs": [],
   "source": [
    "data.input = data.input@exprMat"
   ]
  },
  {
   "cell_type": "code",
   "execution_count": null,
   "id": "305c60a1",
   "metadata": {},
   "outputs": [],
   "source": [
    "dim(data.input)"
   ]
  },
  {
   "cell_type": "code",
   "execution_count": null,
   "id": "b6cd7c79",
   "metadata": {},
   "outputs": [],
   "source": [
    "meta = pDataDT(fov_join_mucosa)"
   ]
  },
  {
   "cell_type": "code",
   "execution_count": null,
   "id": "fe8bd8b4",
   "metadata": {},
   "outputs": [],
   "source": [
    "dim(meta)"
   ]
  },
  {
   "cell_type": "code",
   "execution_count": null,
   "id": "3deb10a2",
   "metadata": {},
   "outputs": [],
   "source": [
    "spatial.locs = fov_join_mucosa@spatial_locs$cell$raw"
   ]
  },
  {
   "cell_type": "code",
   "execution_count": null,
   "id": "047d2b17",
   "metadata": {},
   "outputs": [],
   "source": [
    "rownames(meta) <- meta$cell_ID"
   ]
  },
  {
   "cell_type": "code",
   "execution_count": null,
   "id": "978a7dcd",
   "metadata": {},
   "outputs": [],
   "source": [
    "head(meta)"
   ]
  },
  {
   "cell_type": "code",
   "execution_count": null,
   "id": "bef22e9d",
   "metadata": {},
   "outputs": [],
   "source": [
    "colnames(meta)"
   ]
  },
  {
   "cell_type": "code",
   "execution_count": null,
   "id": "02d5e492",
   "metadata": {},
   "outputs": [],
   "source": [
    "min(meta$Area)*0.18*0.18"
   ]
  },
  {
   "cell_type": "code",
   "execution_count": null,
   "id": "24ffa924",
   "metadata": {},
   "outputs": [],
   "source": [
    "min(meta$Height)"
   ]
  },
  {
   "cell_type": "code",
   "execution_count": null,
   "id": "c4e8beb6",
   "metadata": {},
   "outputs": [],
   "source": [
    "scale.factors = list(spot.diameter = 6.0264, spot = 6.0264)"
   ]
  },
  {
   "cell_type": "code",
   "execution_count": null,
   "id": "d900f087",
   "metadata": {},
   "outputs": [],
   "source": [
    "scale.factors"
   ]
  },
  {
   "cell_type": "code",
   "execution_count": null,
   "id": "6fb50510",
   "metadata": {},
   "outputs": [],
   "source": [
    "spatial.locs <- spatial.locs@coordinates"
   ]
  },
  {
   "cell_type": "code",
   "execution_count": null,
   "id": "c6a19b17",
   "metadata": {},
   "outputs": [],
   "source": [
    "spatial.locs <- as.data.frame(spatial.locs)"
   ]
  },
  {
   "cell_type": "code",
   "execution_count": null,
   "id": "d41fd000",
   "metadata": {},
   "outputs": [],
   "source": [
    "rownames(spatial.locs) <- spatial.locs$cell_ID"
   ]
  },
  {
   "cell_type": "code",
   "execution_count": null,
   "id": "42f15e95",
   "metadata": {},
   "outputs": [],
   "source": [
    "spatial.locs <- spatial.locs[,1:2]"
   ]
  },
  {
   "cell_type": "code",
   "execution_count": null,
   "id": "d8660d5e",
   "metadata": {},
   "outputs": [],
   "source": [
    "head(spatial.locs)"
   ]
  },
  {
   "cell_type": "code",
   "execution_count": null,
   "id": "9ad9b25a",
   "metadata": {},
   "outputs": [],
   "source": [
    "length(unique(meta$new_clus))"
   ]
  },
  {
   "cell_type": "code",
   "execution_count": null,
   "id": "ba948ae9",
   "metadata": {},
   "outputs": [],
   "source": [
    "length(cell.levels)"
   ]
  },
  {
   "cell_type": "code",
   "execution_count": null,
   "id": "c96f2e4a",
   "metadata": {},
   "outputs": [],
   "source": [
    "cellchat_all <- createCellChat(object = data.input, meta = meta, group.by = 'new_clus',\n",
    "                           datatype='spatial', coordinates = spatial.locs, scale.factors = scale.factors)"
   ]
  },
  {
   "cell_type": "code",
   "execution_count": null,
   "id": "a8366486",
   "metadata": {},
   "outputs": [],
   "source": [
    "options(stringsAsFactors = FALSE)\n",
    "interaction_input <- read.csv(file = './cellchat_database/interaction_input_CellChatDB_new.csv', row.names = 1)\n",
    "#complex_input <- read.csv(file = './cellchat_database/complex_input_new.csv', row.names = 1)\n",
    "#cofactor_input <- read.csv(file = './cellchat_database/cofactor_input_new.csv', row.names = 1)\n",
    "geneInfo <- read.csv(file = './cellchat_database/geneInfo_input_CellChatDB.csv', row.names = 1)"
   ]
  },
  {
   "cell_type": "code",
   "execution_count": null,
   "id": "b74331ea",
   "metadata": {},
   "outputs": [],
   "source": [
    "DB <- CellChatDB.human"
   ]
  },
  {
   "cell_type": "code",
   "execution_count": null,
   "id": "722b50bf",
   "metadata": {},
   "outputs": [],
   "source": [
    "CellChatDB <- list()\n",
    "CellChatDB$interaction <- interaction_input\n",
    "CellChatDB$complex <- DB$complex\n",
    "CellChatDB$cofactor <- DB$cofactor\n",
    "CellChatDB$geneInfo <- geneInfo"
   ]
  },
  {
   "cell_type": "code",
   "execution_count": null,
   "id": "257d88df",
   "metadata": {},
   "outputs": [],
   "source": [
    "CellChatDB.use <- CellChatDB # use Secreted Signaling\n",
    "# use all CellChatDB for cell-cell communication analysis\n",
    "# CellChatDB.use <- CellChatDB # simply use the default CellChatDB\n",
    "\n",
    "# set the used database in the object\n",
    "cellchat_all@DB <- CellChatDB.use"
   ]
  },
  {
   "cell_type": "markdown",
   "id": "c546805f",
   "metadata": {},
   "source": [
    "cellchat_all <- setIdent(cellchat_all, ident.use = \"new_clus\", levels = cell.levels)"
   ]
  },
  {
   "cell_type": "code",
   "execution_count": null,
   "id": "2c3c054e",
   "metadata": {},
   "outputs": [],
   "source": [
    "cellchat_all@idents <- factor(cellchat_all@idents, levels=cell.levels)"
   ]
  },
  {
   "cell_type": "code",
   "execution_count": null,
   "id": "16af1fc2",
   "metadata": {},
   "outputs": [],
   "source": [
    "unique(cellchat_all@idents)"
   ]
  },
  {
   "cell_type": "code",
   "execution_count": null,
   "id": "531b92ac",
   "metadata": {},
   "outputs": [],
   "source": [
    "# subset the expression data of signaling genes for saving computation cost\n",
    "cellchat_all <- subsetData(cellchat_all) # This step is necessary even if using the whole database\n",
    "future::plan(\"multiprocess\", workers = 1) # do parallel\n",
    "#> Warning: Strategy 'multiprocess' is deprecated in future (>= 1.20.0). Instead,\n",
    "#> explicitly specify either 'multisession' or 'multicore'. In the current R\n",
    "#> session, 'multiprocess' equals 'multisession'.\n",
    "#> Warning in supportsMulticoreAndRStudio(...): [ONE-TIME WARNING] Forked\n",
    "#> processing ('multicore') is not supported when running R from RStudio\n",
    "#> because it is considered unstable. For more details, how to control forked\n",
    "#> processing or not, and how to silence this warning in future R sessions, see ?\n",
    "#> parallelly::supportsMulticore\n",
    "cellchat_all <- suppressWarnings(identifyOverExpressedGenes(cellchat_all))\n",
    "cellchat_all <- suppressWarnings(identifyOverExpressedInteractions(cellchat_all))\n",
    " \n",
    "# project gene expression data onto PPI (Optional: when running it, USER should set `raw.use = FALSE` in the function `computeCommunProb()` in order to use the projected data)\n",
    "# cellchat <- projectData(cellchat, PPI.mouse)"
   ]
  },
  {
   "cell_type": "code",
   "execution_count": null,
   "id": "b7a7626b",
   "metadata": {},
   "outputs": [],
   "source": [
    "cellchat_all <- suppressWarnings(computeCommunProb(cellchat_all, type = \"truncatedMean\", trim = 0.1, \n",
    "                               distance.use = TRUE, interaction.length = 200, scale.distance = 0.1))"
   ]
  },
  {
   "cell_type": "code",
   "execution_count": null,
   "id": "78bc8025",
   "metadata": {},
   "outputs": [],
   "source": [
    "1"
   ]
  },
  {
   "cell_type": "code",
   "execution_count": null,
   "id": "0b3b23bb",
   "metadata": {},
   "outputs": [],
   "source": [
    "\n",
    "#> truncatedMean is used for calculating the average gene expression per cell group. \n",
    "#> [1] \">>> Run CellChat on spatial imaging data using distances as constraints <<< [2022-11-12 07:49:23]\"\n",
    "#> The suggested minimum value of scaled distances is in [1,2], and the calculated value here is  1.30553 \n",
    "#> [1] \">>> CellChat inference is done. Parameter values are stored in `object@options$parameter` <<< [2022-11-12 08:10:42]\"\n",
    "\n",
    "# Filter out the cell-cell communication if there are only few number of cells in certain cell groups\n",
    "cellchat_all <- suppressWarnings(filterCommunication(cellchat_all, min.cells = 10))"
   ]
  },
  {
   "cell_type": "code",
   "execution_count": null,
   "id": "fe4faa76",
   "metadata": {},
   "outputs": [],
   "source": [
    "cellchat_all <- computeCommunProbPathway(cellchat_all)"
   ]
  },
  {
   "cell_type": "code",
   "execution_count": null,
   "id": "27ee182b",
   "metadata": {},
   "outputs": [],
   "source": [
    "cellchat_all <- aggregateNet(cellchat_all)"
   ]
  },
  {
   "cell_type": "code",
   "execution_count": null,
   "id": "bbeb20aa",
   "metadata": {},
   "outputs": [],
   "source": [
    "cellchat_all"
   ]
  },
  {
   "cell_type": "code",
   "execution_count": null,
   "id": "7aacffbb",
   "metadata": {
    "tags": []
   },
   "outputs": [],
   "source": [
    "head(cellchat_all@images)"
   ]
  },
  {
   "cell_type": "code",
   "execution_count": null,
   "id": "e560461e",
   "metadata": {},
   "outputs": [],
   "source": [
    "options(repr.plot.width=14, repr.plot.height=14)\n",
    "groupSize <- as.numeric(table(cellchat_all@idents))\n",
    "par(mfrow = c(1,2), xpd=TRUE)\n",
    "netVisual_circle(cellchat_all@net$count, vertex.weight = rowSums(cellchat_all@net$count), weight.scale = T, \n",
    "                 label.edge= F, title.name = \"Number of interactions\",vertex.label.cex = 0.45)\n",
    "netVisual_circle(cellchat_all@net$weight, vertex.weight = rowSums(cellchat_all@net$weight),\n",
    "                 weight.scale = T, label.edge= F, title.name = \"Interaction weights/strength\",\n",
    "                vertex.label.cex = 0.45)"
   ]
  },
  {
   "cell_type": "code",
   "execution_count": null,
   "id": "54fe2c72",
   "metadata": {},
   "outputs": [],
   "source": [
    "# Compute the network centrality scores\n",
    "cellchat_all <- netAnalysis_computeCentrality(cellchat_all, slot.name = \"netP\") # the slot 'netP' means the inferred intercellular communication network of signaling pathways"
   ]
  },
  {
   "cell_type": "code",
   "execution_count": null,
   "id": "5c13d0a3",
   "metadata": {},
   "outputs": [],
   "source": [
    "saveRDS(cellchat_all, file = \"cellchat_cosmx_all.rds\")"
   ]
  },
  {
   "cell_type": "code",
   "execution_count": null,
   "id": "5efea4c7",
   "metadata": {},
   "outputs": [],
   "source": []
  },
  {
   "cell_type": "markdown",
   "id": "f0300850",
   "metadata": {
    "tags": []
   },
   "source": [
    "# all dataset cellchat, replacing expression matrix to scRNAseq"
   ]
  },
  {
   "cell_type": "markdown",
   "id": "52123acf",
   "metadata": {
    "jp-MarkdownHeadingCollapsed": true,
    "tags": []
   },
   "source": [
    "#### cellchat準備"
   ]
  },
  {
   "cell_type": "markdown",
   "id": "cd2d8c54",
   "metadata": {
    "jp-MarkdownHeadingCollapsed": true,
    "tags": []
   },
   "source": [
    "#### calculate the representative gene expression value for each cluster"
   ]
  },
  {
   "cell_type": "code",
   "execution_count": null,
   "id": "b4293f4a",
   "metadata": {},
   "outputs": [],
   "source": [
    "library(Seurat)"
   ]
  },
  {
   "cell_type": "code",
   "execution_count": null,
   "id": "cf28ec68",
   "metadata": {},
   "outputs": [],
   "source": [
    "epi <- readRDS('./for_analysis/論文用再検討/修正/data_9_99_monocle3_seurat_epi.rds')"
   ]
  },
  {
   "cell_type": "code",
   "execution_count": null,
   "id": "8305902a",
   "metadata": {},
   "outputs": [],
   "source": [
    "fb <- readRDS('./for_analysis/論文用再検討/修正/data_9_3_annotated_fibroblasts.rds')"
   ]
  },
  {
   "cell_type": "code",
   "execution_count": null,
   "id": "9965ebd5",
   "metadata": {},
   "outputs": [],
   "source": [
    "mp <- readRDS('./for_analysis/論文用再検討/修正/data_9_2_annotated_macrophage.rds')"
   ]
  },
  {
   "cell_type": "code",
   "execution_count": null,
   "id": "26df1be1",
   "metadata": {},
   "outputs": [],
   "source": [
    "mp <- subset(mp, idents='monocyte')"
   ]
  },
  {
   "cell_type": "code",
   "execution_count": null,
   "id": "45d848af",
   "metadata": {},
   "outputs": [],
   "source": [
    "unique(Idents(epi))"
   ]
  },
  {
   "cell_type": "markdown",
   "id": "206e8d59",
   "metadata": {
    "jp-MarkdownHeadingCollapsed": true,
    "tags": []
   },
   "source": [
    "# 上皮"
   ]
  },
  {
   "cell_type": "code",
   "execution_count": null,
   "id": "a0552be5",
   "metadata": {},
   "outputs": [],
   "source": [
    "Chief <- subset(epi, idents = 'Chief')"
   ]
  },
  {
   "cell_type": "code",
   "execution_count": null,
   "id": "bf424a03",
   "metadata": {},
   "outputs": [],
   "source": [
    "PGneck1 <- subset(epi, idents = 'PG/Neck1')"
   ]
  },
  {
   "cell_type": "code",
   "execution_count": null,
   "id": "2e47ebd3",
   "metadata": {},
   "outputs": [],
   "source": [
    "PGneck2 <- subset(epi, idents = 'PG/Neck2')"
   ]
  },
  {
   "cell_type": "code",
   "execution_count": null,
   "id": "7a3a7d42",
   "metadata": {},
   "outputs": [],
   "source": [
    "GKNF <- subset(epi, idents = 'GKN+F')"
   ]
  },
  {
   "cell_type": "code",
   "execution_count": null,
   "id": "0ea57311",
   "metadata": {},
   "outputs": [],
   "source": [
    "PC <- subset(epi, idents = 'PC')"
   ]
  },
  {
   "cell_type": "code",
   "execution_count": null,
   "id": "09a9a0de",
   "metadata": {},
   "outputs": [],
   "source": [
    "Pr_epi <- subset(epi, idents = 'Pr_epi')"
   ]
  },
  {
   "cell_type": "code",
   "execution_count": null,
   "id": "8e13b138",
   "metadata": {},
   "outputs": [],
   "source": [
    "ADH1GKN1F <- subset(epi, idents = 'ADH1+GKN1-F')"
   ]
  },
  {
   "cell_type": "code",
   "execution_count": null,
   "id": "09cc6d3e",
   "metadata": {},
   "outputs": [],
   "source": [
    "NE2 <- subset(epi, idents = 'NE2')"
   ]
  },
  {
   "cell_type": "code",
   "execution_count": null,
   "id": "df54a735",
   "metadata": {},
   "outputs": [],
   "source": [
    "NE1 <- subset(epi, idents = 'NE1')"
   ]
  },
  {
   "cell_type": "code",
   "execution_count": null,
   "id": "9e620c4d",
   "metadata": {},
   "outputs": [],
   "source": [
    "Ent <- subset(epi, idents = 'Ent')"
   ]
  },
  {
   "cell_type": "code",
   "execution_count": null,
   "id": "96d94f08",
   "metadata": {},
   "outputs": [],
   "source": [
    "Gob <- subset(epi, idents = 'Gob')"
   ]
  },
  {
   "cell_type": "code",
   "execution_count": null,
   "id": "d5a297ca",
   "metadata": {},
   "outputs": [],
   "source": [
    "LEFTY1ADHF <- subset(epi, idents = 'LEFTY1+ADH+F')"
   ]
  },
  {
   "cell_type": "code",
   "execution_count": null,
   "id": "cfc4ff7c",
   "metadata": {},
   "outputs": [],
   "source": [
    "LEFTY1pgneck <- subset(epi, idents = 'LEFTY1+PG/Neck')"
   ]
  },
  {
   "cell_type": "code",
   "execution_count": null,
   "id": "33ff9385",
   "metadata": {
    "tags": []
   },
   "outputs": [],
   "source": [
    "EM <- function(vector){\n",
    "    return(as.numeric(1/2 * vector[3] + 1/4 * (vector[1] + vector[4])))\n",
    "    }"
   ]
  },
  {
   "cell_type": "code",
   "execution_count": null,
   "id": "b97834c2",
   "metadata": {},
   "outputs": [],
   "source": [
    "calc_EM <- function(cluster){\n",
    "    x <- apply(cluster@assays$RNA@counts,1,quantile)\n",
    "    y <- t(apply(x,2,EM))\n",
    "    rownames(y) <- deparse(substitute(cluster))\n",
    "    return (t(y))\n",
    "    }"
   ]
  },
  {
   "cell_type": "code",
   "execution_count": null,
   "id": "eaa32742",
   "metadata": {},
   "outputs": [],
   "source": [
    "z <- calc_EM(Chief)"
   ]
  },
  {
   "cell_type": "code",
   "execution_count": null,
   "id": "7ccd364f",
   "metadata": {},
   "outputs": [],
   "source": [
    "cluster_name <- c('Chief','PGneck1','PGneck2','GKNF','PC',\n",
    "                 'Pr_epi','ADH1GKN1F','NE2','NE1','Ent','Gob','LEFTY1ADHF','LEFTY1pgneck')"
   ]
  },
  {
   "cell_type": "code",
   "execution_count": null,
   "id": "f242ca88",
   "metadata": {},
   "outputs": [],
   "source": [
    "for (i in 2:length(cluster_name)){\n",
    "    z <- cbind(z, calc_EM(get(cluster_name[i])))\n",
    "    colnames(z)[i] <- cluster_name[i]\n",
    "    }"
   ]
  },
  {
   "cell_type": "code",
   "execution_count": null,
   "id": "5aac7b62",
   "metadata": {},
   "outputs": [],
   "source": [
    "z4 <- calc_EM(mp)"
   ]
  },
  {
   "cell_type": "code",
   "execution_count": null,
   "id": "a8149716",
   "metadata": {},
   "outputs": [],
   "source": [
    "colnames(z4) <- 'macrophage'"
   ]
  },
  {
   "cell_type": "markdown",
   "id": "ee9121c7",
   "metadata": {
    "jp-MarkdownHeadingCollapsed": true,
    "tags": []
   },
   "source": [
    "# Fibro"
   ]
  },
  {
   "cell_type": "code",
   "execution_count": null,
   "id": "f474755f",
   "metadata": {},
   "outputs": [],
   "source": [
    "unique(Idents(fb))"
   ]
  },
  {
   "cell_type": "code",
   "execution_count": null,
   "id": "dc3e9178",
   "metadata": {},
   "outputs": [],
   "source": [
    "FB.data <- fb@assays$RNA@counts"
   ]
  },
  {
   "cell_type": "code",
   "execution_count": null,
   "id": "63fdbbf0",
   "metadata": {},
   "outputs": [],
   "source": [
    "PDGFR <- subset(fb, idents = 'PDGFR+FB')"
   ]
  },
  {
   "cell_type": "code",
   "execution_count": null,
   "id": "01964ca7",
   "metadata": {},
   "outputs": [],
   "source": [
    "CCL11 <- subset(fb, idents = 'CCL11+FB')"
   ]
  },
  {
   "cell_type": "code",
   "execution_count": null,
   "id": "f8ab5451",
   "metadata": {},
   "outputs": [],
   "source": [
    "FibSmo <- subset(fb, idents = 'FibSmo')"
   ]
  },
  {
   "cell_type": "code",
   "execution_count": null,
   "id": "87c458d0",
   "metadata": {},
   "outputs": [],
   "source": [
    "z2 <- calc_EM(PDGFR)"
   ]
  },
  {
   "cell_type": "code",
   "execution_count": null,
   "id": "755650a2",
   "metadata": {},
   "outputs": [],
   "source": [
    "cluster_name2 <- c('PDGFR','CCL11','FibSmo')"
   ]
  },
  {
   "cell_type": "code",
   "execution_count": null,
   "id": "9bcde9ed",
   "metadata": {},
   "outputs": [],
   "source": [
    "for (i in 2:length(cluster_name2)){\n",
    "    z2 <- cbind(z2, calc_EM(get(cluster_name2[i])))\n",
    "    colnames(z2)[i] <- cluster_name2[i]\n",
    "    }"
   ]
  },
  {
   "cell_type": "code",
   "execution_count": null,
   "id": "96e570c6",
   "metadata": {},
   "outputs": [],
   "source": [
    "colnames(z2) <- c('PDGFR+FB','CCL11+FB','FibSmo')"
   ]
  },
  {
   "cell_type": "code",
   "execution_count": null,
   "id": "2a4a2910",
   "metadata": {},
   "outputs": [],
   "source": [
    "head(z2)"
   ]
  },
  {
   "cell_type": "code",
   "execution_count": null,
   "id": "8c61af21",
   "metadata": {},
   "outputs": [],
   "source": [
    "head(z)"
   ]
  },
  {
   "cell_type": "code",
   "execution_count": null,
   "id": "c77b27f9",
   "metadata": {},
   "outputs": [],
   "source": [
    "unique(Idents(epi))"
   ]
  },
  {
   "cell_type": "code",
   "execution_count": null,
   "id": "776b3853",
   "metadata": {},
   "outputs": [],
   "source": [
    "colnames(z) <- c('Chief','PG/Neck1','PG/Neck2','GKN+F','PC',\n",
    "                 'Pr_epi','ADH1+GKN1-F','NE2','NE1','Ent','Gob','LEFTY1+ADH+F','LEFTY1+PG/Neck')"
   ]
  },
  {
   "cell_type": "code",
   "execution_count": null,
   "id": "97637204",
   "metadata": {},
   "outputs": [],
   "source": [
    "library(Giotto)"
   ]
  },
  {
   "cell_type": "code",
   "execution_count": null,
   "id": "56d6ee1c",
   "metadata": {
    "tags": []
   },
   "outputs": [],
   "source": [
    "fov_join <- loadGiotto('saveGiottoDir_final_before_submission')"
   ]
  },
  {
   "cell_type": "code",
   "execution_count": null,
   "id": "7209aedd",
   "metadata": {},
   "outputs": [],
   "source": [
    "cluster_order = unique(fov_join@cell_metadata$cell$rna$cell_types)"
   ]
  },
  {
   "cell_type": "code",
   "execution_count": null,
   "id": "95fd52f2",
   "metadata": {},
   "outputs": [],
   "source": [
    "cluster_order = sort(cluster_order)"
   ]
  },
  {
   "cell_type": "code",
   "execution_count": null,
   "id": "26ce1b6c",
   "metadata": {},
   "outputs": [],
   "source": [
    "unique(cluster_order)"
   ]
  },
  {
   "cell_type": "code",
   "execution_count": null,
   "id": "5e98067e",
   "metadata": {},
   "outputs": [],
   "source": [
    "## add cell types ###\n",
    "cluster_order = sort(cluster_order)\n",
    "clusters_cell_types_lung = c('Ent', 'ADH1+GKN1-F', 'pro_B-cell', 'B-cell',#a,ADH1+F,b,B-cell\n",
    "                             'Chief', 'CCL11+FB','PG/Neck2','LEFTY1+PG/Neck', #c, CCL11+FB, chief, d\n",
    "                             'LEFTY1+ADH+F','endothelial','Ent','Stromal', #e,endothelial,Ent,f\n",
    "                             'FibSmo','Ent', #'FibSmo','g'\n",
    "                             'GKN+F', 'Gob', 'plasma', 'plasma', #'GKN+F', 'Gob', 'h', 'i'\n",
    "                             'GKN+F','KLF+FB',#j, KLF+FB\n",
    "                             \"macrophage\",\"mast\",\"mDC\",\"pericyte\",#\"macrophage\",\"mast\",\"mDC\",\"MFB\"\n",
    "                             'monocyte','NE1','NE2','neutrophil',\n",
    "                             'NK','PC','pDC','PDGFR+FB','PG/Neck1', 'PG/Neck2', 'plasma','pericyte_SM','T CD4 memory', 'T CD4 naive', 'T CD8 memory','T CD8 naive','Treg')\n",
    "\n",
    "names(clusters_cell_types_lung) = as.character(sort(cluster_order))"
   ]
  },
  {
   "cell_type": "code",
   "execution_count": null,
   "id": "e05acd72",
   "metadata": {},
   "outputs": [],
   "source": [
    "trans <- data.frame(\n",
    "    old = names(clusters_cell_types_lung),\n",
    "    new = clusters_cell_types_lung\n",
    "    )"
   ]
  },
  {
   "cell_type": "code",
   "execution_count": null,
   "id": "b3e9cb06",
   "metadata": {},
   "outputs": [],
   "source": [
    "new_clus <- lapply(pDataDT(fov_join)$cell_types, function(x) {\n",
    "    as.vector(trans$new[match(x, trans$old)])\n",
    "    }\n",
    "       )"
   ]
  },
  {
   "cell_type": "code",
   "execution_count": null,
   "id": "c793c455",
   "metadata": {},
   "outputs": [],
   "source": [
    "new_clus <- unlist(new_clus)"
   ]
  },
  {
   "cell_type": "code",
   "execution_count": null,
   "id": "56ebeb1f",
   "metadata": {},
   "outputs": [],
   "source": [
    "fov_join <- addCellMetadata(fov_join, new_metadata = new_clus)"
   ]
  },
  {
   "cell_type": "code",
   "execution_count": null,
   "id": "9e47fb29",
   "metadata": {},
   "outputs": [],
   "source": [
    "unique(pDataDT(fov_join)$new_clus)"
   ]
  },
  {
   "cell_type": "code",
   "execution_count": null,
   "id": "c3881520",
   "metadata": {},
   "outputs": [],
   "source": [
    "#Set desired cell order\n",
    "cell.levels <- c(\"GKN+F\", \"ADH1+GKN1-F\",\"PG/Neck1\",\"PG/Neck2\",\"Chief\", \"PC\",\n",
    "                \"Ent\",'Gob',\"LEFTY1+ADH+F\",'LEFTY1+PG/Neck','NE1','NE2',\n",
    "                 \"PDGFR+FB\",\"CCL11+FB\",\"FibSmo\",'macrophage'\n",
    "                )"
   ]
  },
  {
   "cell_type": "code",
   "execution_count": null,
   "id": "77d87f12",
   "metadata": {},
   "outputs": [],
   "source": [
    "epi_fb <- pDataDT(fov_join)$cell_ID[\n",
    "    (pDataDT(fov_join)$new_clus == 'GKN+F') |\n",
    "    (pDataDT(fov_join)$new_clus == 'ADH1+GKN1-F') |\n",
    "    (pDataDT(fov_join)$new_clus == 'PG/Neck1') |\n",
    "    (pDataDT(fov_join)$new_clus == 'PG/Neck2') |\n",
    "        (pDataDT(fov_join)$new_clus == 'Chief') |\n",
    "        (pDataDT(fov_join)$new_clus == 'PC') |\n",
    "        (pDataDT(fov_join)$new_clus == 'Ent') |\n",
    "        (pDataDT(fov_join)$new_clus == 'Gob') |\n",
    "        (pDataDT(fov_join)$new_clus == 'LEFTY1+ADH+F') |\n",
    "        (pDataDT(fov_join)$new_clus == 'LEFTY1+PG/Neck') |\n",
    "        (pDataDT(fov_join)$new_clus == 'NE1') |\n",
    "            (pDataDT(fov_join)$new_clus == 'NE2') |\n",
    "            (pDataDT(fov_join)$new_clus == 'PDGFR+FB') |\n",
    "            (pDataDT(fov_join)$new_clus == 'CCL11+FB') |\n",
    "            (pDataDT(fov_join)$new_clus == 'FibSmo') |\n",
    "                (pDataDT(fov_join)$new_clus == 'macrophage')\n",
    "]"
   ]
  },
  {
   "cell_type": "code",
   "execution_count": null,
   "id": "cca1c076",
   "metadata": {},
   "outputs": [],
   "source": [
    "fov_join <- subsetGiotto(fov_join, cell_ids = epi_fb)"
   ]
  },
  {
   "cell_type": "code",
   "execution_count": null,
   "id": "8900a089",
   "metadata": {
    "tags": []
   },
   "outputs": [],
   "source": [
    "library(CellChat)"
   ]
  },
  {
   "cell_type": "code",
   "execution_count": null,
   "id": "ec7d8308",
   "metadata": {},
   "outputs": [],
   "source": [
    "mucosa_ids <- pDataDT(fov_join)$cell_ID[\n",
    "    (pDataDT(fov_join)$Tissue_spatial_region != 'lymphoid follicule') &\n",
    "    (pDataDT(fov_join)$Tissue_spatial_region != 'Submucosa_deep') &\n",
    "    (pDataDT(fov_join)$Tissue_spatial_region != 'Muscle_layer')\n",
    "]"
   ]
  },
  {
   "cell_type": "code",
   "execution_count": null,
   "id": "8daf728f",
   "metadata": {},
   "outputs": [],
   "source": [
    "length(mucosa_ids)"
   ]
  },
  {
   "cell_type": "code",
   "execution_count": null,
   "id": "d9f024e4",
   "metadata": {},
   "outputs": [],
   "source": [
    "ls()"
   ]
  },
  {
   "cell_type": "code",
   "execution_count": null,
   "id": "a8fb78b6",
   "metadata": {},
   "outputs": [],
   "source": [
    "remove(smallfov,smallfov_sub,smallfov2,counts_fundic, counts_feat, counts_neg, counts_pyloric)"
   ]
  },
  {
   "cell_type": "code",
   "execution_count": null,
   "id": "864a3532",
   "metadata": {},
   "outputs": [],
   "source": [
    "remove(cosmx, count_replace, counts, counts_all, umaps)"
   ]
  },
  {
   "cell_type": "code",
   "execution_count": null,
   "id": "ba377dfe",
   "metadata": {},
   "outputs": [],
   "source": [
    "fov_join_mucosa <- subsetGiotto(fov_join, cell_ids = mucosa_ids)"
   ]
  },
  {
   "cell_type": "code",
   "execution_count": null,
   "id": "b9e419e8",
   "metadata": {},
   "outputs": [],
   "source": [
    "z3 <- cbind(z,z2,z4)"
   ]
  },
  {
   "cell_type": "code",
   "execution_count": null,
   "id": "916c23af",
   "metadata": {},
   "outputs": [],
   "source": [
    "head(z3)"
   ]
  },
  {
   "cell_type": "code",
   "execution_count": null,
   "id": "806b1784",
   "metadata": {},
   "outputs": [],
   "source": [
    "data.input = get_expression_values(fov_join_mucosa)"
   ]
  },
  {
   "cell_type": "code",
   "execution_count": null,
   "id": "d0754ace",
   "metadata": {},
   "outputs": [],
   "source": [
    "data.input = data.input@exprMat"
   ]
  },
  {
   "cell_type": "code",
   "execution_count": null,
   "id": "bd17e498",
   "metadata": {},
   "outputs": [],
   "source": [
    "dim(data.input)"
   ]
  },
  {
   "cell_type": "code",
   "execution_count": null,
   "id": "ce703711",
   "metadata": {},
   "outputs": [],
   "source": [
    "meta = pDataDT(fov_join_mucosa)"
   ]
  },
  {
   "cell_type": "code",
   "execution_count": null,
   "id": "9a876377",
   "metadata": {},
   "outputs": [],
   "source": [
    "dim(meta)"
   ]
  },
  {
   "cell_type": "code",
   "execution_count": null,
   "id": "b1a0030f",
   "metadata": {},
   "outputs": [],
   "source": [
    "spatial.locs = fov_join_mucosa@spatial_locs$cell$raw"
   ]
  },
  {
   "cell_type": "code",
   "execution_count": null,
   "id": "0b12ddba",
   "metadata": {},
   "outputs": [],
   "source": [
    "rownames(meta) <- meta$cell_ID"
   ]
  },
  {
   "cell_type": "code",
   "execution_count": null,
   "id": "93094faa",
   "metadata": {},
   "outputs": [],
   "source": [
    "head(meta)"
   ]
  },
  {
   "cell_type": "code",
   "execution_count": null,
   "id": "29da1799",
   "metadata": {},
   "outputs": [],
   "source": [
    "colnames(meta)"
   ]
  },
  {
   "cell_type": "code",
   "execution_count": null,
   "id": "3c33fe10",
   "metadata": {},
   "outputs": [],
   "source": [
    "min(meta$Area)*0.18*0.18"
   ]
  },
  {
   "cell_type": "code",
   "execution_count": null,
   "id": "77ab83be",
   "metadata": {},
   "outputs": [],
   "source": [
    "min(meta$Height)"
   ]
  },
  {
   "cell_type": "code",
   "execution_count": null,
   "id": "5180adf9",
   "metadata": {},
   "outputs": [],
   "source": [
    "scale.factors = list(spot.diameter = 6.0264, spot = 6.0264)"
   ]
  },
  {
   "cell_type": "code",
   "execution_count": null,
   "id": "7e492b32",
   "metadata": {},
   "outputs": [],
   "source": [
    "scale.factors"
   ]
  },
  {
   "cell_type": "code",
   "execution_count": null,
   "id": "7dde6865",
   "metadata": {},
   "outputs": [],
   "source": [
    "spatial.locs <- spatial.locs@coordinates"
   ]
  },
  {
   "cell_type": "code",
   "execution_count": null,
   "id": "75ffefce",
   "metadata": {},
   "outputs": [],
   "source": [
    "spatial.locs <- as.data.frame(spatial.locs)"
   ]
  },
  {
   "cell_type": "code",
   "execution_count": null,
   "id": "1a9356a0",
   "metadata": {},
   "outputs": [],
   "source": [
    "rownames(spatial.locs) <- spatial.locs$cell_ID"
   ]
  },
  {
   "cell_type": "code",
   "execution_count": null,
   "id": "fb665b3d",
   "metadata": {},
   "outputs": [],
   "source": [
    "spatial.locs <- spatial.locs[,1:2]"
   ]
  },
  {
   "cell_type": "code",
   "execution_count": null,
   "id": "a31257e8",
   "metadata": {},
   "outputs": [],
   "source": [
    "head(spatial.locs)"
   ]
  },
  {
   "cell_type": "code",
   "execution_count": null,
   "id": "62cc722b",
   "metadata": {},
   "outputs": [],
   "source": [
    "length(unique(meta$new_clus))"
   ]
  },
  {
   "cell_type": "code",
   "execution_count": null,
   "id": "9000920c",
   "metadata": {},
   "outputs": [],
   "source": [
    "length(cell.levels)"
   ]
  },
  {
   "cell_type": "code",
   "execution_count": null,
   "id": "71eaed1a",
   "metadata": {},
   "outputs": [],
   "source": [
    "cell.levels"
   ]
  },
  {
   "cell_type": "markdown",
   "id": "e383ae38",
   "metadata": {},
   "source": [
    "#### data.inputの発現行列をseuratの代表値に置き換えたい"
   ]
  },
  {
   "cell_type": "code",
   "execution_count": null,
   "id": "e5658faa",
   "metadata": {},
   "outputs": [],
   "source": [
    "head(data.input)"
   ]
  },
  {
   "cell_type": "code",
   "execution_count": null,
   "id": "ea973cf3",
   "metadata": {},
   "outputs": [],
   "source": [
    "head(colnames(data.input))"
   ]
  },
  {
   "cell_type": "code",
   "execution_count": null,
   "id": "d17e7d77",
   "metadata": {},
   "outputs": [],
   "source": [
    "# Create dictionary of cellType by cellID\n",
    "cell_dict <- as.list(meta$new_clus)\n",
    "names(cell_dict) <- meta$cell_ID"
   ]
  },
  {
   "cell_type": "code",
   "execution_count": null,
   "id": "777ac8d6",
   "metadata": {},
   "outputs": [],
   "source": [
    "unique(cell_dict)"
   ]
  },
  {
   "cell_type": "code",
   "execution_count": null,
   "id": "c8902105",
   "metadata": {},
   "outputs": [],
   "source": [
    "z3 <- as.data.frame(z3)"
   ]
  },
  {
   "cell_type": "markdown",
   "id": "cf15e534",
   "metadata": {},
   "source": [
    "test <- matrix(rep(z3$`CCL11+FB`, times=dim(data.input[,colnames(data.input) %in% names(cell_dict)[cell_dict == \"CCL11+FB\"]])[2]), \n",
    "       nrow=dim(data.input[,colnames(data.input) %in% names(cell_dict)[cell_dict == \"CCL11+FB\"]])[2],\n",
    "       ncol=length(z3$`CCL11+FB`), byrow=TRUE)"
   ]
  },
  {
   "cell_type": "markdown",
   "id": "f418ca1a",
   "metadata": {
    "tags": []
   },
   "source": [
    "head(colnames(data.input[,colnames(data.input) %in% names(cell_dict)[cell_dict == \"CCL11+FB\"]]))"
   ]
  },
  {
   "cell_type": "markdown",
   "id": "ac63e9ac",
   "metadata": {},
   "source": [
    "rownames(test) <- colnames(data.input[,colnames(data.input) %in% names(cell_dict)[cell_dict == \"CCL11+FB\"]])"
   ]
  },
  {
   "cell_type": "markdown",
   "id": "97358c99",
   "metadata": {},
   "source": [
    "colnames(test) <- rownames(z3)"
   ]
  },
  {
   "cell_type": "code",
   "execution_count": null,
   "id": "fdb7f338",
   "metadata": {},
   "outputs": [],
   "source": [
    "# Create an empty list to store the test matrices\n",
    "test_list <- c()\n",
    "\n",
    "# Loop through the column names of z3\n",
    "for(col_name in colnames(z3)) {\n",
    "  # Get the corresponding cell type from cell_dict\n",
    "  cell_type <- cell_dict[col_name]\n",
    "  \n",
    "  # Get the subset of data.input that corresponds to the current cell type\n",
    "  data_subset <- data.input[,colnames(data.input) %in% names(cell_dict)[cell_dict == col_name]]\n",
    "  \n",
    "  # Create the test matrix for the current column of z3\n",
    "  test <- matrix(rep(z3[,col_name], times=dim(data_subset)[2]), \n",
    "                 nrow=dim(data_subset)[2],\n",
    "                 ncol=length(z3[,col_name]), byrow=TRUE)\n",
    "  \n",
    "  # Set the row names and column names of the test matrix\n",
    "  rownames(test) <- colnames(data_subset)\n",
    "  colnames(test) <- rownames(z3)\n",
    "  \n",
    "  # Add the test matrix to the test_list\n",
    "  test_list <- rbind(test_list, test)\n",
    "}"
   ]
  },
  {
   "cell_type": "code",
   "execution_count": null,
   "id": "d8a63d0d",
   "metadata": {},
   "outputs": [],
   "source": [
    "head(colnames(data.input))"
   ]
  },
  {
   "cell_type": "code",
   "execution_count": null,
   "id": "861d753f",
   "metadata": {},
   "outputs": [],
   "source": [
    "test_list <- t(test_list)"
   ]
  },
  {
   "cell_type": "code",
   "execution_count": null,
   "id": "5cfcff4b",
   "metadata": {},
   "outputs": [],
   "source": [
    "test_list <- test_list[,colnames(data.input)]"
   ]
  },
  {
   "cell_type": "code",
   "execution_count": null,
   "id": "8c3a1b5d",
   "metadata": {},
   "outputs": [],
   "source": [
    "library(Matrix)"
   ]
  },
  {
   "cell_type": "code",
   "execution_count": null,
   "id": "87de06f0",
   "metadata": {},
   "outputs": [],
   "source": [
    "test_list <- Matrix(test_list, sparse=TRUE)"
   ]
  },
  {
   "cell_type": "code",
   "execution_count": null,
   "id": "cd6314d7",
   "metadata": {},
   "outputs": [],
   "source": [
    "head(test_list)"
   ]
  },
  {
   "cell_type": "code",
   "execution_count": null,
   "id": "1a522893",
   "metadata": {},
   "outputs": [],
   "source": [
    "head(data.input)"
   ]
  },
  {
   "cell_type": "code",
   "execution_count": null,
   "id": "f3eecc0a",
   "metadata": {},
   "outputs": [],
   "source": [
    "cellchat_all <- createCellChat(object = test_list, meta = meta, group.by = 'new_clus',\n",
    "                           datatype='spatial', coordinates = spatial.locs, scale.factors = scale.factors)"
   ]
  },
  {
   "cell_type": "code",
   "execution_count": null,
   "id": "88a3eef1",
   "metadata": {},
   "outputs": [],
   "source": [
    "options(stringsAsFactors = FALSE)\n",
    "interaction_input <- read.csv(file = './cellchat_database/interaction_input_CellChatDB_new.csv', row.names = 1)\n",
    "#complex_input <- read.csv(file = './cellchat_database/complex_input_new.csv', row.names = 1)\n",
    "#cofactor_input <- read.csv(file = './cellchat_database/cofactor_input_new.csv', row.names = 1)\n",
    "geneInfo <- read.csv(file = './cellchat_database/geneInfo_input_CellChatDB.csv', row.names = 1)"
   ]
  },
  {
   "cell_type": "code",
   "execution_count": null,
   "id": "96aaff3b",
   "metadata": {},
   "outputs": [],
   "source": [
    "CellChatDB <- CellChatDB.human"
   ]
  },
  {
   "cell_type": "markdown",
   "id": "88c0da0c",
   "metadata": {},
   "source": [
    "CellChatDB <- list()\n",
    "CellChatDB$interaction <- interaction_input\n",
    "CellChatDB$complex <- DB$complex\n",
    "CellChatDB$cofactor <- DB$cofactor\n",
    "CellChatDB$geneInfo <- geneInfo"
   ]
  },
  {
   "cell_type": "code",
   "execution_count": null,
   "id": "d80ce828",
   "metadata": {},
   "outputs": [],
   "source": [
    "CellChatDB.use <- CellChatDB # use Secreted Signaling\n",
    "# use all CellChatDB for cell-cell communication analysis\n",
    "# CellChatDB.use <- CellChatDB # simply use the default CellChatDB\n",
    "\n",
    "# set the used database in the object\n",
    "cellchat_all@DB <- CellChatDB.use"
   ]
  },
  {
   "cell_type": "markdown",
   "id": "5de0284d",
   "metadata": {},
   "source": [
    "cellchat_all <- setIdent(cellchat_all, ident.use = \"new_clus\", levels = cell.levels)"
   ]
  },
  {
   "cell_type": "code",
   "execution_count": null,
   "id": "2418e6ef",
   "metadata": {},
   "outputs": [],
   "source": [
    "cellchat_all@idents <- factor(cellchat_all@idents, levels=cell.levels)"
   ]
  },
  {
   "cell_type": "code",
   "execution_count": null,
   "id": "a09e2754",
   "metadata": {},
   "outputs": [],
   "source": [
    "unique(cellchat_all@idents)"
   ]
  },
  {
   "cell_type": "code",
   "execution_count": null,
   "id": "013bed54",
   "metadata": {},
   "outputs": [],
   "source": [
    "# subset the expression data of signaling genes for saving computation cost\n",
    "cellchat_all <- subsetData(cellchat_all) # This step is necessary even if using the whole database\n",
    "future::plan(\"multiprocess\", workers = 1) # do parallel\n",
    "#> Warning: Strategy 'multiprocess' is deprecated in future (>= 1.20.0). Instead,\n",
    "#> explicitly specify either 'multisession' or 'multicore'. In the current R\n",
    "#> session, 'multiprocess' equals 'multisession'.\n",
    "#> Warning in supportsMulticoreAndRStudio(...): [ONE-TIME WARNING] Forked\n",
    "#> processing ('multicore') is not supported when running R from RStudio\n",
    "#> because it is considered unstable. For more details, how to control forked\n",
    "#> processing or not, and how to silence this warning in future R sessions, see ?\n",
    "#> parallelly::supportsMulticore\n",
    "cellchat_all <- suppressWarnings(identifyOverExpressedGenes(cellchat_all))\n",
    "cellchat_all <- suppressWarnings(identifyOverExpressedInteractions(cellchat_all))\n",
    " \n",
    "# project gene expression data onto PPI (Optional: when running it, USER should set `raw.use = FALSE` in the function `computeCommunProb()` in order to use the projected data)\n",
    "# cellchat <- projectData(cellchat, PPI.mouse)"
   ]
  },
  {
   "cell_type": "code",
   "execution_count": null,
   "id": "ed99746d",
   "metadata": {},
   "outputs": [],
   "source": [
    "cellchat_all <- suppressWarnings(computeCommunProb(cellchat_all, type = \"truncatedMean\", trim = 0.1, \n",
    "                               distance.use = TRUE, interaction.length = 200, scale.distance = 0.1))"
   ]
  },
  {
   "cell_type": "code",
   "execution_count": null,
   "id": "b4a6ce52",
   "metadata": {},
   "outputs": [],
   "source": [
    "\n",
    "#> truncatedMean is used for calculating the average gene expression per cell group. \n",
    "#> [1] \">>> Run CellChat on spatial imaging data using distances as constraints <<< [2022-11-12 07:49:23]\"\n",
    "#> The suggested minimum value of scaled distances is in [1,2], and the calculated value here is  1.30553 \n",
    "#> [1] \">>> CellChat inference is done. Parameter values are stored in `object@options$parameter` <<< [2022-11-12 08:10:42]\"\n",
    "\n",
    "# Filter out the cell-cell communication if there are only few number of cells in certain cell groups\n",
    "cellchat_all <- suppressWarnings(filterCommunication(cellchat_all, min.cells = 0))"
   ]
  },
  {
   "cell_type": "code",
   "execution_count": null,
   "id": "e616384e",
   "metadata": {},
   "outputs": [],
   "source": [
    "cellchat_all <- computeCommunProbPathway(cellchat_all)"
   ]
  },
  {
   "cell_type": "code",
   "execution_count": null,
   "id": "05f86153",
   "metadata": {},
   "outputs": [],
   "source": [
    "cellchat_all <- aggregateNet(cellchat_all)"
   ]
  },
  {
   "cell_type": "code",
   "execution_count": null,
   "id": "16dbcb42",
   "metadata": {},
   "outputs": [],
   "source": [
    "cellchat_all"
   ]
  },
  {
   "cell_type": "code",
   "execution_count": null,
   "id": "57ee09e1",
   "metadata": {},
   "outputs": [],
   "source": [
    "unique(cellchat_all@DB$interaction$pathway_name)"
   ]
  },
  {
   "cell_type": "code",
   "execution_count": null,
   "id": "cf64be36",
   "metadata": {},
   "outputs": [],
   "source": [
    "unique(cellchat_all@LR$LRsig$pathway_name)"
   ]
  },
  {
   "cell_type": "code",
   "execution_count": null,
   "id": "b297d7a8",
   "metadata": {
    "tags": []
   },
   "outputs": [],
   "source": [
    "head(cellchat_all@images)"
   ]
  },
  {
   "cell_type": "code",
   "execution_count": null,
   "id": "ce6de71f",
   "metadata": {},
   "outputs": [],
   "source": [
    "options(repr.plot.width=14, repr.plot.height=14)\n",
    "groupSize <- as.numeric(table(cellchat_all@idents))\n",
    "par(mfrow = c(1,2), xpd=TRUE)\n",
    "netVisual_circle(cellchat_all@net$count, vertex.weight = rowSums(cellchat_all@net$count), weight.scale = T, \n",
    "                 label.edge= F, title.name = \"Number of interactions\",vertex.label.cex = 0.45)\n",
    "netVisual_circle(cellchat_all@net$weight, vertex.weight = rowSums(cellchat_all@net$weight),\n",
    "                 weight.scale = T, label.edge= F, title.name = \"Interaction weights/strength\",\n",
    "                vertex.label.cex = 0.45)"
   ]
  },
  {
   "cell_type": "code",
   "execution_count": null,
   "id": "309ee939",
   "metadata": {},
   "outputs": [],
   "source": [
    "# Compute the network centrality scores\n",
    "cellchat_all <- netAnalysis_computeCentrality(cellchat_all, slot.name = \"netP\") # the slot 'netP' means the inferred intercellular communication network of signaling pathways"
   ]
  },
  {
   "cell_type": "code",
   "execution_count": null,
   "id": "b2f34155",
   "metadata": {},
   "outputs": [],
   "source": [
    "saveRDS(cellchat_all, file = \"cellchat_cosmx_all_replace_scrnaseq.rds\")"
   ]
  },
  {
   "cell_type": "markdown",
   "id": "98993719",
   "metadata": {
    "tags": []
   },
   "source": [
    "#### cellchat figure"
   ]
  },
  {
   "cell_type": "code",
   "execution_count": null,
   "id": "b6ee77f5",
   "metadata": {},
   "outputs": [],
   "source": [
    "library(CellChat)"
   ]
  },
  {
   "cell_type": "code",
   "execution_count": null,
   "id": "4a7b323a",
   "metadata": {},
   "outputs": [],
   "source": [
    "#options(repr.plot.width=7, repr.plot.height=7)\n",
    "pathways.show <- c(\"NRG\") \n",
    "# Circle plot\n",
    "par(mfrow=c(1,1))\n",
    "p1 <- netVisual_aggregate(cellchat_all, signaling = pathways.show, layout = \"circle\",vertex.label.cex = 1.5)"
   ]
  },
  {
   "cell_type": "code",
   "execution_count": null,
   "id": "15bdeb39",
   "metadata": {},
   "outputs": [],
   "source": [
    "class(p1)"
   ]
  },
  {
   "cell_type": "code",
   "execution_count": null,
   "id": "568f5975",
   "metadata": {},
   "outputs": [],
   "source": [
    "library(svglite)"
   ]
  },
  {
   "cell_type": "code",
   "execution_count": null,
   "id": "b4b779ac",
   "metadata": {},
   "outputs": [],
   "source": [
    "#options(repr.plot.width=7,repr.plot.height=7)\n",
    "pathways.show <- c(\"WNT\") \n",
    "# Circle plot\n",
    "par(mfrow=c(1,1))\n",
    "netVisual_aggregate(cellchat_all, signaling = pathways.show, layout = \"circle\",vertex.label.cex = 1.5)"
   ]
  },
  {
   "cell_type": "code",
   "execution_count": null,
   "id": "7afc03cd",
   "metadata": {},
   "outputs": [],
   "source": [
    "options(repr.plot.width=14,repr.plot.height=14)\n",
    "pathways.show <- c(\"ncWNT\") \n",
    "# Circle plot\n",
    "par(mfrow=c(1,1))\n",
    "netVisual_aggregate(cellchat_all, signaling = pathways.show, layout = \"circle\",vertex.label.cex = 1.5)"
   ]
  },
  {
   "cell_type": "code",
   "execution_count": null,
   "id": "5f483977",
   "metadata": {},
   "outputs": [],
   "source": [
    "options(repr.plot.width=7,repr.plot.height=7)\n",
    "pathways.show <- c(\"PDGF\") \n",
    "# Circle plot\n",
    "par(mfrow=c(1,1))\n",
    "netVisual_aggregate(cellchat_all, signaling = pathways.show, layout = \"circle\",vertex.label.cex = 1.5)"
   ]
  },
  {
   "cell_type": "code",
   "execution_count": null,
   "id": "cb3cf132",
   "metadata": {},
   "outputs": [],
   "source": [
    "#options(repr.plot.width=7,repr.plot.height=7)\n",
    "pathways.show <- c(\"EPHB\") \n",
    "# Circle plot\n",
    "par(mfrow=c(1,1))\n",
    "netVisual_aggregate(cellchat_all, signaling = pathways.show, layout = \"circle\",vertex.label.cex = 1.5)"
   ]
  },
  {
   "cell_type": "code",
   "execution_count": null,
   "id": "7104034a",
   "metadata": {},
   "outputs": [],
   "source": [
    "options(repr.plot.width=7,repr.plot.height=7)\n",
    "pathways.show <- c(\"NOTCH\") \n",
    "# Circle plot\n",
    "par(mfrow=c(1,1))\n",
    "netVisual_aggregate(cellchat_all, signaling = pathways.show, layout = \"circle\",vertex.label.cex = 0.45)"
   ]
  },
  {
   "cell_type": "code",
   "execution_count": null,
   "id": "743c15e4",
   "metadata": {
    "tags": []
   },
   "outputs": [],
   "source": [
    "options(repr.plot.width=7,repr.plot.height=7)\n",
    "pathways.show <- c(\"IGF\") \n",
    "# Circle plot\n",
    "par(mfrow=c(1,1))\n",
    "netVisual_aggregate(cellchat_all, signaling = pathways.show, layout = \"circle\",vertex.label.cex = 0.45)"
   ]
  },
  {
   "cell_type": "code",
   "execution_count": null,
   "id": "af0daa34",
   "metadata": {},
   "outputs": [],
   "source": [
    "pathway <- cellchat_all@LR$LRsig"
   ]
  },
  {
   "cell_type": "code",
   "execution_count": null,
   "id": "b457ce9e",
   "metadata": {},
   "outputs": [],
   "source": [
    "pathway <- cellchat_all@LR$LRsig[cellchat_all@LR$LRsig$annotation!='ECM-Receptor',]$pathway"
   ]
  },
  {
   "cell_type": "code",
   "execution_count": null,
   "id": "ab066dd0",
   "metadata": {},
   "outputs": [],
   "source": [
    "pathway <- unique(pathway)"
   ]
  },
  {
   "cell_type": "code",
   "execution_count": null,
   "id": "86959c61",
   "metadata": {},
   "outputs": [],
   "source": []
  },
  {
   "cell_type": "code",
   "execution_count": null,
   "id": "c8f27691",
   "metadata": {},
   "outputs": [],
   "source": [
    "# show all the significant interactions (L-R pairs) associated with certain signaling pathways\n",
    "options(repr.plot.width=30,repr.plot.height=5)\n",
    "netVisual_bubble(cellchat_all, signaling='PTN')\n",
    "#> Comparing communications on a single object"
   ]
  },
  {
   "cell_type": "code",
   "execution_count": null,
   "id": "73de6674",
   "metadata": {},
   "outputs": [],
   "source": [
    "# show all the significant interactions (L-R pairs) associated with certain signaling pathways\n",
    "options(repr.plot.width=20,repr.plot.height=8)\n",
    "netVisual_bubble(cellchat_all, signaling='IGF')\n",
    "#> Comparing communications on a single object"
   ]
  },
  {
   "cell_type": "code",
   "execution_count": null,
   "id": "04e37252",
   "metadata": {},
   "outputs": [],
   "source": [
    "# show all the significant interactions (L-R pairs) associated with certain signaling pathways\n",
    "options(repr.plot.width=8,repr.plot.height=4)\n",
    "netVisual_bubble(cellchat_all, signaling='BMP')\n",
    "#> Comparing communications on a single object"
   ]
  },
  {
   "cell_type": "code",
   "execution_count": null,
   "id": "6020ce1f",
   "metadata": {},
   "outputs": [],
   "source": [
    "# show all the significant interactions (L-R pairs) associated with certain signaling pathways\n",
    "options(repr.plot.width=15,repr.plot.height=4)\n",
    "netVisual_bubble(cellchat_all, signaling='GDF')\n",
    "#> Comparing communications on a single object"
   ]
  },
  {
   "cell_type": "code",
   "execution_count": null,
   "id": "18dedf44",
   "metadata": {},
   "outputs": [],
   "source": [
    "# show all the significant interactions (L-R pairs) associated with certain signaling pathways\n",
    "options(repr.plot.width=5,repr.plot.height=15)\n",
    "netVisual_bubble(cellchat_all,sources.use = 'PDGFR+FB', targets.use = cell.levels[1:16])\n",
    "#> Comparing communications on a single object"
   ]
  },
  {
   "cell_type": "code",
   "execution_count": null,
   "id": "6e8bbbd0",
   "metadata": {},
   "outputs": [],
   "source": [
    "# show all the significant interactions (L-R pairs) associated with certain signaling pathways\n",
    "options(repr.plot.width=7,repr.plot.height=7)\n",
    "netVisual_bubble(cellchat_all, signaling=pathway,targets.use = c('NK'), sources.use = cell.levels[1:16])\n",
    "#> Comparing communications on a single object"
   ]
  },
  {
   "cell_type": "code",
   "execution_count": null,
   "id": "6403e695",
   "metadata": {},
   "outputs": [],
   "source": [
    "# show all the significant interactions (L-R pairs) associated with certain signaling pathways\n",
    "options(repr.plot.width=5,repr.plot.height=5)\n",
    "netVisual_bubble(cellchat_all, signaling=pathway,targets.use = c('macrophage'), sources.use = cell.levels[1:16])\n",
    "#> Comparing communications on a single object"
   ]
  },
  {
   "cell_type": "code",
   "execution_count": null,
   "id": "1ebd16a3",
   "metadata": {},
   "outputs": [],
   "source": [
    "# show all the significant interactions (L-R pairs) associated with certain signaling pathways\n",
    "options(repr.plot.width=5,repr.plot.height=2.5)\n",
    "netVisual_bubble(cellchat_all, signaling=pathway,sources.use = c('macrophage'), targets.use = cell.levels[1:16])\n",
    "#> Comparing communications on a single object"
   ]
  },
  {
   "cell_type": "code",
   "execution_count": null,
   "id": "984f7a35",
   "metadata": {},
   "outputs": [],
   "source": [
    "# show all the significant interactions (L-R pairs) associated with certain signaling pathways\n",
    "options(repr.plot.width=5,repr.plot.height=5)\n",
    "netVisual_bubble(cellchat_all, signaling=pathway,targets.use = c('endothelial'), sources.use = cell.levels[1:16])\n",
    "#> Comparing communications on a single object"
   ]
  },
  {
   "cell_type": "code",
   "execution_count": null,
   "id": "6674ca93",
   "metadata": {},
   "outputs": [],
   "source": [
    "# show all the significant interactions (L-R pairs) associated with certain signaling pathways\n",
    "options(repr.plot.width=5,repr.plot.height=5)\n",
    "netVisual_bubble(cellchat_all, signaling=pathway,sources.use = c('endothelial'), targets.use = cell.levels[1:16])\n",
    "#> Comparing communications on a single object"
   ]
  },
  {
   "cell_type": "code",
   "execution_count": null,
   "id": "d13cf6e9",
   "metadata": {},
   "outputs": [],
   "source": [
    "# show all the significant interactions (L-R pairs) associated with certain signaling pathways\n",
    "options(repr.plot.width=5,repr.plot.height=5)\n",
    "netVisual_bubble(cellchat_all, signaling=pathway,targets.use = 'NK', sources.use = cell.levels[1:16])\n",
    "#> Comparing communications on a single object"
   ]
  },
  {
   "cell_type": "code",
   "execution_count": null,
   "id": "e9127507",
   "metadata": {},
   "outputs": [],
   "source": [
    "# show all the significant interactions (L-R pairs) associated with certain signaling pathways\n",
    "options(repr.plot.width=4,repr.plot.height=5)\n",
    "netVisual_bubble(cellchat_all,signaling=pathway, sources.use = 'PDGFR+FB', targets.use = cell.levels[1:16])\n",
    "#> Comparing communications on a single object"
   ]
  },
  {
   "cell_type": "code",
   "execution_count": null,
   "id": "faba6041",
   "metadata": {},
   "outputs": [],
   "source": [
    "# show all the significant interactions (L-R pairs) associated with certain signaling pathways\n",
    "options(repr.plot.width=6,repr.plot.height=6)\n",
    "netVisual_bubble(cellchat_all, signaling=pathway,targets.use = 'PDGFR+FB')\n",
    "#> Comparing communications on a single object"
   ]
  },
  {
   "cell_type": "code",
   "execution_count": null,
   "id": "ffc08cc4",
   "metadata": {},
   "outputs": [],
   "source": [
    "# show all the significant interactions (L-R pairs) associated with certain signaling pathways\n",
    "options(repr.plot.width=7,repr.plot.height=5)\n",
    "netVisual_bubble(cellchat_all, signaling=pathway,targets.use = 'PDGFR+FB')\n",
    "#> Comparing communications on a single object"
   ]
  },
  {
   "cell_type": "code",
   "execution_count": null,
   "id": "6b806e6a",
   "metadata": {},
   "outputs": [],
   "source": [
    "# show all the significant interactions (L-R pairs) associated with certain signaling pathways\n",
    "options(repr.plot.width=7,repr.plot.height=5)\n",
    "netVisual_bubble(cellchat_all, remove.isolate = TRUE,signaling=pathway,\n",
    "                 sources.use = c('PDGFR+FB','macrophage','endothelial'),\n",
    "                 targets.use = c('PDGFR+FB','macrophage','endothelial')\n",
    "                 )\n",
    "#> Comparing communications on a single object"
   ]
  },
  {
   "cell_type": "code",
   "execution_count": null,
   "id": "fe37f95e",
   "metadata": {},
   "outputs": [],
   "source": [
    "cell.levels"
   ]
  },
  {
   "cell_type": "code",
   "execution_count": null,
   "id": "1737dc9a",
   "metadata": {},
   "outputs": [],
   "source": [
    "# show all the significant interactions (L-R pairs) associated with certain signaling pathways\n",
    "options(repr.plot.width=20,repr.plot.height=5)\n",
    "netVisual_bubble(cellchat_all, signaling = 'WNT', targets.use = cell.levels[1:16])\n",
    "#> Comparing communications on a single object"
   ]
  },
  {
   "cell_type": "code",
   "execution_count": null,
   "id": "b91e356a",
   "metadata": {},
   "outputs": [],
   "source": [
    "cellchat_all <- netAnalysis_computeCentrality(cellchat_all, slot.name = \"netP\") # the slot 'netP' means the inferred intercellular communication network of signaling pathways"
   ]
  },
  {
   "cell_type": "code",
   "execution_count": null,
   "id": "68c2c609",
   "metadata": {
    "tags": []
   },
   "outputs": [],
   "source": [
    "# Signaling role analysis on the aggregated cell-cell communication network from all signaling pathways\n",
    "options(repr.plot.width=24,repr.plot.height=24)\n",
    "ht1 <- netAnalysis_signalingRole_heatmap(cellchat_all, pattern = \"outgoing\",width = 14,height = 14)"
   ]
  },
  {
   "cell_type": "code",
   "execution_count": null,
   "id": "5398854f",
   "metadata": {
    "tags": []
   },
   "outputs": [],
   "source": [
    "# Signaling role analysis on the aggregated cell-cell communication network from all signaling pathways\n",
    "options(repr.plot.width=24,repr.plot.height=24)\n",
    "ht2 <- netAnalysis_signalingRole_heatmap(cellchat_all, pattern = \"incoming\",width = 14,height = 14)"
   ]
  },
  {
   "cell_type": "code",
   "execution_count": null,
   "id": "c01ca8c4",
   "metadata": {},
   "outputs": [],
   "source": [
    "ht1"
   ]
  },
  {
   "cell_type": "code",
   "execution_count": null,
   "id": "43a79cc6",
   "metadata": {},
   "outputs": [],
   "source": [
    "ht2"
   ]
  },
  {
   "cell_type": "code",
   "execution_count": null,
   "id": "a8a50430",
   "metadata": {},
   "outputs": [],
   "source": [
    "# show all the significant interactions (L-R pairs) associated with certain signaling pathways\n",
    "options(repr.plot.width=5,repr.plot.height=5)\n",
    "netVisual_bubble(cellchat_all, sources.use = c('NK'), targets.use = c('GKN+F','Foveolar','Ent','TA_Ent','Ent2','LEFTY1_epi','OLFM4+Epi','Pyloric_deep','PC','Chief','ADH1+GKN1-F'),  remove.isolate = FALSE)\n",
    "#> Comparing communications on a single object"
   ]
  },
  {
   "cell_type": "code",
   "execution_count": null,
   "id": "25d94954",
   "metadata": {},
   "outputs": [],
   "source": [
    "# show all the significant interactions (L-R pairs) associated with certain signaling pathways\n",
    "options(repr.plot.width=5,repr.plot.height=5)\n",
    "netVisual_bubble(cellchat_all, sources.use = c('macrophage'), targets.use = c('PDGFR+FB','CD8 T memory','CD8 T naive','CD4 T memory ','CD4 T naive','Treg','B-cell'),  remove.isolate = FALSE)\n",
    "#> Comparing communications on a single object"
   ]
  },
  {
   "cell_type": "code",
   "execution_count": null,
   "id": "63c43744",
   "metadata": {},
   "outputs": [],
   "source": [
    "# show all the significant interactions (L-R pairs) associated with certain signaling pathways\n",
    "options(repr.plot.width=5,repr.plot.height=5)\n",
    "netVisual_bubble(cellchat_pyloric, targets.use = c('macrophage'), sources.use = c('GKN+F','Foveolar','Ent','TA_Ent','Ent2','LEFTY1_epi','OLFM4+Epi','Pyloric_deep','PC','Chief','ADH1+GKN1-F'),  remove.isolate = FALSE)\n",
    "#> Comparing communications on a single object"
   ]
  },
  {
   "cell_type": "code",
   "execution_count": null,
   "id": "9f5ab869",
   "metadata": {},
   "outputs": [],
   "source": [
    "# show all the significant interactions (L-R pairs) associated with certain signaling pathways\n",
    "options(repr.plot.width=5,repr.plot.height=5)\n",
    "netVisual_bubble(cellchat_all, sources.use = c('neutrophil'), targets.use = c('GKN+F','Foveolar','Ent','TA_Ent','Ent2','LEFTY1_epi','OLFM4+Epi','Pyloric_deep','PC','Chief','ADH1+GKN1-F'),  remove.isolate = FALSE)\n",
    "#> Comparing communications on a single object"
   ]
  },
  {
   "cell_type": "code",
   "execution_count": null,
   "id": "9eb87c74",
   "metadata": {},
   "outputs": [],
   "source": [
    "# show all the significant interactions (L-R pairs) associated with certain signaling pathways\n",
    "options(repr.plot.width=5,repr.plot.height=10)\n",
    "netVisual_bubble(cellchat_all, sources.use = c('PDGFR+FB'), targets.use = c('GKN+F','Foveolar','Ent','TA_Ent','Ent2','LEFTY1_epi','OLFM4+Epi','Pyloric_deep','PC','Chief','ADH1+GKN1-F'),  remove.isolate = FALSE)\n",
    "#> Comparing communications on a single object"
   ]
  },
  {
   "cell_type": "code",
   "execution_count": null,
   "id": "1ff3b666",
   "metadata": {},
   "outputs": [],
   "source": [
    "# show all the significant interactions (L-R pairs) associated with certain signaling pathways\n",
    "options(repr.plot.width=5,repr.plot.height=5)\n",
    "netVisual_bubble(cellchat_all, targets.use = c('PDGFR+FB'), sources.use = c('GKN+F','Foveolar','Ent','TA_Ent','Ent2','LEFTY1_epi','OLFM4+Epi','Pyloric_deep','PC','Chief','ADH1+GKN1-F'),  remove.isolate = FALSE)\n",
    "#> Comparing communications on a single object"
   ]
  },
  {
   "cell_type": "code",
   "execution_count": null,
   "id": "d7a42c7f",
   "metadata": {},
   "outputs": [],
   "source": [
    "pathways.show <- c(\"MIF\") \n",
    "# Circle plot\n",
    "options(repr.plot.width=7,repr.plot.height=7)\n",
    "par(mfrow=c(1,1))\n",
    "netVisual_aggregate(cellchat_all, signaling = pathways.show, layout = \"circle\")"
   ]
  },
  {
   "cell_type": "code",
   "execution_count": null,
   "id": "b036e163",
   "metadata": {},
   "outputs": [],
   "source": []
  },
  {
   "cell_type": "code",
   "execution_count": null,
   "id": "85fa7d44",
   "metadata": {},
   "outputs": [],
   "source": [
    "options(repr.plot.width=7, repr.plot.height=7)\n",
    "pathways.show <- c(\"PDGF\") \n",
    "# Circle plot\n",
    "netVisual_aggregate(cellchat_all, signaling = pathways.show, layout = \"circle\",vertex.label.cex = 0.45)"
   ]
  },
  {
   "cell_type": "markdown",
   "id": "5e621281",
   "metadata": {
    "tags": []
   },
   "source": [
    "#### cellchat figure"
   ]
  },
  {
   "cell_type": "code",
   "execution_count": null,
   "id": "240fd450",
   "metadata": {},
   "outputs": [],
   "source": [
    "library(CellChat)"
   ]
  },
  {
   "cell_type": "code",
   "execution_count": null,
   "id": "8c0c19ed",
   "metadata": {},
   "outputs": [],
   "source": [
    "cellchat_all <- readRDS('cellchat_cosmx_all.rds')"
   ]
  },
  {
   "cell_type": "code",
   "execution_count": null,
   "id": "e394a0a5",
   "metadata": {},
   "outputs": [],
   "source": [
    "#options(repr.plot.width=7, repr.plot.height=7)\n",
    "pathways.show <- c(\"NRG\") \n",
    "# Circle plot\n",
    "par(mfrow=c(1,1))\n",
    "p1 <- netVisual_aggregate(cellchat_all, signaling = pathways.show, layout = \"circle\",vertex.label.cex = 1.5)"
   ]
  },
  {
   "cell_type": "code",
   "execution_count": null,
   "id": "83504c66",
   "metadata": {},
   "outputs": [],
   "source": [
    "options(repr.plot.width=14, repr.plot.height=14)\n",
    "pdf(\"Fig7D.pdf\", width=14, height=14)\n",
    "p1 <- netVisual_aggregate(cellchat_all, signaling = 'NRG', layout = \"circle\",vertex.label.cex = 1.5)\n",
    "dev.off()"
   ]
  },
  {
   "cell_type": "code",
   "execution_count": null,
   "id": "eb871d58",
   "metadata": {},
   "outputs": [],
   "source": [
    "options(repr.plot.width=14, repr.plot.height=14)\n",
    "pdf(\"Fig7B1.pdf\", width=14, height=14)\n",
    "p1 <- netVisual_aggregate(cellchat_all, signaling = 'WNT', layout = \"circle\",vertex.label.cex = 1.5)\n",
    "dev.off()"
   ]
  },
  {
   "cell_type": "code",
   "execution_count": null,
   "id": "da311f62",
   "metadata": {},
   "outputs": [],
   "source": [
    "options(repr.plot.width=14, repr.plot.height=14)\n",
    "pdf(\"Fig7B2.pdf\", width=14, height=14)\n",
    "p1 <- netVisual_aggregate(cellchat_all, signaling = 'ncWNT', layout = \"circle\",vertex.label.cex = 1.5)\n",
    "dev.off()"
   ]
  },
  {
   "cell_type": "code",
   "execution_count": null,
   "id": "f528b24c",
   "metadata": {},
   "outputs": [],
   "source": [
    "options(repr.plot.width=14, repr.plot.height=14)\n",
    "pdf(\"Fig7F.pdf\", width=14, height=14)\n",
    "p1 <- netVisual_aggregate(cellchat_all, signaling = 'PDGF', layout = \"circle\",vertex.label.cex = 1.5)\n",
    "dev.off()"
   ]
  },
  {
   "cell_type": "code",
   "execution_count": null,
   "id": "40f6dbc8",
   "metadata": {},
   "outputs": [],
   "source": [
    "options(repr.plot.width=14, repr.plot.height=14)\n",
    "pdf(\"FigS8B2.pdf\", width=14, height=14)\n",
    "p1 <- netVisual_aggregate(cellchat_all, signaling = 'EPHB', layout = \"circle\",vertex.label.cex = 1.5)\n",
    "dev.off()"
   ]
  },
  {
   "cell_type": "code",
   "execution_count": null,
   "id": "b6419706",
   "metadata": {},
   "outputs": [],
   "source": [
    "class(p1)"
   ]
  },
  {
   "cell_type": "code",
   "execution_count": null,
   "id": "63e7d708",
   "metadata": {},
   "outputs": [],
   "source": [
    "library(svglite)"
   ]
  },
  {
   "cell_type": "code",
   "execution_count": null,
   "id": "3ebc13a0",
   "metadata": {},
   "outputs": [],
   "source": [
    "svglite(file='test.svg')\n",
    "p1\n",
    "dev.off()"
   ]
  },
  {
   "cell_type": "code",
   "execution_count": null,
   "id": "5c305246",
   "metadata": {},
   "outputs": [],
   "source": [
    "save('test.pdf',p1)"
   ]
  },
  {
   "cell_type": "code",
   "execution_count": null,
   "id": "94d05782",
   "metadata": {},
   "outputs": [],
   "source": [
    "#options(repr.plot.width=7,repr.plot.height=7)\n",
    "pathways.show <- c(\"WNT\") \n",
    "# Circle plot\n",
    "par(mfrow=c(1,1))\n",
    "netVisual_aggregate(cellchat_all, signaling = pathways.show, layout = \"circle\",vertex.label.cex = 1.5)"
   ]
  },
  {
   "cell_type": "code",
   "execution_count": null,
   "id": "4dcd68b0",
   "metadata": {},
   "outputs": [],
   "source": [
    "options(repr.plot.width=14,repr.plot.height=14)\n",
    "pathways.show <- c(\"ncWNT\") \n",
    "# Circle plot\n",
    "par(mfrow=c(1,1))\n",
    "netVisual_aggregate(cellchat_all, signaling = pathways.show, layout = \"circle\",vertex.label.cex = 1.5)"
   ]
  },
  {
   "cell_type": "code",
   "execution_count": null,
   "id": "ccd6bdde",
   "metadata": {},
   "outputs": [],
   "source": [
    "#options(repr.plot.width=7,repr.plot.height=7)\n",
    "pathways.show <- c(\"PDGF\") \n",
    "# Circle plot\n",
    "par(mfrow=c(1,1))\n",
    "netVisual_aggregate(cellchat_all, signaling = pathways.show, layout = \"circle\",vertex.label.cex = 1.5)"
   ]
  },
  {
   "cell_type": "code",
   "execution_count": null,
   "id": "f3746403",
   "metadata": {},
   "outputs": [],
   "source": [
    "#options(repr.plot.width=7,repr.plot.height=7)\n",
    "pathways.show <- c(\"EPHB\") \n",
    "# Circle plot\n",
    "par(mfrow=c(1,1))\n",
    "netVisual_aggregate(cellchat_all, signaling = pathways.show, layout = \"circle\",vertex.label.cex = 1.5)"
   ]
  },
  {
   "cell_type": "code",
   "execution_count": null,
   "id": "2176a760",
   "metadata": {},
   "outputs": [],
   "source": [
    "options(repr.plot.width=7,repr.plot.height=7)\n",
    "pathways.show <- c(\"NOTCH\") \n",
    "# Circle plot\n",
    "par(mfrow=c(1,1))\n",
    "netVisual_aggregate(cellchat_all, signaling = pathways.show, layout = \"circle\",vertex.label.cex = 0.45)"
   ]
  },
  {
   "cell_type": "code",
   "execution_count": null,
   "id": "a109f3d6",
   "metadata": {},
   "outputs": [],
   "source": [
    "options(repr.plot.width=7,repr.plot.height=7)\n",
    "pathways.show <- c(\"IGF\") \n",
    "# Circle plot\n",
    "par(mfrow=c(1,1))\n",
    "netVisual_aggregate(cellchat_all, signaling = pathways.show, layout = \"circle\",vertex.label.cex = 0.45)"
   ]
  },
  {
   "cell_type": "code",
   "execution_count": null,
   "id": "9d073048",
   "metadata": {},
   "outputs": [],
   "source": [
    "options(repr.plot.width=7,repr.plot.height=7)\n",
    "pathways.show <- c(\"BMP\") \n",
    "# Circle plot\n",
    "par(mfrow=c(1,1))\n",
    "netVisual_aggregate(cellchat_all, signaling = pathways.show, layout = \"circle\")"
   ]
  },
  {
   "cell_type": "code",
   "execution_count": null,
   "id": "92146f50",
   "metadata": {},
   "outputs": [],
   "source": [
    "options(repr.plot.width=7,repr.plot.height=7)\n",
    "pathways.show <- c(\"TGFb\") \n",
    "# Circle plot\n",
    "par(mfrow=c(1,1))\n",
    "netVisual_aggregate(cellchat_all, signaling = pathways.show, layout = \"circle\")"
   ]
  },
  {
   "cell_type": "code",
   "execution_count": null,
   "id": "281ba852",
   "metadata": {},
   "outputs": [],
   "source": [
    "pathway <- cellchat_all@LR$LRsig"
   ]
  },
  {
   "cell_type": "code",
   "execution_count": null,
   "id": "7370a1b2",
   "metadata": {},
   "outputs": [],
   "source": [
    "pathway <- cellchat_all@LR$LRsig[cellchat_all@LR$LRsig$annotation!='ECM-Receptor',]$pathway"
   ]
  },
  {
   "cell_type": "code",
   "execution_count": null,
   "id": "aa9e54ea",
   "metadata": {},
   "outputs": [],
   "source": [
    "pathway <- unique(pathway)"
   ]
  },
  {
   "cell_type": "code",
   "execution_count": null,
   "id": "72ad5ee4",
   "metadata": {},
   "outputs": [],
   "source": []
  },
  {
   "cell_type": "code",
   "execution_count": null,
   "id": "bfab5cde",
   "metadata": {},
   "outputs": [],
   "source": [
    "# show all the significant interactions (L-R pairs) associated with certain signaling pathways\n",
    "options(repr.plot.width=30,repr.plot.height=5)\n",
    "netVisual_bubble(cellchat_all, signaling='WNT')\n",
    "#> Comparing communications on a single object"
   ]
  },
  {
   "cell_type": "code",
   "execution_count": null,
   "id": "b5cdbb0c",
   "metadata": {},
   "outputs": [],
   "source": [
    "# show all the significant interactions (L-R pairs) associated with certain signaling pathways\n",
    "options(repr.plot.width=8,repr.plot.height=3)\n",
    "netVisual_bubble(cellchat_all, signaling='ncWNT')\n",
    "#> Comparing communications on a single object"
   ]
  },
  {
   "cell_type": "code",
   "execution_count": null,
   "id": "98082cd8",
   "metadata": {},
   "outputs": [],
   "source": [
    "# show all the significant interactions (L-R pairs) associated with certain signaling pathways\n",
    "options(repr.plot.width=20,repr.plot.height=8)\n",
    "netVisual_bubble(cellchat_all, signaling='IGF')\n",
    "#> Comparing communications on a single object"
   ]
  },
  {
   "cell_type": "code",
   "execution_count": null,
   "id": "f611c4f2",
   "metadata": {},
   "outputs": [],
   "source": [
    "# show all the significant interactions (L-R pairs) associated with certain signaling pathways\n",
    "options(repr.plot.width=8,repr.plot.height=4)\n",
    "netVisual_bubble(cellchat_all, signaling='BMP')\n",
    "#> Comparing communications on a single object"
   ]
  },
  {
   "cell_type": "code",
   "execution_count": null,
   "id": "1cf6dc75",
   "metadata": {},
   "outputs": [],
   "source": [
    "# show all the significant interactions (L-R pairs) associated with certain signaling pathways\n",
    "options(repr.plot.width=15,repr.plot.height=4)\n",
    "netVisual_bubble(cellchat_all, signaling='GDF')\n",
    "#> Comparing communications on a single object"
   ]
  },
  {
   "cell_type": "code",
   "execution_count": null,
   "id": "051cdc25",
   "metadata": {},
   "outputs": [],
   "source": [
    "# show all the significant interactions (L-R pairs) associated with certain signaling pathways\n",
    "options(repr.plot.width=15,repr.plot.height=4)\n",
    "netVisual_bubble(cellchat_all, signaling='APP')\n",
    "#> Comparing communications on a single object"
   ]
  },
  {
   "cell_type": "code",
   "execution_count": null,
   "id": "a91843e6",
   "metadata": {},
   "outputs": [],
   "source": [
    "# show all the significant interactions (L-R pairs) associated with certain signaling pathways\n",
    "options(repr.plot.width=8,repr.plot.height=4)\n",
    "netVisual_bubble(cellchat_all, signaling='TGFb')\n",
    "#> Comparing communications on a single object"
   ]
  },
  {
   "cell_type": "code",
   "execution_count": null,
   "id": "96f8d270",
   "metadata": {},
   "outputs": [],
   "source": [
    "# show all the significant interactions (L-R pairs) associated with certain signaling pathways\n",
    "options(repr.plot.width=5,repr.plot.height=4)\n",
    "netVisual_bubble(cellchat_all, signaling=pathway,sources.use = 'NK', targets.use = cell.levels[1:16])\n",
    "#> Comparing communications on a single object"
   ]
  },
  {
   "cell_type": "code",
   "execution_count": null,
   "id": "3f3ec5d7",
   "metadata": {},
   "outputs": [],
   "source": [
    "# show all the significant interactions (L-R pairs) associated with certain signaling pathways\n",
    "options(repr.plot.width=7,repr.plot.height=7)\n",
    "netVisual_bubble(cellchat_all, signaling=pathway,targets.use = c('NK'), sources.use = cell.levels[1:16])\n",
    "#> Comparing communications on a single object"
   ]
  },
  {
   "cell_type": "code",
   "execution_count": null,
   "id": "cc62a064",
   "metadata": {},
   "outputs": [],
   "source": [
    "# show all the significant interactions (L-R pairs) associated with certain signaling pathways\n",
    "options(repr.plot.width=5,repr.plot.height=5)\n",
    "netVisual_bubble(cellchat_all, signaling=pathway,targets.use = c('macrophage'), sources.use = cell.levels[1:16])\n",
    "#> Comparing communications on a single object"
   ]
  },
  {
   "cell_type": "code",
   "execution_count": null,
   "id": "9e28493f",
   "metadata": {},
   "outputs": [],
   "source": [
    "# show all the significant interactions (L-R pairs) associated with certain signaling pathways\n",
    "options(repr.plot.width=5,repr.plot.height=2.5)\n",
    "netVisual_bubble(cellchat_all, signaling=pathway,sources.use = c('macrophage'), targets.use = cell.levels[1:16])\n",
    "#> Comparing communications on a single object"
   ]
  },
  {
   "cell_type": "code",
   "execution_count": null,
   "id": "318be67a",
   "metadata": {},
   "outputs": [],
   "source": [
    "# show all the significant interactions (L-R pairs) associated with certain signaling pathways\n",
    "options(repr.plot.width=5,repr.plot.height=5)\n",
    "netVisual_bubble(cellchat_all, signaling=pathway,targets.use = c('endothelial'), sources.use = cell.levels[1:16])\n",
    "#> Comparing communications on a single object"
   ]
  },
  {
   "cell_type": "code",
   "execution_count": null,
   "id": "f8ef84c2",
   "metadata": {},
   "outputs": [],
   "source": [
    "# show all the significant interactions (L-R pairs) associated with certain signaling pathways\n",
    "options(repr.plot.width=5,repr.plot.height=5)\n",
    "netVisual_bubble(cellchat_all, signaling=pathway,sources.use = c('endothelial'), targets.use = cell.levels[1:16])\n",
    "#> Comparing communications on a single object"
   ]
  },
  {
   "cell_type": "code",
   "execution_count": null,
   "id": "a99e8711",
   "metadata": {},
   "outputs": [],
   "source": [
    "# show all the significant interactions (L-R pairs) associated with certain signaling pathways\n",
    "options(repr.plot.width=5,repr.plot.height=5)\n",
    "netVisual_bubble(cellchat_all, signaling=pathway,targets.use = 'NK', sources.use = cell.levels[1:16])\n",
    "#> Comparing communications on a single object"
   ]
  },
  {
   "cell_type": "code",
   "execution_count": null,
   "id": "4fb24605",
   "metadata": {},
   "outputs": [],
   "source": [
    "# show all the significant interactions (L-R pairs) associated with certain signaling pathways\n",
    "options(repr.plot.width=4,repr.plot.height=5)\n",
    "netVisual_bubble(cellchat_all,signaling=pathway, sources.use = 'PDGFR+FB', targets.use = cell.levels[1:16])\n",
    "#> Comparing communications on a single object"
   ]
  },
  {
   "cell_type": "code",
   "execution_count": null,
   "id": "aedc0f2b",
   "metadata": {},
   "outputs": [],
   "source": [
    "# show all the significant interactions (L-R pairs) associated with certain signaling pathways\n",
    "options(repr.plot.width=6,repr.plot.height=6)\n",
    "netVisual_bubble(cellchat_all, signaling=pathway,targets.use = 'PDGFR+FB')\n",
    "#> Comparing communications on a single object"
   ]
  },
  {
   "cell_type": "code",
   "execution_count": null,
   "id": "6d53549b",
   "metadata": {},
   "outputs": [],
   "source": [
    "# show all the significant interactions (L-R pairs) associated with certain signaling pathways\n",
    "options(repr.plot.width=7,repr.plot.height=5)\n",
    "netVisual_bubble(cellchat_all, signaling=pathway,targets.use = 'PDGFR+FB')\n",
    "#> Comparing communications on a single object"
   ]
  },
  {
   "cell_type": "code",
   "execution_count": null,
   "id": "8e5563d4",
   "metadata": {},
   "outputs": [],
   "source": [
    "# show all the significant interactions (L-R pairs) associated with certain signaling pathways\n",
    "options(repr.plot.width=7,repr.plot.height=5)\n",
    "netVisual_bubble(cellchat_all, remove.isolate = TRUE,signaling=pathway,\n",
    "                 sources.use = c('PDGFR+FB','macrophage','endothelial'),\n",
    "                 targets.use = c('PDGFR+FB','macrophage','endothelial')\n",
    "                 )\n",
    "#> Comparing communications on a single object"
   ]
  },
  {
   "cell_type": "code",
   "execution_count": null,
   "id": "e2413c9a",
   "metadata": {},
   "outputs": [],
   "source": [
    "cell.levels"
   ]
  },
  {
   "cell_type": "code",
   "execution_count": null,
   "id": "09f27e23",
   "metadata": {},
   "outputs": [],
   "source": [
    "# show all the significant interactions (L-R pairs) associated with certain signaling pathways\n",
    "options(repr.plot.width=20,repr.plot.height=5)\n",
    "netVisual_bubble(cellchat_all, signaling = 'WNT', targets.use = cell.levels[1:16])\n",
    "#> Comparing communications on a single object"
   ]
  },
  {
   "cell_type": "code",
   "execution_count": null,
   "id": "a47eeb63",
   "metadata": {},
   "outputs": [],
   "source": [
    "cellchat_all <- netAnalysis_computeCentrality(cellchat_all, slot.name = \"netP\") # the slot 'netP' means the inferred intercellular communication network of signaling pathways"
   ]
  },
  {
   "cell_type": "code",
   "execution_count": null,
   "id": "45da177b",
   "metadata": {
    "tags": []
   },
   "outputs": [],
   "source": [
    "# Signaling role analysis on the aggregated cell-cell communication network from all signaling pathways\n",
    "options(repr.plot.width=24,repr.plot.height=24)\n",
    "ht1 <- netAnalysis_signalingRole_heatmap(cellchat_all, pattern = \"outgoing\",width = 14,height = 14)"
   ]
  },
  {
   "cell_type": "code",
   "execution_count": null,
   "id": "af98700a",
   "metadata": {
    "tags": []
   },
   "outputs": [],
   "source": [
    "# Signaling role analysis on the aggregated cell-cell communication network from all signaling pathways\n",
    "options(repr.plot.width=24,repr.plot.height=24)\n",
    "ht2 <- netAnalysis_signalingRole_heatmap(cellchat_all, pattern = \"incoming\",width = 14,height = 14)"
   ]
  },
  {
   "cell_type": "code",
   "execution_count": null,
   "id": "cd2afe64",
   "metadata": {},
   "outputs": [],
   "source": [
    "ht1"
   ]
  },
  {
   "cell_type": "code",
   "execution_count": null,
   "id": "9840a8ef",
   "metadata": {},
   "outputs": [],
   "source": [
    "ht2"
   ]
  },
  {
   "cell_type": "code",
   "execution_count": null,
   "id": "8ca5809b",
   "metadata": {},
   "outputs": [],
   "source": [
    "# show all the significant interactions (L-R pairs) associated with certain signaling pathways\n",
    "options(repr.plot.width=5,repr.plot.height=5)\n",
    "netVisual_bubble(cellchat_all, sources.use = c('NK'), targets.use = c('GKN+F','Foveolar','Ent','TA_Ent','Ent2','LEFTY1_epi','OLFM4+Epi','Pyloric_deep','PC','Chief','ADH1+GKN1-F'),  remove.isolate = FALSE)\n",
    "#> Comparing communications on a single object"
   ]
  },
  {
   "cell_type": "code",
   "execution_count": null,
   "id": "626707a2",
   "metadata": {},
   "outputs": [],
   "source": [
    "# show all the significant interactions (L-R pairs) associated with certain signaling pathways\n",
    "options(repr.plot.width=5,repr.plot.height=5)\n",
    "netVisual_bubble(cellchat_all, sources.use = c('macrophage'), targets.use = c('PDGFR+FB','CD8 T memory','CD8 T naive','CD4 T memory ','CD4 T naive','Treg','B-cell'),  remove.isolate = FALSE)\n",
    "#> Comparing communications on a single object"
   ]
  },
  {
   "cell_type": "code",
   "execution_count": null,
   "id": "1d54c386",
   "metadata": {},
   "outputs": [],
   "source": [
    "# show all the significant interactions (L-R pairs) associated with certain signaling pathways\n",
    "options(repr.plot.width=5,repr.plot.height=5)\n",
    "netVisual_bubble(cellchat_pyloric, targets.use = c('macrophage'), sources.use = c('GKN+F','Foveolar','Ent','TA_Ent','Ent2','LEFTY1_epi','OLFM4+Epi','Pyloric_deep','PC','Chief','ADH1+GKN1-F'),  remove.isolate = FALSE)\n",
    "#> Comparing communications on a single object"
   ]
  },
  {
   "cell_type": "code",
   "execution_count": null,
   "id": "7bd3a1af",
   "metadata": {},
   "outputs": [],
   "source": [
    "# show all the significant interactions (L-R pairs) associated with certain signaling pathways\n",
    "options(repr.plot.width=5,repr.plot.height=5)\n",
    "netVisual_bubble(cellchat_all, sources.use = c('neutrophil'), targets.use = c('GKN+F','Foveolar','Ent','TA_Ent','Ent2','LEFTY1_epi','OLFM4+Epi','Pyloric_deep','PC','Chief','ADH1+GKN1-F'),  remove.isolate = FALSE)\n",
    "#> Comparing communications on a single object"
   ]
  },
  {
   "cell_type": "code",
   "execution_count": null,
   "id": "68628226",
   "metadata": {},
   "outputs": [],
   "source": [
    "# show all the significant interactions (L-R pairs) associated with certain signaling pathways\n",
    "options(repr.plot.width=5,repr.plot.height=10)\n",
    "netVisual_bubble(cellchat_all, sources.use = c('PDGFR+FB'), targets.use = c('GKN+F','Foveolar','Ent','TA_Ent','Ent2','LEFTY1_epi','OLFM4+Epi','Pyloric_deep','PC','Chief','ADH1+GKN1-F'),  remove.isolate = FALSE)\n",
    "#> Comparing communications on a single object"
   ]
  },
  {
   "cell_type": "code",
   "execution_count": null,
   "id": "2fbdee59",
   "metadata": {},
   "outputs": [],
   "source": [
    "# show all the significant interactions (L-R pairs) associated with certain signaling pathways\n",
    "options(repr.plot.width=5,repr.plot.height=5)\n",
    "netVisual_bubble(cellchat_all, targets.use = c('PDGFR+FB'), sources.use = c('GKN+F','Foveolar','Ent','TA_Ent','Ent2','LEFTY1_epi','OLFM4+Epi','Pyloric_deep','PC','Chief','ADH1+GKN1-F'),  remove.isolate = FALSE)\n",
    "#> Comparing communications on a single object"
   ]
  },
  {
   "cell_type": "code",
   "execution_count": null,
   "id": "798ea221",
   "metadata": {},
   "outputs": [],
   "source": [
    "pathways.show <- c(\"MIF\") \n",
    "# Circle plot\n",
    "options(repr.plot.width=7,repr.plot.height=7)\n",
    "par(mfrow=c(1,1))\n",
    "netVisual_aggregate(cellchat_all, signaling = pathways.show, layout = \"circle\")"
   ]
  },
  {
   "cell_type": "code",
   "execution_count": null,
   "id": "04561b88",
   "metadata": {},
   "outputs": [],
   "source": [
    "options(repr.plot.width=7, repr.plot.height=7)\n",
    "pathways.show <- c(\"PDGF\") \n",
    "# Circle plot\n",
    "netVisual_aggregate(cellchat_all, signaling = pathways.show, layout = \"circle\",vertex.label.cex = 0.45)"
   ]
  },
  {
   "cell_type": "markdown",
   "id": "b0778c60",
   "metadata": {
    "tags": []
   },
   "source": [
    "# Figure作成"
   ]
  },
  {
   "cell_type": "markdown",
   "id": "36b527e2",
   "metadata": {
    "tags": []
   },
   "source": [
    "### create seurat file to h5ad"
   ]
  },
  {
   "cell_type": "code",
   "execution_count": null,
   "id": "617b066c",
   "metadata": {},
   "outputs": [],
   "source": [
    "library(Seurat)\n",
    "#library(SeuratData)\n",
    "library(SeuratDisk)"
   ]
  },
  {
   "cell_type": "code",
   "execution_count": null,
   "id": "5c31282b",
   "metadata": {},
   "outputs": [],
   "source": [
    "ss <- readRDS('./cosmx_seurat_object/cosmx_all_seurat_final_before_submission.rds')"
   ]
  },
  {
   "cell_type": "code",
   "execution_count": null,
   "id": "1aee1769",
   "metadata": {},
   "outputs": [],
   "source": [
    "ss"
   ]
  },
  {
   "cell_type": "code",
   "execution_count": null,
   "id": "2cc0c522",
   "metadata": {},
   "outputs": [],
   "source": [
    "head(ss@meta.data)"
   ]
  },
  {
   "cell_type": "code",
   "execution_count": null,
   "id": "e79d1abc",
   "metadata": {},
   "outputs": [],
   "source": [
    "SaveH5Seurat(ss, filename = 'cosmx_all_seurat_final_before_submission.h5Seurat')"
   ]
  },
  {
   "cell_type": "code",
   "execution_count": null,
   "id": "f09bf422",
   "metadata": {},
   "outputs": [],
   "source": [
    "Convert('cosmx_all_seurat_final_before_submission.h5Seurat', dest = 'h5ad')"
   ]
  },
  {
   "cell_type": "code",
   "execution_count": null,
   "id": "08a7bf8d",
   "metadata": {},
   "outputs": [],
   "source": [
    "library(Giotto)"
   ]
  },
  {
   "cell_type": "code",
   "execution_count": null,
   "id": "bd320c29",
   "metadata": {},
   "outputs": [],
   "source": [
    "fov_join <- loadGiotto('./saveGiottoDir_final_before_submission/')"
   ]
  },
  {
   "cell_type": "code",
   "execution_count": null,
   "id": "620d75a8",
   "metadata": {},
   "outputs": [],
   "source": [
    "smallfov <- subsetGiotto(fov_join, cell_ids = pDataDT(fov_join)[grepl('^Fundic-fov020',pDataDT(fov_join)$cell_ID)]$cell_ID)"
   ]
  },
  {
   "cell_type": "code",
   "execution_count": null,
   "id": "1cf1cdfb",
   "metadata": {},
   "outputs": [],
   "source": [
    "# Visualize ICF expression\n",
    "options(repr.plot.width=28, repr.plot.height=28)\n",
    "spatInSituPlotPoints(smallfov, show_image = FALSE, polygon_alpha = 1,legend_text = 20,\n",
    "                   #  feats = list('CHGA','APOA1','LEFTY1'),\n",
    "                    # feats_color_code = c('green','yellow','black'),\n",
    "                     point_size = 1,\n",
    "                     show_polygon = TRUE,\n",
    "                     polygon_feat_type = 'cell',\n",
    "                     polygon_color = 'white',\n",
    "                     polygon_line_size = 0.1,\n",
    "                     polygon_fill = 'new_clus',\n",
    "                     polygon_fill_as_factor = TRUE,\n",
    "                     polygon_fill_code = color_set,\n",
    "                     background_color = 'white',\n",
    "                     coord_fix_ratio = TRUE)"
   ]
  },
  {
   "cell_type": "code",
   "execution_count": null,
   "id": "998e228c",
   "metadata": {},
   "outputs": [],
   "source": [
    "unique(pDataDT(smallfov)$new_clus)"
   ]
  },
  {
   "cell_type": "code",
   "execution_count": null,
   "id": "67883527",
   "metadata": {},
   "outputs": [],
   "source": [
    "# Visualize ICF expression\n",
    "options(repr.plot.width=28, repr.plot.height=28)\n",
    "spatInSituPlotPoints(smallfov, show_image = FALSE, polygon_alpha = 1,legend_text = 20,\n",
    "                     feats = list('APOA1','PSCA'),\n",
    "                     feats_color_code = c('white','light green'),\n",
    "                     point_size = 5,\n",
    "                     show_polygon = TRUE,\n",
    "                     polygon_feat_type = 'cell',\n",
    "                     polygon_color = 'white',\n",
    "                     polygon_line_size = 0.1,\n",
    "                     polygon_fill = 'new_clus',\n",
    "                     polygon_fill_as_factor = TRUE,\n",
    "                     polygon_fill_code = color_set,\n",
    "                     background_color = 'white',\n",
    "                     coord_fix_ratio = TRUE)"
   ]
  },
  {
   "cell_type": "code",
   "execution_count": null,
   "id": "2668feff",
   "metadata": {},
   "outputs": [],
   "source": [
    "# Visualize ICF expression\n",
    "options(repr.plot.width=28, repr.plot.height=28)\n",
    "spatInSituPlotPoints(smallfov, show_image = FALSE, polygon_alpha = 1,legend_text = 20,\n",
    "                     feats = list('LEFTY1','MKI67'),\n",
    "                     feats_color_code = c('black','white'),\n",
    "                     point_size = 5,\n",
    "                     show_polygon = TRUE,\n",
    "                     polygon_feat_type = 'cell',\n",
    "                     polygon_color = 'white',\n",
    "                     polygon_line_size = 0.1,\n",
    "                     polygon_fill = 'new_clus',\n",
    "                     polygon_fill_as_factor = TRUE,\n",
    "                     polygon_fill_code = color_set,\n",
    "                     background_color = 'white',\n",
    "                     coord_fix_ratio = TRUE)"
   ]
  },
  {
   "cell_type": "code",
   "execution_count": null,
   "id": "27172fbf",
   "metadata": {},
   "outputs": [],
   "source": [
    "smallfov2 <- subsetGiotto(fov_join, \n",
    "                         cell_ids = fov_join@cell_metadata$cell$rna$cell_ID[grepl('Fundic-fov007',fov_join@cell_metadata$cell$rna$cell_ID)])    "
   ]
  },
  {
   "cell_type": "code",
   "execution_count": null,
   "id": "b081886a",
   "metadata": {},
   "outputs": [],
   "source": [
    "smallfov <- subsetGiotto(fov_join, \n",
    "                         cell_ids = fov_join@cell_metadata$cell$rna$cell_ID[grepl('Fundic-fov006',fov_join@cell_metadata$cell$rna$cell_ID)])    "
   ]
  },
  {
   "cell_type": "code",
   "execution_count": null,
   "id": "a178824b",
   "metadata": {
    "tags": []
   },
   "outputs": [],
   "source": [
    "color_set <- c('Foveolar'='#FFFFCC',\n",
    "                                           'GKN+F'='#C7E9B4',\n",
    "                                           'ADH1+GKN1-F'='#7FCDBB',\n",
    "                                           'PG/Neck1'='#41B6C4',\n",
    "                                           'Chief'='#2C7FB8',\n",
    "                                           'PC'='#253494',\n",
    "                                           'PG/Neck2'='#31A354',\n",
    "                                           'Pyloric_deep'='#006837',\n",
    "                                           'Ent'='#FEE5D9',\n",
    "                                           'TA_Ent'='#FB6A4A',\n",
    "                                           'Ent2'='#FCAE91',\n",
    "                                           'OLFM4+Epi'='#CB181D',\n",
    "                                           'Gob'='blue',\n",
    "                                           'NE1'='Salmon',\n",
    "                                           'NE2'='yellow',\n",
    "                                           'LEFTY1_epi'='red',\n",
    "                                           'B-cell'='#87CEEB',\n",
    "                                           'pro_B-cell'='#90EE90',\n",
    "                                           'plasma'='#DDA0DD',\n",
    "                                           'T CD4 memory'='#696969',\n",
    "                                           'T CD8 memory'='#556B2F',\n",
    "                                           'T CD4 naive'='#696969',\n",
    "                                           'T CD8 naive'='#556B2F',\n",
    "                                           'Treg'='#800000',\n",
    "                                           'NK'='black',\n",
    "                                           'macrophage'='#F0E68C',\n",
    "                                           'mast'='#F0E68C',\n",
    "                                           'mDC'='#F0E68C',\n",
    "                                           'monocyte'='#F0E68C',\n",
    "                                           'pDC'='#F0E68C',\n",
    "                                           'neutrophil'='#EE82EE',\n",
    "                                           'CCL11+FB'='#4682B4',\n",
    "                                           'KLF+FB'='Cyan',\n",
    "                                           'PDGFR+FB'='Gray',\n",
    "                                           'pericyte'='pink',\n",
    "                                           'FibSmo'='#FFD700',\n",
    "                                           'Stromal'='#ADFF2F',\n",
    "                                           'pericyte_SM'='#FAFAD2',\n",
    "                                           'endothelial'='#B22222')"
   ]
  },
  {
   "cell_type": "code",
   "execution_count": null,
   "id": "d3b272e2",
   "metadata": {},
   "outputs": [],
   "source": [
    "color_submucosa <- c('Foveolar'='#F0E68C',\n",
    "                                           'GKN+F'='#F0E68C',\n",
    "                                           'ADH1+GKN1-F'='darkgreen',\n",
    "                                           'PG/Neck1'='#FEE5D9',\n",
    "                                           'Chief'='lightgray',\n",
    "                                           'PC'='#F0E68C',\n",
    "                                       'PG/Neck2'='#FB6A4A',\n",
    "                                            'mDC'='#FFFFCC',\n",
    "                                           'macrophage'='#C7E9B4',\n",
    "                                           'mast'='#7FCDBB',\n",
    "                                           'monocyte'='#41B6C4',\n",
    "                                           'Chief'='salmon',\n",
    "                                           'pDC'='#253494',\n",
    "                                           'neutrophil'='#31A354',\n",
    "                                          # 'Pyloric_deep'='#006837',\n",
    "                                          # 'Ent'='#FEE5D9',\n",
    "                                           #'TA_Ent'='#FB6A4A',\n",
    "                                          # 'Ent2'='#FCAE91',\n",
    "                                           'OLFM4+Epi'='#CB181D',\n",
    "                                           'Gob'='blue',\n",
    "                                           'NE1'='Salmon',\n",
    "                                           'NE2'='yellow',\n",
    "                                           'LEFTY1_epi'='#CB181D',\n",
    "                                           'B-cell'='#87CEEB',\n",
    "                                           'pro_B-cell'='#90EE90',\n",
    "                                           'plasma'='#DDA0DD',\n",
    "                                           'T CD4 memory'='purple',\n",
    "                                           'T CD8 memory'='yellow',\n",
    "                                           'T CD4 naive'='blue',\n",
    "                                           'T CD8 naive'='green',\n",
    "                                           'Treg'='#800000',\n",
    "                                           'NK'='black',\n",
    "                                           #'macrophage'='#F0E68C',\n",
    "                                           #'mast'='#F0E68C',\n",
    "                                           #'mDC'='#F0E68C',\n",
    "                                           #'monocyte'='#F0E68C',\n",
    "                                           #'pDC'='#F0E68C',\n",
    "                                           #'neutrophil'='#EE82EE',\n",
    "                                           'CCL11+FB'='#4682B4',\n",
    "                                           'KLF+FB'='Cyan',\n",
    "                                           'PDGFR+FB'='Gray',\n",
    "                                           'pericyte'='pink',\n",
    "                                           'FibSmo'='#FFD700',\n",
    "                                           'Stromal'='#ADFF2F',\n",
    "                                           'pericyte_SM'='#FAFAD2',\n",
    "                                           'endothelial'='red')"
   ]
  },
  {
   "cell_type": "code",
   "execution_count": null,
   "id": "da03d295",
   "metadata": {
    "tags": []
   },
   "outputs": [],
   "source": [
    "# Visualize ICF expression\n",
    "options(repr.plot.width=28, repr.plot.height=28)\n",
    "spatInSituPlotPoints(smallfov2, show_image = FALSE, polygon_alpha = 1,legend_text = 20,\n",
    "                   #  feats = list('CHGA','APOA1','LEFTY1'),\n",
    "                    # feats_color_code = c('green','yellow','black'),\n",
    "                     point_size = 1,\n",
    "                     show_polygon = TRUE,\n",
    "                     polygon_feat_type = 'cell',\n",
    "                     polygon_color = 'white',\n",
    "                     polygon_line_size = 0.1,\n",
    "                     polygon_fill = 'new_clus',\n",
    "                     polygon_fill_as_factor = TRUE,\n",
    "                     polygon_fill_code = color_submucosa,\n",
    "                     background_color = 'white',\n",
    "                     coord_fix_ratio = TRUE)"
   ]
  },
  {
   "cell_type": "code",
   "execution_count": null,
   "id": "55d85478",
   "metadata": {},
   "outputs": [],
   "source": [
    "# Visualize ICF expression\n",
    "options(repr.plot.width=28, repr.plot.height=28)\n",
    "spatInSituPlotPoints(smallfov, show_image = FALSE, polygon_alpha = 1,legend_text = 20,\n",
    "                   #  feats = list('CHGA','APOA1','LEFTY1'),\n",
    "                    # feats_color_code = c('green','yellow','black'),\n",
    "                     point_size = 1,\n",
    "                     show_polygon = TRUE,\n",
    "                     polygon_feat_type = 'cell',\n",
    "                     polygon_color = 'white',\n",
    "                     polygon_line_size = 0.1,\n",
    "                     polygon_fill = 'new_clus',\n",
    "                     polygon_fill_as_factor = TRUE,\n",
    "                     polygon_fill_code = color_submucosa,\n",
    "                     background_color = 'white',\n",
    "                     coord_fix_ratio = TRUE)"
   ]
  },
  {
   "cell_type": "code",
   "execution_count": null,
   "id": "d03dc453",
   "metadata": {},
   "outputs": [],
   "source": [
    "# Visualize ICF expression\n",
    "options(repr.plot.width=28, repr.plot.height=28)\n",
    "spatInSituPlotPoints(smallfov, show_image = FALSE, polygon_alpha = 1,legend_text = 20,\n",
    "                   #  feats = list('CHGA','APOA1','LEFTY1'),\n",
    "                    # feats_color_code = c('green','yellow','black'),\n",
    "                     point_size = 1,\n",
    "                     show_polygon = TRUE,\n",
    "                     polygon_feat_type = 'cell',\n",
    "                     polygon_color = 'white',\n",
    "                     polygon_line_size = 0.1,\n",
    "                     polygon_fill = 'Tissue_spatial_region',\n",
    "                     polygon_fill_as_factor = TRUE,\n",
    "                     background_color = 'white',\n",
    "                     coord_fix_ratio = TRUE)"
   ]
  },
  {
   "cell_type": "code",
   "execution_count": null,
   "id": "c1c4610b",
   "metadata": {},
   "outputs": [],
   "source": [
    "smallfov <- subsetGiotto(fov_join, \n",
    "                         cell_ids = fov_join@cell_metadata$cell$rna$cell_ID[grepl('Fundic-fov013',fov_join@cell_metadata$cell$rna$cell_ID)])    "
   ]
  },
  {
   "cell_type": "code",
   "execution_count": null,
   "id": "e8242c0d",
   "metadata": {},
   "outputs": [],
   "source": [
    "# Visualize ICF expression\n",
    "options(repr.plot.width=28, repr.plot.height=28)\n",
    "spatInSituPlotPoints(smallfov, show_image = FALSE, polygon_alpha = 1,legend_text = 20,\n",
    "                   #  feats = list('CHGA','APOA1','LEFTY1'),\n",
    "                    # feats_color_code = c('green','yellow','black'),\n",
    "                     point_size = 1,\n",
    "                     show_polygon = TRUE,\n",
    "                     polygon_feat_type = 'cell',\n",
    "                     polygon_color = 'white',\n",
    "                     polygon_line_size = 0.1,\n",
    "                     polygon_fill = 'new_clus',\n",
    "                     polygon_fill_as_factor = TRUE,\n",
    "                     polygon_fill_code = color_set,\n",
    "                     background_color = 'white',\n",
    "                     coord_fix_ratio = TRUE)"
   ]
  },
  {
   "cell_type": "code",
   "execution_count": null,
   "id": "25c1aecb",
   "metadata": {},
   "outputs": [],
   "source": [
    "# Visualize ICF expression\n",
    "options(repr.plot.width=28, repr.plot.height=28)\n",
    "spatInSituPlotPoints(smallfov, show_image = FALSE, polygon_alpha = 1,legend_text = 20,background_color = 'white',\n",
    "                     feats = list('FZD5','WNT5A'),\n",
    "                     feats_color_code = c('green','black'),\n",
    "                     point_size = 3,\n",
    "                     show_polygon = TRUE,\n",
    "                     polygon_feat_type = 'cell',\n",
    "                     polygon_color = 'white',\n",
    "                     polygon_line_size = 0.1,\n",
    "                     polygon_fill = 'new_clus',\n",
    "                     polygon_fill_as_factor = TRUE,\n",
    "                     polygon_fill_code = color_set,\n",
    "                     coord_fix_ratio = TRUE)"
   ]
  },
  {
   "cell_type": "code",
   "execution_count": null,
   "id": "afdfdaac",
   "metadata": {},
   "outputs": [],
   "source": [
    "# Visualize ICF expression\n",
    "options(repr.plot.width=28, repr.plot.height=28)\n",
    "spatInSituPlotPoints(smallfov, show_image = FALSE, polygon_alpha = 1,legend_text = 20,background_color = 'white',\n",
    "                     feats = list('IGF1','IGF1R'),\n",
    "                     feats_color_code = c('green','black'),\n",
    "                     point_size = 3,\n",
    "                     show_polygon = TRUE,\n",
    "                     polygon_feat_type = 'cell',\n",
    "                     polygon_color = 'white',\n",
    "                     polygon_line_size = 0.1,\n",
    "                     polygon_fill = 'new_clus',\n",
    "                     polygon_fill_as_factor = TRUE,\n",
    "                     polygon_fill_code = color_set,\n",
    "                     coord_fix_ratio = TRUE)"
   ]
  },
  {
   "cell_type": "code",
   "execution_count": null,
   "id": "d237cbc4",
   "metadata": {},
   "outputs": [],
   "source": [
    "1+1"
   ]
  },
  {
   "cell_type": "code",
   "execution_count": null,
   "id": "5817cd15",
   "metadata": {},
   "outputs": [],
   "source": [
    "# show all the significant interactions (L-R pairs) associated with certain signaling pathways\n",
    "options(repr.plot.width=8,repr.plot.height=4)\n",
    "netVisual_bubble(cellchat_all, signaling='IGF')\n",
    "#> Comparing communications on a single object"
   ]
  },
  {
   "cell_type": "code",
   "execution_count": null,
   "id": "0bbe7d4a",
   "metadata": {},
   "outputs": [],
   "source": []
  }
 ],
 "metadata": {
  "kernelspec": {
   "display_name": "Guitto_suite",
   "language": "R",
   "name": "ir"
  },
  "language_info": {
   "codemirror_mode": "r",
   "file_extension": ".r",
   "mimetype": "text/x-r-source",
   "name": "R",
   "pygments_lexer": "r",
   "version": "4.2.2"
  }
 },
 "nbformat": 4,
 "nbformat_minor": 5
}
